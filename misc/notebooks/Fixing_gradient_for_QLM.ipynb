{
 "cells": [
  {
   "cell_type": "code",
   "execution_count": 1,
   "metadata": {},
   "outputs": [
    {
     "name": "stderr",
     "output_type": "stream",
     "text": [
      "/home/gsilvi/miniforge3/envs/NEASQC4wMYQLM/lib/python3.9/site-packages/pyscf/lib/misc.py:46: H5pyDeprecationWarning: Using default_file_mode other than 'r' is deprecated. Pass the mode to h5py.File() instead.\n",
      "  h5py.get_config().default_file_mode = 'a'\n"
     ]
    }
   ],
   "source": [
    "import os\n",
    "os.environ[\"TMPDIR\"] = \"/tmp\"  # set the folder for temporary files\n",
    "\n",
    "from qiskit.opflow.gradients import Gradient, NaturalGradient\n",
    "from qiskit_mod.qiskit_ter import LinCombFullmod,LinCombMod\n",
    "from qiskit_nature.algorithms import VQEUCCFactory,GroundStateEigensolver\n",
    "from qiskit.algorithms.optimizers import SLSQP,L_BFGS_B,SPSA, COBYLA\n",
    "from qiskit_nature.circuit.library import HartreeFock\n",
    "from qiskit.circuit.library import TwoLocal\n",
    "from qiskit_nature.mappers.second_quantization import JordanWignerMapper, ParityMapper\n",
    "from qiskit_nature.converters.second_quantization import QubitConverter\n",
    "from qiskit_nature.drivers.second_quantization.pyscfd import PySCFDriver\n",
    "from qiskit_nature.drivers import UnitsType, Molecule\n",
    "from qiskit_nature.problems.second_quantization import ElectronicStructureProblem\n",
    "from qiskit_nature.transformers.second_quantization.electronic import FreezeCoreTransformer\n",
    "from qiskit import Aer\n",
    "from qiskit.utils import QuantumInstance"
   ]
  },
  {
   "cell_type": "code",
   "execution_count": 2,
   "metadata": {},
   "outputs": [],
   "source": [
    "molecule = 'H .0 {0} {0}; H .0 {0} -{0};'\n",
    "orbitals_to_remove = []\n",
    "basis = 'sto3g'\n",
    "optimizer = L_BFGS_B(maxiter=1000)\n",
    "qubit_converter = QubitConverter(mapper=ParityMapper(), two_qubit_reduction=True) \n",
    "molecule_set = molecule.format(1/2)\n",
    "driver = PySCFDriver(atom=molecule_set,\n",
    "                        unit=UnitsType.ANGSTROM,\n",
    "                        basis=basis)\n",
    "#qmolecule = driver.run()\n",
    "es_problem = ElectronicStructureProblem(driver,\n",
    "                                        q_molecule_transformers = [FreezeCoreTransformer(freeze_core = True,\n",
    "                                                                                        remove_orbitals = orbitals_to_remove\n",
    "                                                                                        )]\n",
    "                                        )\n",
    "second_q_op = es_problem.second_q_ops()\n",
    "qubit_op = qubit_converter.convert(second_q_op[0],\n",
    "                                    num_particles = es_problem.num_particles) #this line is useful for initialize the converter and get the right hartree-fock number of qubits\n",
    "particle_number = es_problem.properties_transformed.get_property(\"ParticleNumber\")"
   ]
  },
  {
   "cell_type": "code",
   "execution_count": 3,
   "metadata": {},
   "outputs": [],
   "source": [
    "from random import seed\n",
    "\n",
    "\n",
    "shots = 1024\n",
    "qiskitbackend = Aer.get_backend('statevector_simulator')\n",
    "quantum_instance = QuantumInstance(backend=qiskitbackend,seed_simulator=42, seed_transpiler=42, shots=10000)\n",
    "from qat.qpus import PyLinalg\n",
    "qlm_qpu = PyLinalg()"
   ]
  },
  {
   "cell_type": "code",
   "execution_count": 4,
   "metadata": {},
   "outputs": [],
   "source": [
    "from qiskit.circuit import ParameterExpression, ParameterVector, Parameter\n",
    "from typing import Callable, Iterable, List, Optional, Tuple, Union,  cast ,Dict\n",
    "from qiskit.providers import BaseBackend, Backend\n",
    "from qiskit.opflow import ExpectationBase, CircuitSampler, PauliExpectation, OperatorStateFn, CircuitStateFn, PauliOp, ListOp, SummedOp,ComposedOp\n",
    "from qiskit.quantum_info import Pauli\n",
    "from qiskit_mod.wrapper2myqlm import *\n",
    "LIST_OF_GATES = ['i', 'id', 'iden', 'u', 'u0', 'u1', 'u2', 'u3', 'x', 'y', 'z', 'h', 's', 'sdg', 't', 'tdg', 'rx', 'ry', 'rz', 'cx', 'cy', 'cz', 'ch', 'crz', 'cu1', 'cu3', 'swap', 'ccx', 'cswap', 'r']\n",
    "\n",
    "def extract_and_compute_circ(self, operator: OperatorBase,prev_coeff=1) -> None:\n",
    "            \"\"\"\n",
    "            Recursively extract the ``CircuitStateFns`` contained in operator into the\n",
    "            ``_circuit_ops_cache`` field.\n",
    "            \"\"\"\n",
    "            # print(operator,'vs',operator.coeff)\n",
    "            #print('Coeff',operator.coeff, type(operator))\n",
    "            if isinstance(operator, ComposedOp):\n",
    "               \n",
    "                coefficient = prev_coeff*operator.coeff\n",
    "                for i,op in enumerate(operator.oplist):\n",
    "                    if isinstance(op,CircuitStateFn):\n",
    "                        circuit = op.to_circuit_op()\n",
    "                        #coefficient*=op.coeff\n",
    "                    elif isinstance(op,OperatorStateFn):\n",
    "                        operator_to_run = op\n",
    "                        #coefficient*=op.coeff\n",
    "                    elif isinstance(op,ListOp):\n",
    "                        for op2 in op.oplist:\n",
    "                            if isinstance(op2,CircuitStateFn):\n",
    "                                circuit = op2.to_circuit_op()\n",
    "                                #coefficient*=op2.coeff\n",
    "                if circuit is not None and operator_to_run is not None:\n",
    "                    value = run_circuit_in_QLM(self,circuit,operator_to_run, coefficient)\n",
    "                    #print('Computed',value, 'with coefficient',coefficient)\n",
    "                return value\n",
    "                \n",
    "            elif isinstance(operator, SummedOp):\n",
    "                list_of_values=[]\n",
    "                coefficient = prev_coeff*operator.coeff\n",
    "                for i,op in enumerate(operator.oplist):\n",
    "                    list_of_values.append(extract_and_compute_circ(self, op,prev_coeff=coefficient))\n",
    "                summation= sum(list_of_values)\n",
    "                #print('Computed sum',summation)\n",
    "                return summation\n",
    "\n",
    "            elif isinstance(operator, ListOp):\n",
    "                list_of_values=[]\n",
    "                \n",
    "                coefficient = prev_coeff*operator.coeff\n",
    "                #print(coefficient)\n",
    "                for i,op in enumerate(operator.oplist):\n",
    "                    list_of_values.append(extract_and_compute_circ(self, op, prev_coeff=coefficient))\n",
    "                return list_of_values\n",
    "\n",
    "\n",
    "\n",
    "def run_circuit_in_QLM(self,circuit,operator, coefficient):\n",
    "\n",
    "    operator_pauli = operator._primitive.to_pauli_op()\n",
    "    operator_meas_inv = PauliOp(primitive= Pauli(operator_pauli.primitive.to_label()[::-1]), coeff=1)#operator_pauli.coeff)\n",
    "    transpiled_circ = transpile(circuit.to_circuit(),\n",
    "                            basis_gates=LIST_OF_GATES,\n",
    "                            optimization_level=0)\n",
    "    qcirc = qiskit_to_qlm(transpiled_circ)\n",
    "    job = qcirc.to_job(observable=Observable(operator_meas_inv.num_qubits, matrix=operator_meas_inv.to_matrix()),nbshots=self.nb_shots) \n",
    "    result_temp = self.execute(job)\n",
    "    return coefficient * np.real(result_temp.value)\n",
    "\n",
    "\n",
    "\n",
    "\n",
    "def gradient_wrapper_for_QLM(\n",
    "        self,\n",
    "        operator: OperatorBase,\n",
    "        bind_params: Union[ParameterExpression, ParameterVector, List[ParameterExpression]],\n",
    "        grad_params: Optional[\n",
    "            Union[\n",
    "                ParameterExpression,\n",
    "                ParameterVector,\n",
    "                List[ParameterExpression],\n",
    "                Tuple[ParameterExpression, ParameterExpression],\n",
    "                List[Tuple[ParameterExpression, ParameterExpression]],\n",
    "            ]\n",
    "        ] = None,\n",
    "        backend: Optional[Union[BaseBackend, Backend, QuantumInstance]] = None,\n",
    "        expectation: Optional[ExpectationBase] = None,\n",
    "    ) -> Callable[[Iterable], np.ndarray]:\n",
    "        \"\"\"Get a callable function which provides the respective gradient, Hessian or QFI for given\n",
    "        parameter values. This callable can be used as gradient function for optimizers.\n",
    "\n",
    "        Args:\n",
    "            operator: The operator for which we want to get the gradient, Hessian or QFI.\n",
    "            bind_params: The operator parameters to which the parameter values are assigned.\n",
    "            grad_params: The parameters with respect to which we are taking the gradient, Hessian\n",
    "                or QFI. If grad_params = None, then grad_params = bind_params\n",
    "            backend: The quantum backend or QuantumInstance to use to evaluate the gradient,\n",
    "                Hessian or QFI.\n",
    "            expectation: The expectation converter to be used. If none is set then\n",
    "                `PauliExpectation()` is used.\n",
    "\n",
    "        Returns:\n",
    "            Function to compute a gradient, Hessian or QFI. The function\n",
    "            takes an iterable as argument which holds the parameter values.\n",
    "        \"\"\"\n",
    "        from qiskit.opflow.converters import CircuitSampler\n",
    "\n",
    "\n",
    "        if not grad_params:\n",
    "            grad_params = bind_params\n",
    "\n",
    "        grad = self.convert(operator, grad_params)\n",
    "        if expectation is None:\n",
    "            expectation = PauliExpectation()\n",
    "        grad = expectation.convert(grad)\n",
    "        #print(grad)\n",
    "        #print('General operator',operator)\n",
    "        #print('bind_params',bind_params)\n",
    "\n",
    "\n",
    "        def gradient_fn(p_values):\n",
    "            p_values_dict = dict(zip(bind_params, p_values))\n",
    "            if not backend:\n",
    "                converter = grad.assign_parameters(p_values_dict)\n",
    "                return np.real(converter.eval())\n",
    "            else:\n",
    "                p_values_dict = {k: [v] for k, v in p_values_dict.items()} # remake the dict with list of values\n",
    "                # converter = grad.assign_parameters(p_values_dict) # assign the values to the parameters\n",
    "                #print(converter)\n",
    "                #converted_circ = expectation.convert(grad)\n",
    "                circuit_assigned = grad.assign_parameters(p_values_dict) # assign the values to the parameters\n",
    "                dictio = extract_and_compute_circ(self,circuit_assigned) \n",
    "                #print('LIST',dictio[0], dictio[1])\n",
    "                \n",
    "                # set up the matrix here\n",
    "                val = dictio[1]\n",
    "                matrix = np.zeros((len(val),len(val)))\n",
    "                upper_w_diag = np.triu_indices(len(val))\n",
    "                matrix[upper_w_diag] = np.array(np.concatenate(val))\n",
    "                i_upper = np.triu_indices(len(val), 1)\n",
    "                i_lower = np.tril_indices(len(val), -1)\n",
    "                matrix[i_lower] = matrix[i_upper]\n",
    "\n",
    "                \n",
    "                converter = CircuitSampler(backend=backend).convert(grad, p_values_dict)\n",
    "                #print('Qiskit first 5 circuits',[op.eval() for op in converter[0][0][0].oplist])\n",
    "                #print('Qiskit first sums',[op.eval() for op in converter[0][0].oplist])\n",
    "                QLM_result = converter[0].combo_fn([dictio[0],matrix])\n",
    "                # print('QLM_result',QLM_result)\n",
    "                # print('Qiskit result',np.real(converter.eval()[0]))\n",
    "\n",
    "                return QLM_result\n",
    "                \n",
    "\n",
    "        return gradient_fn"
   ]
  },
  {
   "cell_type": "code",
   "execution_count": 5,
   "metadata": {},
   "outputs": [],
   "source": [
    "def create_and_run_job(self,\n",
    "                       operator_meas: OperatorBase,\n",
    "                       params: dict):\n",
    "            \"\"\" Compose the qlm job from ansatz binded to params and measure operato on it\"\"\"\n",
    "            # check if the parameters passed are as a range or single value\n",
    "            if params is not None and len(params.keys()) > 0:\n",
    "                p_0 = list(params.values())[0]\n",
    "                if isinstance(p_0, (list, np.ndarray)):\n",
    "                    num_parameterizations = len(p_0)\n",
    "                    param_bindings = [\n",
    "                        {param: value_list[i] for param, value_list in params.items()}\n",
    "                        for i in range(num_parameterizations)\n",
    "                    ]\n",
    "                else:\n",
    "                    num_parameterizations = 1\n",
    "                    param_bindings = [params]\n",
    "\n",
    "            else:\n",
    "                param_bindings = None\n",
    "                num_parameterizations = 1\n",
    "            results = []\n",
    "            \n",
    "            for circ_params in param_bindings:\n",
    "                ansatz_in_use = self._ansatz.assign_parameters(circ_params)\n",
    "                transpiled_circ = transpile(ansatz_in_use,\n",
    "                                            basis_gates=LIST_OF_GATES,\n",
    "                                            optimization_level=0)\n",
    "                qcirc = qiskit_to_qlm(transpiled_circ)\n",
    "                job = qcirc.to_job(observable=Observable(operator_meas.num_qubits, matrix=operator_meas.to_matrix()),nbshots=self.nb_shots) \n",
    "                # print('Shots= ',job.nbshots)\n",
    "                # START COMPUTATION\n",
    "                result_temp = self.execute(job)\n",
    "\n",
    "                if isinstance(result_temp, AsyncResult):  # chek if we are dealing with remote job\n",
    "                    #case for local plugin/remote qpu\n",
    "                    result = result_temp.join()\n",
    "                    \n",
    "                else:\n",
    "                    result = result_temp\n",
    "                #Qiskit check\n",
    "                # sampler = CircuitSampler(self.quantum_instance)\n",
    "                # exp = ~StateFn(operator_meas) @ CircuitStateFn(transpiled_circ)\n",
    "                # converted = sampler.convert(exp)\n",
    "                # print('Evaluation (qiskit)',converted.eval(),'vs QLM',result.value)\n",
    "\n",
    "                results.append(result.value)\n",
    "            \n",
    "            return results\n",
    "\n",
    "def get_energy_evaluation_QLM(\n",
    "        self,\n",
    "        operator: OperatorBase,\n",
    "        return_expectation: bool = False,\n",
    "    ) -> Callable[[np.ndarray], Union[float, List[float]]]:\n",
    "        \"\"\"Returns a function handle to evaluates the energy at given parameters for the ansatz.\n",
    "\n",
    "        This is the objective function to be passed to the optimizer that is used for evaluation.\n",
    "\n",
    "        Args:\n",
    "            operator: The operator whose energy to evaluate.\n",
    "            return_expectation: If True, return the ``ExpectationBase`` expectation converter used\n",
    "                in the construction of the expectation value. Useful e.g. to evaluate other\n",
    "                operators with the same expectation value converter.\n",
    "            MODIFIED: submit the job to QLM qpus\n",
    "\n",
    "\n",
    "        Returns:\n",
    "            Energy of the hamiltonian of each parameter, and, optionally, the expectation\n",
    "            converter.\n",
    "\n",
    "        Raises:\n",
    "            RuntimeError: If the circuit is not parameterized (i.e. has 0 free parameters).\n",
    "\n",
    "        \"\"\"\n",
    "        num_parameters = self.ansatz.num_parameters\n",
    "        if num_parameters == 0:\n",
    "            raise RuntimeError(\"The ansatz must be parameterized, but has 0 free parameters.\")\n",
    "\n",
    "        expect_op, expectation = self.construct_expectation(\n",
    "            self._ansatz_params, operator, return_expectation=True\n",
    "        )\n",
    "        reversed_operator = sum([PauliOp(primitive= Pauli(op.to_pauli_op().primitive.to_label()[::-1]), coeff=op.to_pauli_op().coeff) for op in operator])\n",
    "        #print('Operator type',type(reversed_operator), reversed_operator)\n",
    "        #print('Here',expectation.convert(StateFn(operator, is_measurement=True)).to_matrix_op())\n",
    "\n",
    "        \n",
    "\n",
    "        def energy_evaluation(parameters):\n",
    "            parameter_sets = np.reshape(parameters, (-1, num_parameters))\n",
    "            param_bindings = dict(zip(self._ansatz_params, parameter_sets.transpose().tolist())) # combine values to parameters symbols\n",
    "            #print('param_bindings',param_bindings)\n",
    "            sampled_expect_op = self._circuit_sampler.convert(expect_op, params=param_bindings)\n",
    "            print('Qiskit result EE = ',np.real(sampled_expect_op.eval()))\n",
    "            means = np.real(create_and_run_job(self,reversed_operator, param_bindings)) #important to reverse the operator because of different conventions QLM/Qiskit\n",
    "            print('QLM result EE  =',means)\n",
    "            if self._callback is not None:\n",
    "                parameter_sets = np.reshape(parameters, (-1, num_parameters))\n",
    "                param_bindings = dict(zip(self._ansatz_params, parameter_sets.transpose().tolist()))\n",
    "                variance = np.real(expectation.compute_variance(self._circuit_sampler.convert(expect_op, params=param_bindings)))\n",
    "                estimator_error = np.sqrt(variance / self.quantum_instance.run_config.shots)\n",
    "                for i, param_set in enumerate(parameter_sets):\n",
    "                    self._eval_count += 1\n",
    "                    self._callback(self._eval_count, param_set, means[i], estimator_error[i])\n",
    "            else:\n",
    "                self._eval_count += len(means)\n",
    "            return means if len(means) > 1 else means[0]\n",
    "\n",
    "        if return_expectation:\n",
    "            return energy_evaluation, expectation\n",
    "\n",
    "        return energy_evaluation"
   ]
  },
  {
   "cell_type": "code",
   "execution_count": 6,
   "metadata": {},
   "outputs": [],
   "source": [
    "from qiskit_mod.wrapper2myqlm import *\n",
    "from qiskit_mod.my_junction import IterativeExplorationVQE,get_energy_evaluation_QLM\n",
    "from qiskit.opflow.gradients import DerivativeBase\n",
    "\n",
    "#\n",
    "use_QLM = True\n",
    "if use_QLM:\n",
    "    VQE.get_energy_evaluation = get_energy_evaluation_QLM #override the function, class-wide\n",
    "    DerivativeBase.gradient_wrapper = gradient_wrapper_for_QLM\n",
    "    plugin_in_use = IterativeExplorationVQE"
   ]
  },
  {
   "cell_type": "code",
   "execution_count": 7,
   "metadata": {},
   "outputs": [],
   "source": [
    "nat_grad = NaturalGradient(grad_method=LinCombMod(img=False),\n",
    "                               qfi_method=LinCombFullmod(),\n",
    "                               regularization='ridge')\n",
    "hartree_fock_state = HartreeFock(particle_number.num_spin_orbitals,\n",
    "                                    (particle_number.num_alpha, particle_number.num_beta),\n",
    "                                    qubit_converter)\n",
    "num_qubits = hartree_fock_state.num_qubits\n",
    "ansz = TwoLocal(hartree_fock_state.num_qubits,\n",
    "                    rotation_blocks=['ry'], \n",
    "                    entanglement_blocks='cx',\n",
    "                    entanglement=\"full\",\n",
    "                    reps=1,\n",
    "                    initial_state=hartree_fock_state)\n",
    "Im_solver = VQEUCCFactory(quantum_instance,\n",
    "                            gradient=nat_grad,\n",
    "                            optimizer=L_BFGS_B(maxiter=1000), # good optimizer for Nat. Grad.\n",
    "                            ansatz=ansz.decompose())\n",
    "\n"
   ]
  },
  {
   "cell_type": "code",
   "execution_count": 8,
   "metadata": {},
   "outputs": [
    {
     "name": "stdout",
     "output_type": "stream",
     "text": [
      "0\n",
      "Imaginary time evo. , -1.1011502603283905 ,exec_time= 4\n"
     ]
    },
    {
     "name": "stderr",
     "output_type": "stream",
     "text": [
      "/home/gsilvi/.local/lib/python3.9/site-packages/qiskit/aqua/__init__.py:86: DeprecationWarning: The package qiskit.aqua is deprecated. It was moved/refactored to qiskit-terra For more information see <https://github.com/Qiskit/qiskit-aqua/blob/main/README.md#migration-guide>\n",
      "  warn_package('aqua', 'qiskit-terra')\n"
     ]
    }
   ],
   "source": [
    "calcIevo = GroundStateEigensolver(qubit_converter,\n",
    "                                    Im_solver)\n",
    "\n",
    "if use_QLM:\n",
    "    stack = build_QLM_stack(calcIevo,molecule_set,\n",
    "                        plugin_in_use,\n",
    "                        qlm_qpu,\n",
    "                        shots = 0,\n",
    "                        remove_orbitals = orbitals_to_remove)\n",
    "    resIevo = run_QLM_stack(stack,num_qubits,0)\n",
    "    # resIevo = calcIevo.solve(es_problem)\n",
    "\n",
    "    print('Imaginary time evo. ,',\n",
    "            resIevo.total_energies, ',exec_time=',\n",
    "            len(resIevo.raw_result.optimal_parameters))\n",
    "else:\n",
    "    resIevo= calcIevo.solve(es_problem)\n",
    "    print('Imaginary time evo. ,',\n",
    "        resIevo.total_energies, ',exec_time=',\n",
    "        len(resIevo.raw_result.optimal_parameters))"
   ]
  },
  {
   "cell_type": "markdown",
   "metadata": {},
   "source": [
    "Good value to compare: -1.10115"
   ]
  },
  {
   "cell_type": "code",
   "execution_count": 9,
   "metadata": {},
   "outputs": [],
   "source": [
    "from qiskit.opflow import (StateFn, Zero, One, Plus, Minus, H,\n",
    "                           DictStateFn, VectorStateFn, CircuitStateFn, OperatorStateFn)\n",
    "from qiskit.opflow import I, X, Y, Z \n",
    "\n",
    "\n",
    "opera =((-1.0692434904119297-8.326672684688674e-17j) * I^I) #- (0.267528649942086 * Z^I)\\\n",
    "#   +( (0.2675286499420861-1.3877787807814457e-17j) * I^Z)\\\n",
    "#   + ((-0.009014930058166226-1.3877787807814457e-17j) * Z^Z)\\\n",
    "#   + ((0.19679058348547016+3.469446951953614e-18j) * X^X)\n"
   ]
  },
  {
   "cell_type": "code",
   "execution_count": 10,
   "metadata": {},
   "outputs": [],
   "source": [
    "gradf = calcIevo.solver.gradient.gradient_wrapper(~StateFn(opera) @ StateFn(ansz.decompose()),list(ansz.parameters), backend = quantum_instance)"
   ]
  },
  {
   "cell_type": "code",
   "execution_count": 11,
   "metadata": {},
   "outputs": [],
   "source": [
    "conv =gradf([0.324, 0.54, 1.2, 9.99])"
   ]
  },
  {
   "cell_type": "code",
   "execution_count": 12,
   "metadata": {},
   "outputs": [
    {
     "name": "stderr",
     "output_type": "stream",
     "text": [
      "<>:1: SyntaxWarning: list indices must be integers or slices, not tuple; perhaps you missed a comma?\n",
      "<>:1: SyntaxWarning: list indices must be integers or slices, not tuple; perhaps you missed a comma?\n",
      "/tmp/ipykernel_58739/3874327922.py:1: SyntaxWarning: list indices must be integers or slices, not tuple; perhaps you missed a comma?\n",
      "  mat = np.asarray([[0.9999999999999996, 0.0, 0.5141359916531129, 0.0][0.0,0.9999999999999994,0.0, -0.9479695613221306], [0.9999999999999996, 0.27306097260886564], [0.9999999999999997]])\n"
     ]
    },
    {
     "ename": "TypeError",
     "evalue": "list indices must be integers or slices, not tuple",
     "output_type": "error",
     "traceback": [
      "\u001b[0;31m---------------------------------------------------------------------------\u001b[0m",
      "\u001b[0;31mTypeError\u001b[0m                                 Traceback (most recent call last)",
      "\u001b[0;32m/tmp/ipykernel_58739/3874327922.py\u001b[0m in \u001b[0;36m<module>\u001b[0;34m\u001b[0m\n\u001b[0;32m----> 1\u001b[0;31m \u001b[0mmat\u001b[0m \u001b[0;34m=\u001b[0m \u001b[0mnp\u001b[0m\u001b[0;34m.\u001b[0m\u001b[0masarray\u001b[0m\u001b[0;34m(\u001b[0m\u001b[0;34m[\u001b[0m\u001b[0;34m[\u001b[0m\u001b[0;36m0.9999999999999996\u001b[0m\u001b[0;34m,\u001b[0m \u001b[0;36m0.0\u001b[0m\u001b[0;34m,\u001b[0m \u001b[0;36m0.5141359916531129\u001b[0m\u001b[0;34m,\u001b[0m \u001b[0;36m0.0\u001b[0m\u001b[0;34m]\u001b[0m\u001b[0;34m[\u001b[0m\u001b[0;36m0.0\u001b[0m\u001b[0;34m,\u001b[0m\u001b[0;36m0.9999999999999994\u001b[0m\u001b[0;34m,\u001b[0m\u001b[0;36m0.0\u001b[0m\u001b[0;34m,\u001b[0m \u001b[0;34m-\u001b[0m\u001b[0;36m0.9479695613221306\u001b[0m\u001b[0;34m]\u001b[0m\u001b[0;34m,\u001b[0m \u001b[0;34m[\u001b[0m\u001b[0;36m0.9999999999999996\u001b[0m\u001b[0;34m,\u001b[0m \u001b[0;36m0.27306097260886564\u001b[0m\u001b[0;34m]\u001b[0m\u001b[0;34m,\u001b[0m \u001b[0;34m[\u001b[0m\u001b[0;36m0.9999999999999997\u001b[0m\u001b[0;34m]\u001b[0m\u001b[0;34m]\u001b[0m\u001b[0;34m)\u001b[0m\u001b[0;34m\u001b[0m\u001b[0;34m\u001b[0m\u001b[0m\n\u001b[0m\u001b[1;32m      2\u001b[0m \u001b[0;31m#mat = np.asarray([ [0.9999999999999997,0,0,0],[0.9999999999999996, 0.27306097260886564,0,0],[0.9999999999999994, 0.0, -0.9479695613221306,0],[0.9999999999999996, 0.0, 0.5141359916531129, 0.0]])\u001b[0m\u001b[0;34m\u001b[0m\u001b[0;34m\u001b[0m\u001b[0m\n",
      "\u001b[0;31mTypeError\u001b[0m: list indices must be integers or slices, not tuple"
     ]
    }
   ],
   "source": [
    "mat = np.asarray([[0.9999999999999996, 0.0, 0.5141359916531129, 0.0][0.0,0.9999999999999994,0.0, -0.9479695613221306], [0.9999999999999996, 0.27306097260886564], [0.9999999999999997]])\n",
    "#mat = np.asarray([ [0.9999999999999997,0,0,0],[0.9999999999999996, 0.27306097260886564,0,0],[0.9999999999999994, 0.0, -0.9479695613221306,0],[0.9999999999999996, 0.0, 0.5141359916531129, 0.0]])\n"
   ]
  },
  {
   "cell_type": "code",
   "execution_count": null,
   "metadata": {},
   "outputs": [
    {
     "data": {
      "text/plain": [
       "array([-0.27994812,  0.32068078,  1.32423912,  0.24095422])"
      ]
     },
     "execution_count": 666,
     "metadata": {},
     "output_type": "execute_result"
    }
   ],
   "source": [
    "upper_w_diag = np.triu_indices(4)\n",
    "i_upper = np.triu_indices(4, 1)\n",
    "i_lower = np.tril_indices(4, -1)\n",
    "matrix = np.zeros((4,4))\n",
    "valus = [0.9999999999999996, 0.0, 0.5141359916531129, 0.0, 0.9999999999999994, 0.0, -0.9479695613221306, 0.9999999999999996, 0.27306097260886564, 0.9999999999999997]\n",
    "\n",
    "matrix[upper_w_diag] = valus\n",
    "matrix[i_lower] = matrix[i_upper]\n",
    "\n",
    "conv[0].combo_fn([[0.09879583, 0.0264148,  0.32459114, 0.07658635],1/4*matrix])"
   ]
  },
  {
   "cell_type": "code",
   "execution_count": null,
   "metadata": {},
   "outputs": [
    {
     "data": {
      "text/plain": [
       "array([[ 1.        ,  0.        ,  0.51413599,  0.        ],\n",
       "       [ 0.        ,  1.        ,  0.        , -0.94796956],\n",
       "       [ 0.        ,  0.        ,  1.        ,  0.27306097],\n",
       "       [ 0.        ,  0.        ,  0.        ,  1.        ]])"
      ]
     },
     "execution_count": 957,
     "metadata": {},
     "output_type": "execute_result"
    }
   ],
   "source": [
    "\n",
    "val = [[0.9999999999999996, 0.0, 0.5141359916531129, 0.0], [0.9999999999999994, 0.0, -0.9479695613221306], [0.9999999999999996, 0.27306097260886564], [0.9999999999999997]]\n",
    "\n",
    "\n",
    "matrix = np.zeros((4,4))\n",
    "matrix[upper_w_diag] = np.asarray(valus)\n",
    "matrix"
   ]
  },
  {
   "cell_type": "code",
   "execution_count": null,
   "metadata": {},
   "outputs": [
    {
     "name": "stdout",
     "output_type": "stream",
     "text": [
      "[[ 1.          0.          0.51413599  0.        ]\n",
      " [ 0.          1.          0.         -0.94796956]\n",
      " [ 0.51413599  0.          1.          0.27306097]\n",
      " [ 0.         -0.94796956  0.27306097  1.        ]]\n"
     ]
    }
   ],
   "source": [
    "\n",
    "matrix = np.zeros((len(val),len(val)))\n",
    "upper_w_diag = np.triu_indices(len(val))\n",
    "matrix[upper_w_diag] = np.array(np.concatenate(val))\n",
    "i_upper = np.triu_indices(len(val), 1)\n",
    "i_lower = np.tril_indices(len(val), -1)\n",
    "matrix[i_lower] = matrix[i_upper]\n",
    "print(matrix)"
   ]
  }
 ],
 "metadata": {
  "kernelspec": {
   "display_name": "Python 3.9.7 ('NEASQC4wMYQLM')",
   "language": "python",
   "name": "python3"
  },
  "language_info": {
   "codemirror_mode": {
    "name": "ipython",
    "version": 3
   },
   "file_extension": ".py",
   "mimetype": "text/x-python",
   "name": "python",
   "nbconvert_exporter": "python",
   "pygments_lexer": "ipython3",
   "version": "3.9.7"
  },
  "orig_nbformat": 4,
  "vscode": {
   "interpreter": {
    "hash": "8fecc24a9c06863268eef22b722bc39970e040fd4701f3b867876035cf1a5542"
   }
  }
 },
 "nbformat": 4,
 "nbformat_minor": 2
}
