{
 "cells": [
  {
   "cell_type": "code",
   "execution_count": 1,
   "metadata": {},
   "outputs": [
    {
     "name": "stdout",
     "output_type": "stream",
     "text": [
      "0.18.2\n"
     ]
    }
   ],
   "source": [
    "import numpy as np\n",
    "from qiskit.opflow import StateFn, PauliExpectation, Zero, One,Z,X,I,PauliOp,ListOp, AerPauliExpectation,DictStateFn,MatrixOp,PrimitiveOp, MatrixExpectation,ComposedOp\n",
    "from qiskit.circuit.library import TwoLocal,EfficientSU2,UGate\n",
    "from qiskit.opflow.state_fns import CircuitStateFn\n",
    "from qiskit.opflow.converters import CircuitSampler\n",
    "from qiskit import Aer\n",
    "from qiskit.utils.quantum_instance import QuantumInstance\n",
    "from qiskit.test.mock import FakeMontreal\n",
    "from qiskit.providers.aer.noise import NoiseModel\n",
    "\n",
    "import qiskit\n",
    "print(qiskit.__version__)\n",
    "\n",
    "from qiskit.providers.aer.library import SaveExpectationValueVariance\n",
    "\n",
    "from qiskit.algorithms.optimizers import COBYLA\n",
    "from qiskit.algorithms import VQE\n",
    "from qiskit_nature.converters.second_quantization import QubitConverter\n",
    "from qiskit_nature.mappers.second_quantization import JordanWignerMapper\n",
    "from qiskit.quantum_info.operators import Operator\n",
    "from qiskit.circuit import Parameter\n",
    "from qiskit.providers.aer import AerSimulator,QasmSimulator\n",
    "\n",
    "\n",
    "from random import random,seed\n",
    "from math import pi\n",
    "import matplotlib.pyplot as plt\n",
    "plt.rcParams.update({'font.size': 18})\n",
    "\n",
    "from scipy.optimize import curve_fit\n",
    "\n",
    "#my functions\n",
    "from enhanced_sampling import EnhancedSampling\n",
    "\n",
    "# import EnhancedSampling\n",
    "\n",
    "\n",
    "def is_unitary(m):\n",
    "    return np.allclose(np.eye(m.shape[0]), m.H * m)"
   ]
  },
  {
   "cell_type": "code",
   "execution_count": 2,
   "metadata": {},
   "outputs": [],
   "source": [
    "def update_dict(old_dict, sampler, num_qubits):\n",
    "    new_dict = old_dict.copy()\n",
    "    events = sampler.oplist[1].execution_results['counts'].items()\n",
    "    for key,item in events:\n",
    "        binary_value = bin(int(key,16))[2:].zfill(num_qubits)\n",
    "        if binary_value not in new_dict.keys():\n",
    "            new_dict[binary_value]=item\n",
    "        else:\n",
    "            new_dict[binary_value]+=item \n",
    "    return new_dict\n",
    "def get_amplitudes(old_dict,num_shot):\n",
    "    new_dict = {}\n",
    "    for key,item in old_dict.items():\n",
    "            new_dict[key]= np.sqrt(item/num_shot)\n",
    "    return new_dict\n",
    "def get_RMSE(results, true_value):\n",
    "    return np.sqrt(sum([(mu-true_value)**2 for mu in results.values()])/len(results))"
   ]
  },
  {
   "cell_type": "code",
   "execution_count": 3,
   "metadata": {},
   "outputs": [
    {
     "name": "stdout",
     "output_type": "stream",
     "text": [
      "1.0 * ZZZ\n",
      "+ 1.0 * XII\n",
      "+ 1.0 * IXI\n"
     ]
    }
   ],
   "source": [
    "#Declare an Hamiltonian\n",
    "\n",
    "H_first_part = Z ^ Z ^ Z\n",
    "H_second_part = (X ^ I ^ I) + (I ^ X ^ I)\n",
    "\n",
    "#Hamiltonian =  (Z ^ Z) +(X ^ I) + (I ^ X)\n",
    "\n",
    "Hamiltonian =  H_first_part + H_second_part \n",
    "\n",
    "print(Hamiltonian)"
   ]
  },
  {
   "cell_type": "markdown",
   "metadata": {},
   "source": [
    "# Build circuits\n",
    "\n",
    "We need an ansatz circuit, and operators to measure on it.\n",
    "Here we first build the ansatz from EfficientSU(2), define a set of random angles to apply to it.\n",
    "Then we create the simple circuit containing the anstaz and the operators to measure (the Hamiltonian parts)\n",
    "After that, we combine the anstaz with layers of the enhance circuit using fixed x_angles on these layers (=pi/2) to use Chebyshev-like functions, so we can take multiple samples of the same circuit, instead of modifying after each shot(this would means using ELF)"
   ]
  },
  {
   "cell_type": "code",
   "execution_count": 4,
   "metadata": {},
   "outputs": [],
   "source": [
    "# Define global variables\n",
    "num_qubit = Hamiltonian.num_qubits\n",
    "Layers = 3  #Layers of enhanced circuit\n",
    "\n",
    "fixed_x_angles = np.ones(2*Layers)*np.pi/2 # list of pi/2 ,to use CLF insteaf of ELF\n",
    "\n",
    "useNoise = False\n",
    "\n",
    "num_preshots=4000\n",
    "\n",
    "num_postshot=2000\n",
    "\n",
    "repetitions = 1\n",
    "sample_every = 1000\n",
    "\n",
    "steps_pre = max(1,round(num_preshots/sample_every))\n",
    "steps = max(1,round(num_postshot/sample_every))\n",
    "\n",
    "n_points = 10000 #to use for binning"
   ]
  },
  {
   "cell_type": "code",
   "execution_count": 5,
   "metadata": {},
   "outputs": [
    {
     "name": "stdout",
     "output_type": "stream",
     "text": [
      " Random angles assigned to ansatz {ParameterVectorElement(θ[0]): 2.5669066339875286, ParameterVectorElement(θ[1]): 3.4053105645086, ParameterVectorElement(θ[2]): 5.416335802913373, ParameterVectorElement(θ[3]): 1.1100229798922292, ParameterVectorElement(θ[4]): 1.414718991468211, ParameterVectorElement(θ[5]): 0.1828234342134787, ParameterVectorElement(θ[6]): 0.7329369178028627, ParameterVectorElement(θ[7]): 0.05532737919413898, ParameterVectorElement(θ[8]): 0.9845144111728377, ParameterVectorElement(θ[9]): 3.227755283768095, ParameterVectorElement(θ[10]): 6.2171673160425955, ParameterVectorElement(θ[11]): 4.357453485004286}\n"
     ]
    }
   ],
   "source": [
    "seed(44) #44 ok #1 wtf?\n",
    "# Ansatz creation\n",
    "ansz = EfficientSU2(num_qubit,['ry','rz'],reps=1)\n",
    "angles_set = {}\n",
    "param = ansz.ordered_parameters\n",
    "for j in range(len(param)):\n",
    "    angles_set[param[j]]= random()*2*pi\n",
    "ansz_assigned = ansz.bind_parameters(angles_set)\n",
    "\n",
    "print(' Random angles assigned to ansatz',angles_set)\n"
   ]
  },
  {
   "cell_type": "code",
   "execution_count": 6,
   "metadata": {},
   "outputs": [
    {
     "name": "stdout",
     "output_type": "stream",
     "text": [
      "num qubits 3\n"
     ]
    }
   ],
   "source": [
    "test = EnhancedSampling.EnhancedSampler(Hamiltonian,\n",
    "                                        Layers,\n",
    "                                        ansz_assigned)"
   ]
  },
  {
   "cell_type": "code",
   "execution_count": 7,
   "metadata": {},
   "outputs": [
    {
     "data": {
      "image/png": "[encoded data removed]",
      "text/plain": [
       "<Figure size 989.597x204.68 with 1 Axes>"
      ]
     },
     "execution_count": 7,
     "metadata": {},
     "output_type": "execute_result"
    }
   ],
   "source": [
    "test._ansatz.decompose().draw(output='mpl',filename='EfficientSU2')"
   ]
  },
  {
   "cell_type": "code",
   "execution_count": 8,
   "metadata": {},
   "outputs": [
    {
     "name": "stdout",
     "output_type": "stream",
     "text": [
      "Number of preshots 4000\n",
      "Number of postshots 2000\n"
     ]
    }
   ],
   "source": [
    "#Backend and Quantum instance\n",
    "backend=Aer.get_backend('qasm_simulator')\n",
    "#simulator = Aer.get_backend('aer_simulator')\n",
    "backend_sv = Aer.get_backend('statevector_simulator')\n",
    "\n",
    "\n",
    "\n",
    "device_backend = FakeMontreal()\n",
    "device = QasmSimulator.from_backend(device_backend)\n",
    "coupling_map = device.configuration().coupling_map\n",
    "noise_model = NoiseModel.from_backend(device)\n",
    "\n",
    "\n",
    "\n",
    "if useNoise == False: \n",
    "    noise_model = None\n",
    "    coupling_map = None\n",
    "\n",
    "# SET UP INITIAL SAMPLING \n",
    "q_instance_pre = QuantumInstance(backend=backend,\n",
    "                             shots=sample_every, #to adapt\n",
    "                             skip_qobj_validation = False,\n",
    "                             coupling_map=coupling_map,\n",
    "                             noise_model=noise_model)\n",
    "\n",
    "q_instance_post = QuantumInstance(backend=backend,\n",
    "                                    shots=sample_every,\n",
    "                                    skip_qobj_validation = False,\n",
    "                                    coupling_map=coupling_map,\n",
    "                                    noise_model=noise_model)\n",
    "print('Number of preshots',num_preshots)\n",
    "print('Number of postshots',num_postshot)"
   ]
  },
  {
   "cell_type": "code",
   "execution_count": 9,
   "metadata": {},
   "outputs": [],
   "source": [
    "def compute_variance(exp_op, sfdict):\n",
    "    def sum_variance(operator,sfdict):\n",
    "        if isinstance(operator, ComposedOp):\n",
    "            #sfdict = operator.oplist[1]\n",
    "            measurement = operator.oplist[0]\n",
    "            average = measurement.eval(sfdict)\n",
    "            variance = sum(\n",
    "                (v * (measurement.eval(b) - average)) ** 2\n",
    "                for (b, v) in sfdict.items()\n",
    "            )\n",
    "            return operator.coeff * variance\n",
    "\n",
    "        elif isinstance(operator, ListOp):\n",
    "            return operator.combo_fn([sum_variance(op) for op in operator.oplist])\n",
    "\n",
    "        return 0.0\n",
    "\n",
    "    return sum_variance(exp_op,sfdict)"
   ]
  },
  {
   "cell_type": "markdown",
   "metadata": {},
   "source": [
    "## Phase 1: Initial pre-sampling (frequentist mode)"
   ]
  },
  {
   "cell_type": "code",
   "execution_count": 10,
   "metadata": {},
   "outputs": [],
   "source": [
    "def make_simple_circuit(ansatz,P):\n",
    "    ansz_state = CircuitStateFn(primitive=ansatz)\n",
    "    complete_circuit = StateFn(P, is_measurement=True).compose(ansz_state) #simple circuit to sample Hamiltonian on ansatz\n",
    "    expectation = PauliExpectation().convert(complete_circuit) \n",
    "    exact_exp = AerPauliExpectation().convert(complete_circuit)\n",
    "    return expectation,exact_exp"
   ]
  },
  {
   "cell_type": "code",
   "execution_count": 11,
   "metadata": {},
   "outputs": [
    {
     "name": "stdout",
     "output_type": "stream",
     "text": [
      "ZZZ\n",
      "Exact -0.10785594226944892\n",
      "XII\n",
      "Exact 0.4504792175806916\n",
      "IXI\n",
      "Exact 0.06428637695352224\n",
      "\n",
      "Exact: Energy= 0.40690965226476494\n"
     ]
    }
   ],
   "source": [
    "#FREQ\n",
    "pre_energy_freq = {}\n",
    "std_dev_freq = {}\n",
    "variance_freq = {}\n",
    "freq_dict = {}\n",
    "exact_energy = {}\n",
    "exact_expectation ={}\n",
    "expectation = {}\n",
    "\n",
    "\n",
    "for H_part in Hamiltonian.to_pauli_op():\n",
    "    print(H_part)\n",
    "    primitive = str(H_part)\n",
    "    freq_dict[primitive] = {}\n",
    "    variance_freq[primitive] = {}\n",
    "    std_dev_freq[primitive] = {}\n",
    "    pre_energy_freq[primitive] = {}\n",
    "\n",
    "    expectation[primitive], exact_expectation= make_simple_circuit(ansz_assigned,H_part)\n",
    "    for step in range(steps_pre):\n",
    "        variance_freq[primitive][step] = {}\n",
    "        std_dev_freq[primitive][step] = {}\n",
    "        pre_energy_freq[primitive][step] = {}\n",
    "        for rep in range(repetitions):\n",
    "            sampler = CircuitSampler(backend=q_instance_pre , attach_results=True).convert(expectation[primitive])\n",
    "            \n",
    "            #\n",
    "            operator_in_use = sampler.oplist[0]\n",
    "            \n",
    "            \n",
    "            if rep not in freq_dict[primitive].keys(): freq_dict[primitive][rep] = {}\n",
    "            freq_dict[primitive][rep] = update_dict(freq_dict[primitive][rep], sampler, num_qubit)\n",
    "            ampli_dict = get_amplitudes(freq_dict[primitive][rep],(step+1)*sample_every)\n",
    "            variance_freq[primitive][step][rep] = np.real(compute_variance(sampler,ampli_dict)/(num_preshots-1))\n",
    "            std_dev_freq[primitive][step][rep] = np.sqrt(variance_freq[primitive][step][rep])\n",
    "            # pre_energy_freq[primitive][step][rep] = sampler.eval().real\n",
    "            pre_energy_freq[primitive][step][rep] = operator_in_use.eval(ampli_dict).real\n",
    "            #print(operator_in_use.eval(ampli_dict).real,freq_dict[primitive][rep])\n",
    "        #print(freq_dict)\n",
    "        # update dictionary of events\n",
    "        # for key,item in sampler.oplist[1].execution_results['counts'].items():\n",
    "        #     binary_value = bin(int(key,16))[2:].zfill(num_qubit)\n",
    "        #     freq_dict[primitive][binary_value]=item\n",
    "        #     print('\\t outcome:',binary_value,', counts:',item)\n",
    "\n",
    "\n",
    "    #EXACT\n",
    "    sampler_exact = CircuitSampler(backend_sv).convert(exact_expectation)\n",
    "    exact_energy[primitive] = sampler_exact.eval().real\n",
    "    print( 'Exact',exact_energy[primitive])\n",
    "\n",
    "\n",
    "\n",
    "print('\\nExact: Energy=', sum(exact_energy.values()))\n",
    "\n",
    "\n",
    "#print('Frequ: Energy=',[pre_energy_freq[k].values() for k in pre_energy_freq.keys()])#,', Variance', sum(variance_freq.values()), 'Standard Deviation',sum(std_dev_freq.values()))\n"
   ]
  },
  {
   "cell_type": "code",
   "execution_count": 12,
   "metadata": {},
   "outputs": [
    {
     "name": "stdout",
     "output_type": "stream",
     "text": [
      "\n",
      " ZZZ freq event presampling \n",
      " {'001': 1916, '101': 1181, '010': 108, '111': 19, '011': 150, '000': 350, '110': 99, '100': 177} -0.10999999999999992\n",
      "Exact energy = -0.10785594226944892\n",
      "Frequentist pre+post: energy ZZZ -0.10333333333333336 \n",
      " \tevents {'001': 2864, '101': 1782, '010': 157, '111': 28, '011': 229, '000': 539, '110': 140, '100': 261}\n",
      "\n",
      " XII freq event presampling \n",
      " {'101': 829, '001': 2194, '111': 74, '011': 101, '000': 396, '010': 199, '100': 150, '110': 57} 0.44499999999999995\n",
      "Exact energy = 0.4504792175806916\n",
      "Frequentist pre+post: energy XII 0.44533333333333325 \n",
      " \tevents {'101': 1251, '001': 3309, '111': 127, '011': 149, '000': 608, '010': 270, '100': 206, '110': 80}\n",
      "\n",
      " IXI freq event presampling \n",
      " {'010': 293, '111': 468, '000': 185, '011': 899, '101': 669, '001': 1214, '110': 170, '100': 102} 0.08499999999999995\n",
      "Exact energy = 0.06428637695352224\n",
      "Frequentist pre+post: energy IXI 0.08066666666666669 \n",
      " \tevents {'010': 464, '111': 690, '000': 259, '011': 1345, '101': 1006, '001': 1826, '110': 259, '100': 151}\n"
     ]
    }
   ],
   "source": [
    "\n",
    "post_energy_freq = {}\n",
    "\n",
    "for H_part in Hamiltonian.to_pauli_op():\n",
    "    \n",
    "    primitive = str(H_part)\n",
    "    print('\\n',primitive,'freq event presampling \\n',freq_dict[primitive][0] ,pre_energy_freq[primitive][steps_pre-1][0])\n",
    "    post_energy_freq[primitive] = {}\n",
    "    #FREQ: combine pre and post sampling\n",
    "\n",
    "    for step in range(steps):\n",
    "        post_energy_freq[primitive][step] = {}\n",
    "        \n",
    "        for rep in range(repetitions):\n",
    "            sampler_2 = CircuitSampler(backend=q_instance_post, attach_results=True).convert(expectation[primitive])\n",
    "            freq_dict[primitive][rep] = update_dict(freq_dict[primitive][rep], sampler_2,num_qubit)\n",
    "            operator_in_use = sampler_2.oplist[0]\n",
    "            ampli_dict = get_amplitudes(freq_dict[primitive][rep],num_preshots+((step+1)*sample_every))\n",
    "            post_energy_freq[primitive][step][rep] = operator_in_use.eval(ampli_dict).real\n",
    "        #print(freq_dict[primitive][0])\n",
    "    # post_energy_freq[primitive] /= repetitions\n",
    "\n",
    "    print('Exact energy =',exact_energy[primitive])\n",
    "    print('Frequentist pre+post: energy',primitive,post_energy_freq[primitive][steps-1][0], '\\n \\tevents', freq_dict[primitive][0])\n"
   ]
  },
  {
   "cell_type": "markdown",
   "metadata": {},
   "source": [
    "## Phase 2: Enhanced sampling vs Frequentist"
   ]
  },
  {
   "cell_type": "code",
   "execution_count": 13,
   "metadata": {},
   "outputs": [
    {
     "name": "stdout",
     "output_type": "stream",
     "text": [
      "\n",
      "Repetition 1\n",
      "\n",
      "\n",
      "Sampling for ZZZ ...\n",
      "Initial prior bounds: [4718, 5982]\n",
      "Time pre-sampling: 9.297266244888306\n",
      "Outcomes {0: 835, 1: 165}\n",
      "\n",
      "\n",
      " NEW FIT\n",
      "Outcomes: {0: 835, 1: 165}\n",
      "Guesses: amp, mean and std_dev: 0.028889837040618385 1.676031005258493 0.00433576704071709\n",
      "FIT SUCCESS: Converged with popt: [0.02890348 1.67605882 0.00433695]\n",
      "Outcomes {0: 1680, 1: 320}\n",
      "\n",
      "\n",
      " NEW FIT\n",
      "Outcomes: {0: 1680, 1: 320}\n",
      "Guesses: amp, mean and std_dev: 0.04005495822947471 1.677722693235963 0.0031287221244362833\n",
      "FIT SUCCESS: Converged with popt: [0.04005808 1.67773803 0.00312918]\n",
      "Time sampling: 0.8476636409759521\n",
      "\n",
      "\n",
      "Sampling for XII ...\n",
      "Initial prior bounds: [2899, 4163]\n",
      "Time pre-sampling: 8.372225761413574\n",
      "Outcomes {0: 565, 1: 435}\n",
      "\n",
      "\n",
      " NEW FIT\n",
      "Outcomes: {0: 565, 1: 435}\n",
      "Guesses: amp, mean and std_dev: 0.028851034102340547 1.103847239464032 0.0043427005953010425\n",
      "FIT SUCCESS: Converged with popt: [0.02885848 1.10384344 0.00434363]\n",
      "Outcomes {0: 1114, 1: 886}\n",
      "\n",
      "\n",
      " NEW FIT\n",
      "Outcomes: {0: 1114, 1: 886}\n",
      "Guesses: amp, mean and std_dev: 0.040003023377959225 1.1058318936731604 0.003130581360682867\n",
      "FIT SUCCESS: Converged with popt: [0.04003508 1.10583004 0.00313094]\n",
      "Time sampling: 0.7151508331298828\n",
      "\n",
      "\n",
      "Sampling for IXI ...\n",
      "Initial prior bounds: [4097, 5361]\n",
      "Time pre-sampling: 8.802292823791504\n",
      "Outcomes {0: 267, 1: 733}\n",
      "\n",
      "\n",
      " NEW FIT\n",
      "Outcomes: {0: 267, 1: 733}\n",
      "Guesses: amp, mean and std_dev: 0.028919108530071676 1.5003819535679384 0.004332369575282894\n",
      "FIT SUCCESS: Converged with popt: [0.02892695 1.50036528 0.00433338]\n",
      "Outcomes {0: 580, 1: 1420}\n",
      "\n",
      "\n",
      " NEW FIT\n",
      "Outcomes: {0: 580, 1: 1420}\n",
      "Guesses: amp, mean and std_dev: 0.04005009812145183 1.5079822041921247 0.0031257479844385987\n",
      "FIT SUCCESS: Converged with popt: [0.04009681 1.50797434 0.00312613]\n",
      "Time sampling: 0.9897425174713135\n",
      "\n",
      "ZZZ\n",
      "Exact energy = -0.10785594226944892\n",
      "Initial energy= -0.10999999999999992 err= 0.015717403067612584\n",
      "Frequentist energy -0.10333333333333336\n",
      "Enhanced Energy = -0.1067374553671028 err= 0.003111283557352958\n",
      "\n",
      "XII\n",
      "Exact energy = 0.4504792175806916\n",
      "Initial energy= 0.44499999999999995 err= 0.014161351841243576\n",
      "Frequentist energy 0.44533333333333325\n",
      "Enhanced Energy = 0.4483904722251097 err= 0.002798540639700969\n",
      "\n",
      "IXI\n",
      "Exact energy = 0.06428637695352224\n",
      "Initial energy= 0.08499999999999995 err= 0.01575613575574571\n",
      "Frequentist energy 0.08066666666666669\n",
      "Enhanced Energy = 0.0627803643652616 err= 0.0031199481632141163\n",
      "\n",
      "Total Frequentis energy 0.4226666666666665 \n",
      "Total Enahnced energy 0.40443338122326844\n",
      "\n",
      "Total Exact energy 0.40690965226476494\n"
     ]
    }
   ],
   "source": [
    "\n",
    "\n",
    "print( '\\nRepetition',repetitions)\n",
    "fit_energy,fit_variance = test.eval(pre_energy_freq,std_dev_freq,q_instance_post,repetitions ,steps, steps_pre)\n",
    "\n",
    "freq_tot_energy = 0\n",
    "enha_tot_energy = 0\n",
    "for H_part in Hamiltonian.to_pauli_op():\n",
    "    print()\n",
    "    primitive = str(H_part)\n",
    "    print(primitive)\n",
    "    print('Exact energy =',exact_energy[primitive])\n",
    "    print('Initial energy=',sum(pre_energy_freq[primitive][steps_pre-1].values())/repetitions,'err=',sum(std_dev_freq[primitive][steps_pre-1].values())/repetitions)\n",
    "        \n",
    "    #print('Theta values=',test_in_use._initial_theta,' np.arcos(E)',np.arccos(pre_energy_freq[primitive]), 'Energy',pre_energy_freq[primitive])\n",
    "    \n",
    "    print('Frequentist energy',sum(post_energy_freq[primitive][steps-1].values())/repetitions)\n",
    "    print('Enhanced Energy =',sum(fit_energy[primitive][steps-1].values())/repetitions, 'err=',np.sqrt(sum(fit_variance[primitive][steps-1].values())/repetitions))\n",
    "        \n",
    "    freq_tot_energy += sum(post_energy_freq[primitive][steps-1].values())/repetitions\n",
    "    enha_tot_energy += sum(fit_energy[primitive][steps-1].values())/repetitions\n",
    "    \n",
    "print('\\nTotal Frequentis energy',freq_tot_energy,\n",
    "            '\\nTotal Enahnced energy', enha_tot_energy) \n",
    "print('\\nTotal Exact energy', sum(exact_energy.values()))"
   ]
  },
  {
   "cell_type": "code",
   "execution_count": 14,
   "metadata": {},
   "outputs": [
    {
     "data": {
      "image/png": "[encoded data removed]",
      "text/plain": [
       "<Figure size 864x576 with 1 Axes>"
      ]
     },
     "metadata": {
      "needs_background": "light"
     },
     "output_type": "display_data"
    }
   ],
   "source": [
    "lenH = len(Hamiltonian.to_pauli_op())\n",
    "freq_rmse = np.zeros((lenH,steps+1))\n",
    "enha_rmse = np.zeros((lenH,steps+1))\n",
    "pre_freq_rmse = np.zeros((lenH,steps_pre))\n",
    "plt.figure(figsize=(12,8))\n",
    "for h,H_part in enumerate(Hamiltonian.to_pauli_op()):\n",
    "    primitive = str(H_part)\n",
    "    for t in range(steps_pre):\n",
    "        pre_freq_rmse[h,t] = get_RMSE(pre_energy_freq[primitive][t],exact_energy[primitive])\n",
    "    freq_rmse[h,0]= pre_freq_rmse[h,steps_pre-1]\n",
    "    enha_rmse[h,0]= pre_freq_rmse[h,steps_pre-1]\n",
    "    for t in range(0,steps):\n",
    "        #print(pre_energy_freq[primitive][t])\n",
    "        freq_rmse[h,t+1] = get_RMSE(post_energy_freq[primitive][t],exact_energy[primitive])\n",
    "        enha_rmse[h,t+1] = get_RMSE(fit_energy[primitive][t],exact_energy[primitive])\n",
    "plt.plot(np.asarray(range(1,steps_pre+1))*sample_every, \n",
    "         np.sum(pre_freq_rmse,axis=0), label=\"Frequentist RMSE (Pre-sampling)\" )\n",
    "plt.plot(num_preshots+np.asarray(range(steps+1))*sample_every, np.sum(freq_rmse,axis=0) , label=\"Frequentist RMSE\")\n",
    "plt.plot(num_preshots+np.asarray(range(steps+1))*sample_every, np.sum(enha_rmse,axis=0) ,linestyle = '--', label=\"Enhanced RMSE\")\n",
    "#plt.plot(range(num_steps),-0.01+1/np.sqrt(range(1000,1000+num_steps)))\n",
    "plt.yscale('log')\n",
    "plt.legend()\n",
    "plt.ylabel('RMSE')\n",
    "plt.xlabel('Shots')\n",
    "plt.title('Root-mean-squared error (RMSE). Enhanced noisy circuit with '+str(Layers)+' layers ')\n",
    "plt.savefig('RMSE_'+str(Layers)+'__rep'+str(repetitions)+'noisytest.png')"
   ]
  }
 ],
 "metadata": {
  "kernelspec": {
   "display_name": "NEASQC4wMYQLM",
   "language": "python",
   "name": "python3"
  },
  "language_info": {
   "codemirror_mode": {
    "name": "ipython",
    "version": 3
   },
   "file_extension": ".py",
   "mimetype": "text/x-python",
   "name": "python",
   "nbconvert_exporter": "python",
   "pygments_lexer": "ipython3",
   "version": "3.9.7"
  },
  "orig_nbformat": 4,
  "vscode": {
   "interpreter": {
    "hash": "8fecc24a9c06863268eef22b722bc39970e040fd4701f3b867876035cf1a5542"
   }
  }
 },
 "nbformat": 4,
 "nbformat_minor": 2
}
