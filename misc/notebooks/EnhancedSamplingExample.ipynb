{
 "cells": [
  {
   "attachments": {},
   "cell_type": "markdown",
   "metadata": {},
   "source": [
    "### Quantum Circuit Simulation with Enhanced Sampling\n",
    "In this notebook, we're exploring the simulation of quantum circuits using enhanced sampling methods (non-adaptive case) (https://arxiv.org/abs/2006.09350). The goal is to estimate the expectation values of a Hamiltonian operator on a given quantum state, which is a common task in many quantum algorithms.\n",
    "\n",
    "We start by defining an ansatz, which is a parameterized quantum circuit that we use to prepare the quantum state. The parameters of the ansatz are optimized to minimize the expectation value of the Hamiltonian.\n",
    "\n",
    "We then create a simple circuit to sample the Hamiltonian on the ansatz. We calculate the expectation and exact expectation of the circuit.\n",
    "\n",
    "Next, we iterate over each part of the Hamiltonian and calculate various quantities such as the variance, standard deviation, and pre-energy. We also update the frequency dictionary, which keeps track of the frequency of each outcome when sampling the quantum circuit.\n",
    "\n",
    "After that, we calculate the exact energy of the system by sampling the exact expectation value of the circuit.\n",
    "\n",
    "We then combine the pre and post sampling results to calculate the post-energy. We also update the frequency dictionary with the new samples.\n",
    "\n",
    "Finally, we calculate the root-mean-squared error (RMSE) of the frequentist and enhanced methods. The RMSE is a measure of the differences between the values predicted by a model or an estimator and the values observed. We plot the RMSE as a function of the number of shots to visualize the performance of the methods.\n",
    "\n",
    "This notebook demonstrates the use of enhanced sampling methods in quantum circuit simulation. These methods can potentially provide more accurate results with fewer quantum circuit evaluations, which is beneficial in quantum computing where resources are limited.\n",
    "\n",
    "NOTE: too many layers in conjuntion with noise in the circuit tend to worsen the results of enhanced sampling.\n",
    "\n",
    "![Frequentist vs Enhanced schema](../../doc/SamplingSchema.png)\n"
   ]
  },
  {
   "cell_type": "code",
   "execution_count": 21,
   "metadata": {},
   "outputs": [
    {
     "name": "stdout",
     "output_type": "stream",
     "text": [
      "Qiskit version: 0.18.2\n"
     ]
    }
   ],
   "source": [
    "import numpy as np\n",
    "from qiskit.opflow import StateFn, PauliExpectation,Z,X,I,ListOp, AerPauliExpectation,ComposedOp\n",
    "from qiskit.circuit.library import TwoLocal,EfficientSU2\n",
    "from qiskit.opflow.state_fns import CircuitStateFn\n",
    "from qiskit.opflow.converters import CircuitSampler\n",
    "from qiskit import Aer\n",
    "from qiskit.providers.aer import QasmSimulator\n",
    "from qiskit.utils.quantum_instance import QuantumInstance\n",
    "from qiskit.test.mock import FakeMontreal\n",
    "from qiskit.providers.aer.noise import NoiseModel\n",
    "\n",
    "import qiskit\n",
    "print(\"Qiskit version:\",qiskit.__version__)\n",
    "\n",
    "from random import random,seed\n",
    "import matplotlib.pyplot as plt\n",
    "\n",
    "\n",
    "\n",
    "# This repo's library\n",
    "from enhanced_sampling import EnhancedSampling"
   ]
  },
  {
   "cell_type": "code",
   "execution_count": 22,
   "metadata": {},
   "outputs": [],
   "source": [
    "def create_simple_circuit(ansatz, pauli_operator):\n",
    "    \"\"\"\n",
    "    Create a simple circuit to sample a Hamiltonian on an ansatz.\n",
    "\n",
    "    Args:\n",
    "        ansatz (QuantumCircuit): The ansatz.\n",
    "        pauli_operator (Pauli): The Pauli operator.\n",
    "\n",
    "    Returns:\n",
    "        tuple: The expectation and exact expectation of the circuit.\n",
    "    \"\"\"\n",
    "\n",
    "    # Create a circuit state function from the ansatz\n",
    "    ansatz_state = CircuitStateFn(primitive=ansatz)\n",
    "\n",
    "    # Compose the circuit state function with the Pauli operator to create a complete circuit\n",
    "    complete_circuit = StateFn(pauli_operator, is_measurement=True).compose(ansatz_state)\n",
    "\n",
    "    # Convert the complete circuit to an expectation value\n",
    "    expectation = PauliExpectation().convert(complete_circuit)\n",
    "\n",
    "    # Convert the complete circuit to an exact expectation value\n",
    "    exact_expectation = AerPauliExpectation().convert(complete_circuit)\n",
    "\n",
    "    return expectation, exact_expectation\n",
    "\n",
    "def is_unitary(m):\n",
    "    return np.allclose(np.eye(m.shape[0]), m.H * m)\n",
    "\n",
    "def update_dict(old_dict, sampler, num_qubits):\n",
    "    \"\"\"\n",
    "    Update the dictionary with the results of a quantum operation.\n",
    "\n",
    "    Args:\n",
    "        old_dict (dict): The original dictionary.\n",
    "        sampler (Sampler): The sampler object that contains the operation list.\n",
    "        num_qubits (int): The number of qubits involved in the operation.\n",
    "\n",
    "    Returns:\n",
    "        dict: The updated dictionary.\n",
    "    \"\"\"\n",
    "    new_dict = old_dict.copy()\n",
    "    events = sampler.oplist[1].execution_results['counts'].items()\n",
    "\n",
    "    for key, item in events:\n",
    "        binary_value = bin(int(key, 16))[2:].zfill(num_qubits)\n",
    "        new_dict[binary_value] = new_dict.get(binary_value, 0) + item \n",
    "\n",
    "    return new_dict\n",
    "\n",
    "\n",
    "def get_amplitudes(old_dict, num_shot):\n",
    "    \"\"\"\n",
    "    Calculate the amplitudes from the counts in the dictionary.\n",
    "\n",
    "    Args:\n",
    "        old_dict (dict): The dictionary with counts.\n",
    "        num_shot (int): The number of shots in the quantum operation.\n",
    "\n",
    "    Returns:\n",
    "        dict: The dictionary with calculated amplitudes.\n",
    "    \"\"\"\n",
    "    return {key: np.sqrt(item / num_shot) for key, item in old_dict.items()}\n",
    "\n",
    "\n",
    "def get_RMSE(results, true_value):\n",
    "    \"\"\"\n",
    "    Calculate the Root Mean Square Error (RMSE) of the results.\n",
    "\n",
    "    Args:\n",
    "        results (dict): The dictionary with results.\n",
    "        true_value (float): The true value for comparison.\n",
    "\n",
    "    Returns:\n",
    "        float: The calculated RMSE.\n",
    "    \"\"\"\n",
    "    return np.sqrt(np.mean([(mu - true_value) ** 2 for mu in results.values()]))\n",
    "\n",
    "def compute_variance(expected_operator, state_freq_dict):\n",
    "    \"\"\"\n",
    "    Compute the variance of an expected operator given a state frequency dictionary.\n",
    "\n",
    "    Args:\n",
    "        expected_operator (OperatorBase): The expected operator.\n",
    "        state_freq_dict (dict): The state frequency dictionary.\n",
    "\n",
    "    Returns:\n",
    "        float: The computed variance.\n",
    "    \"\"\"\n",
    "    def calculate_variance(operator, state_freq_dict):\n",
    "        \"\"\"\n",
    "        Calculate the variance of an operator.\n",
    "\n",
    "        Args:\n",
    "            operator (OperatorBase): The operator.\n",
    "            state_freq_dict (dict): The state frequency dictionary.\n",
    "\n",
    "        Returns:\n",
    "            float: The calculated variance.\n",
    "        \"\"\"\n",
    "        if isinstance(operator, ComposedOp):\n",
    "            measurement = operator.oplist[0]\n",
    "            average = measurement.eval(state_freq_dict)\n",
    "            variance = sum(\n",
    "                (v * (measurement.eval(b) - average)) ** 2\n",
    "                for (b, v) in state_freq_dict.items()\n",
    "            )\n",
    "            return operator.coeff * variance\n",
    "\n",
    "        elif isinstance(operator, ListOp):\n",
    "            return operator.combo_fn([calculate_variance(op, state_freq_dict) for op in operator.oplist])\n",
    "\n",
    "        return 0.0\n",
    "\n",
    "    # Check if the input arguments are of the expected type\n",
    "    if not isinstance(expected_operator, (ComposedOp, ListOp)):\n",
    "        raise TypeError(\"expected_operator must be an instance of ComposedOp or ListOp.\")\n",
    "    if not isinstance(state_freq_dict, dict):\n",
    "        raise TypeError(\"state_freq_dict must be a dictionary.\")\n",
    "\n",
    "    return calculate_variance(expected_operator, state_freq_dict)\n",
    "\n"
   ]
  },
  {
   "attachments": {},
   "cell_type": "markdown",
   "metadata": {},
   "source": [
    "## Initial  setup\n",
    "\n",
    "First set up a generic hamiltonian as well as general variables"
   ]
  },
  {
   "cell_type": "code",
   "execution_count": 23,
   "metadata": {},
   "outputs": [
    {
     "name": "stdout",
     "output_type": "stream",
     "text": [
      "1.0 * ZZZ\n",
      "+ 1.0 * XII\n",
      "+ 1.0 * IXI\n"
     ]
    }
   ],
   "source": [
    "#Declare an Hamiltonian\n",
    "H_1 = Z ^ Z ^ Z\n",
    "H_2 = (X ^ I ^ I) + (I ^ X ^ I)\n",
    "Hamiltonian =  H_1 + H_2 \n",
    "\n",
    "print(Hamiltonian)"
   ]
  },
  {
   "cell_type": "code",
   "execution_count": 24,
   "metadata": {},
   "outputs": [],
   "source": [
    "# Define global variables\n",
    "Layers = 3  #Layers of enhanced circuit; stay between 1 and 6\n",
    "fixed_x_angles = np.ones(2*Layers)*np.pi/2 # list of pi/2 ,to use CLF insteaf of ELF\n",
    "use_noise = False\n",
    "num_preshots=3000 \n",
    "num_postshot=3000\n",
    "repetitions = 1 #repeat the entire test n-times, to increase statistic in results\n",
    "sample_every = 1000 # measure the energy every n-shots\n",
    "n_points = 10000 #to use for binning"
   ]
  },
  {
   "cell_type": "markdown",
   "metadata": {},
   "source": [
    "# Build circuits\n",
    "\n",
    "We need an ansatz circuit, and operators to measure on it.\n",
    "Here we first build the ansatz from EfficientSU(2), define a set of random angles to apply to it.\n",
    "Then we create the simple circuit containing the anstaz and the operators to measure (the Hamiltonian parts)\n",
    "After that, we combine the anstaz with layers of the enhance circuit using fixed x_angles on these layers (=pi/2) to use Chebyshev-like functions, so we can take multiple samples of the same circuit, instead of modifying after each shot(this would means using ELF)"
   ]
  },
  {
   "cell_type": "code",
   "execution_count": 25,
   "metadata": {},
   "outputs": [
    {
     "name": "stdout",
     "output_type": "stream",
     "text": [
      " Random angles assigned to ansatz {ParameterVectorElement(θ[0]): 5.217821253966976, ParameterVectorElement(θ[1]): 0.693399108952002, ParameterVectorElement(θ[2]): 6.018201104967258, ParameterVectorElement(θ[3]): 2.4093745671219824, ParameterVectorElement(θ[4]): 0.4734899931825716, ParameterVectorElement(θ[5]): 2.4153531856488564, ParameterVectorElement(θ[6]): 3.112057761700599, ParameterVectorElement(θ[7]): 3.2787477451175286, ParameterVectorElement(θ[8]): 6.011213436552083, ParameterVectorElement(θ[9]): 1.2623651513831313, ParameterVectorElement(θ[10]): 4.6847509118203225, ParameterVectorElement(θ[11]): 5.7273834967682875}\n"
     ]
    },
    {
     "data": {
      "image/png": "[encoded data removed]",
      "text/plain": [
       "<Figure size 929.397x204.68 with 1 Axes>"
      ]
     },
     "execution_count": 25,
     "metadata": {},
     "output_type": "execute_result"
    }
   ],
   "source": [
    "# Calculate the number of steps for pre-shots and post-shots\n",
    "# Ensure at least 1 step\n",
    "steps_pre = max(1,round(num_preshots / sample_every))\n",
    "steps_post = max(1,round(num_postshot / sample_every))\n",
    "\n",
    "# Create an ansatz using the EfficientSU2 method\n",
    "# 'ry' and 'rz' are rotation gates, and 'reps' is the number of repetitions of the circuit\n",
    "ansatz = EfficientSU2(Hamiltonian.num_qubits, ['ry','rz'], reps=1)\n",
    "\n",
    "# Initialize a dictionary to hold the angles for the ansatz\n",
    "angles_set = {}\n",
    "# Assign random angles to each parameter\n",
    "for param in ansatz.ordered_parameters:\n",
    "    angles_set[param] = random() * 2 * np.pi\n",
    "\n",
    "# Bind the random angles to the ansatz\n",
    "ansatz_assigned = ansatz.bind_parameters(angles_set)\n",
    "\n",
    "print(' Random angles assigned to ansatz',angles_set)\n",
    "\n",
    "#Draw the ansatz circuit\n",
    "ansatz_assigned.decompose().draw(output='mpl',filename='EfficientSU2')"
   ]
  },
  {
   "cell_type": "code",
   "execution_count": 26,
   "metadata": {},
   "outputs": [
    {
     "name": "stdout",
     "output_type": "stream",
     "text": [
      "Number of preshots 3000\n",
      "Number of postshots 3000\n"
     ]
    }
   ],
   "source": [
    "#Backend and Quantum instance\n",
    "backend=Aer.get_backend('qasm_simulator')\n",
    "#simulator = Aer.get_backend('aer_simulator')\n",
    "backend_sv = Aer.get_backend('statevector_simulator')\n",
    "\n",
    "\n",
    "\n",
    "device_backend = FakeMontreal()\n",
    "device = QasmSimulator.from_backend(device_backend)\n",
    "coupling_map = device.configuration().coupling_map\n",
    "noise_model = NoiseModel.from_backend(device)\n",
    "\n",
    "if use_noise == False: \n",
    "    noise_model = None\n",
    "    coupling_map = None\n",
    "\n",
    "# SET UP INITIAL SAMPLING \n",
    "quantum_instance = QuantumInstance(backend=backend,\n",
    "                                    shots=sample_every, #to adapt\n",
    "                                    skip_qobj_validation = False,\n",
    "                                    coupling_map=coupling_map,\n",
    "                                    noise_model=noise_model)\n",
    "\n",
    "\n",
    "print('Number of preshots',num_preshots)\n",
    "print('Number of postshots',num_postshot)"
   ]
  },
  {
   "cell_type": "markdown",
   "metadata": {},
   "source": [
    "## Phase 1: Initial pre-sampling (frequentist mode)"
   ]
  },
  {
   "cell_type": "code",
   "execution_count": 27,
   "metadata": {},
   "outputs": [
    {
     "name": "stdout",
     "output_type": "stream",
     "text": [
      "Computing: ZZZ\n",
      "Exact (partial) energy =  0.9448982362267818\n",
      "Computing: XII\n",
      "Exact (partial) energy =  -0.07972285693391248\n",
      "Computing: IXI\n",
      "Exact (partial) energy =  0.03207794169271983\n",
      "\n",
      "Exact total Energy = 0.8972533209855892\n"
     ]
    }
   ],
   "source": [
    "# Initialize a dictionary to hold all the data\n",
    "data = {\n",
    "    \"pre_energy_freq\": {},\n",
    "    \"std_dev_freq\": {},\n",
    "    \"variance_freq\": {},\n",
    "    \"freq_dict\": {},\n",
    "    \"exact_energy\": {},\n",
    "    \"exact_expectation\": {},\n",
    "    \"expectation\": {},\n",
    "}\n",
    "\n",
    "# Iterate over each part of the Hamiltonian\n",
    "for H_part in Hamiltonian.to_pauli_op():\n",
    "    print('Computing:',H_part)\n",
    "    primitive = str(H_part)\n",
    "\n",
    "    # Initialize dictionaries for this part of the Hamiltonian\n",
    "    for key in data.keys():\n",
    "        data[key][primitive] = {}\n",
    "\n",
    "    # Create a simple circuit for this part of the Hamiltonian\n",
    "    data[\"expectation\"][primitive], data[\"exact_expectation\"][primitive] = create_simple_circuit(ansatz_assigned, H_part)\n",
    "\n",
    "    # Iterate over each step\n",
    "    for step in range(steps_pre):\n",
    "        # Initialize dictionaries for this step\n",
    "        for key in [\"variance_freq\", \"std_dev_freq\", \"pre_energy_freq\"]:\n",
    "            data[key][primitive][step] = {}\n",
    "\n",
    "        # Iterate over each repetition\n",
    "        for rep in range(repetitions):\n",
    "            sampler = CircuitSampler(backend=quantum_instance , attach_results=True).convert(data[\"expectation\"][primitive])\n",
    "            operator_in_use = sampler.oplist[0]\n",
    "\n",
    "            # Update the frequency dictionary\n",
    "            if rep not in data[\"freq_dict\"][primitive].keys(): \n",
    "                data[\"freq_dict\"][primitive][rep] = {}\n",
    "            data[\"freq_dict\"][primitive][rep] = update_dict(data[\"freq_dict\"][primitive][rep], sampler, Hamiltonian.num_qubits)\n",
    "\n",
    "            # Calculate the amplitudes\n",
    "            ampli_dict = get_amplitudes(data[\"freq_dict\"][primitive][rep], (step+1)*sample_every)\n",
    "\n",
    "            # Calculate the variance, standard deviation, and pre-energy\n",
    "            data[\"variance_freq\"][primitive][step][rep] = np.real(compute_variance(sampler, ampli_dict)/(num_preshots-1))\n",
    "            data[\"std_dev_freq\"][primitive][step][rep] = np.sqrt(data[\"variance_freq\"][primitive][step][rep])\n",
    "            data[\"pre_energy_freq\"][primitive][step][rep] = operator_in_use.eval(ampli_dict).real\n",
    "\n",
    "    # Calculate the exact energy\n",
    "    sampler_exact = CircuitSampler(backend_sv).convert(data[\"exact_expectation\"][primitive])\n",
    "    data[\"exact_energy\"][primitive] = sampler_exact.eval().real\n",
    "    print('Exact (partial) energy = ', data[\"exact_energy\"][primitive])\n",
    "\n",
    "print('\\nExact total Energy =', sum(data[\"exact_energy\"].values()))\n"
   ]
  },
  {
   "attachments": {},
   "cell_type": "markdown",
   "metadata": {},
   "source": [
    "## Phase 2: Enhanced sampling vs Frequentist\n",
    "\n",
    "First we gonna simulate the continuation of the frequentist approac"
   ]
  },
  {
   "cell_type": "code",
   "execution_count": 28,
   "metadata": {},
   "outputs": [
    {
     "name": "stdout",
     "output_type": "stream",
     "text": [
      "\n",
      " ZZZ freq event presampling \n",
      " {'111': 28, '001': 41, '101': 266, '011': 1926, '110': 86, '000': 649, '100': 4} 0.9513333333333333\n",
      "Exact energy = 0.9448982362267818\n",
      "Frequentist pre+post: energy ZZZ 0.9526666666666667 \n",
      " \tevents {'111': 50, '001': 84, '101': 482, '011': 3878, '110': 159, '000': 1339, '100': 8}\n",
      "\n",
      " XII freq event presampling \n",
      " {'101': 24, '001': 248, '110': 41, '100': 390, '111': 1144, '011': 803, '000': 292, '010': 58} -0.06600000000000009\n",
      "Exact energy = -0.07972285693391248\n",
      "Frequentist pre+post: energy XII -0.08766666666666677 \n",
      " \tevents {'101': 64, '001': 487, '110': 86, '100': 751, '111': 2362, '011': 1557, '000': 591, '010': 102}\n",
      "\n",
      " IXI freq event presampling \n",
      " {'101': 156, '001': 990, '111': 111, '011': 959, '000': 360, '010': 326, '110': 64, '100': 34} 0.0266666666666666\n",
      "Exact energy = 0.03207794169271983\n",
      "Frequentist pre+post: energy IXI 0.03399999999999997 \n",
      " \tevents {'101': 338, '001': 1991, '111': 190, '011': 1947, '000': 712, '010': 650, '110': 111, '100': 61}\n"
     ]
    }
   ],
   "source": [
    "\n",
    "# Initialize a dictionary for post energy frequencies\n",
    "data[\"post_energy_freq\"] = {}\n",
    "\n",
    "# Iterate over each part of the Hamiltonian\n",
    "for H_part in Hamiltonian.to_pauli_op():\n",
    "    primitive = str(H_part)\n",
    "    print('\\n',primitive,'freq event presampling \\n',data[\"freq_dict\"][primitive][0] ,data[\"pre_energy_freq\"][primitive][steps_pre-1][0])\n",
    "    data[\"post_energy_freq\"][primitive] = {}\n",
    "\n",
    "    # Combine pre and post sampling\n",
    "    for step in range(steps_post):\n",
    "        data[\"post_energy_freq\"][primitive][step] = {}\n",
    "\n",
    "        for rep in range(repetitions):\n",
    "            sampler_2 = CircuitSampler(backend=quantum_instance, attach_results=True).convert(data[\"expectation\"][primitive])\n",
    "            data[\"freq_dict\"][primitive][rep] = update_dict(data[\"freq_dict\"][primitive][rep], sampler_2, Hamiltonian.num_qubits)\n",
    "            operator_in_use = sampler_2.oplist[0]\n",
    "            ampli_dict = get_amplitudes(data[\"freq_dict\"][primitive][rep], num_preshots+((step+1)*sample_every))\n",
    "            data[\"post_energy_freq\"][primitive][step][rep] = operator_in_use.eval(ampli_dict).real\n",
    "\n",
    "    print('Exact energy =', data[\"exact_energy\"][primitive])\n",
    "    print('Frequentist pre+post: energy', primitive, data[\"post_energy_freq\"][primitive][steps_post-1][0], '\\n \\tevents', data[\"freq_dict\"][primitive][0])\n"
   ]
  },
  {
   "attachments": {},
   "cell_type": "markdown",
   "metadata": {},
   "source": [
    "### Enhanced sampling\n",
    "\n",
    "Now we can test the enhance sampling. To later compare frequentist vs enhanced"
   ]
  },
  {
   "cell_type": "code",
   "execution_count": 29,
   "metadata": {},
   "outputs": [
    {
     "name": "stdout",
     "output_type": "stream",
     "text": [
      "\n",
      "Repetition 1\n",
      "\n",
      "\n",
      "Sampling for ZZZ ...\n",
      "Guesses: amplitude, mean, std_dev: 0.028464571998210765 0.33420180724848 0.004401991792751517\n",
      "Fit successful: Converged with popt: [0.0284682  0.33423223 0.00440329]\n",
      "Guesses: amplitude, mean, std_dev: 0.028487818621582856 0.32974058292482666 0.0043974072129629935\n",
      "Fit successful: Converged with popt: [0.02849807 0.32976921 0.00439866]\n",
      "Guesses: amplitude, mean, std_dev: 0.028464571998210765 0.33420180724848 0.004401991792751517\n",
      "Fit successful: Converged with popt: [0.0284682  0.33423223 0.00440329]\n",
      "\n",
      "\n",
      "Sampling for XII ...\n",
      "Guesses: amplitude, mean, std_dev: 0.02854948319793575 1.6484991239003453 0.004389235798953513\n",
      "Fit successful: Converged with popt: [0.02855183 1.64851816 0.00439033]\n",
      "Guesses: amplitude, mean, std_dev: 0.028548235978245292 1.6488147600275134 0.004389433536944412\n",
      "Fit successful: Converged with popt: [0.02855053 1.64883388 0.00439053]\n",
      "Guesses: amplitude, mean, std_dev: 0.028543146124964766 1.6500818787015148 0.00439024535261324\n",
      "Fit successful: Converged with popt: [0.02854523 1.65010137 0.00439135]\n",
      "\n",
      "\n",
      "Sampling for IXI ...\n",
      "Guesses: amplitude, mean, std_dev: 0.028575079975428956 1.5377552250528526 0.004384532856796375\n",
      "Fit successful: Converged with popt: [0.02858291 1.53774784 0.00438552]\n",
      "Guesses: amplitude, mean, std_dev: 0.028579477608263248 1.5421650819918697 0.004383571563636443\n",
      "Fit successful: Converged with popt: [0.02858921 1.54215866 0.00438456]\n",
      "Guesses: amplitude, mean, std_dev: 0.02856401462863978 1.5372016764573646 0.0043846714535691654\n",
      "Fit successful: Converged with popt: [0.02858201 1.53719417 0.00438566]\n"
     ]
    }
   ],
   "source": [
    "#Initialize the EnhancedSampler\n",
    "EnhanceSamplerTest = EnhancedSampling.EnhancedSampler(Hamiltonian,\n",
    "                                                      Layers,\n",
    "                                                      ansatz_assigned,\n",
    "                                                      random_seed=44)\n",
    "\n",
    "print('\\nRepetition', repetitions)\n",
    "fit_energy, fit_variance = EnhanceSamplerTest.eval(data[\"pre_energy_freq\"], data[\"std_dev_freq\"], quantum_instance, repetitions, steps_post, steps_pre)\n"
   ]
  },
  {
   "cell_type": "code",
   "execution_count": 30,
   "metadata": {},
   "outputs": [
    {
     "name": "stdout",
     "output_type": "stream",
     "text": [
      "Hamiltonian parts measured:\n",
      "\n",
      "ZZZ\n",
      "Exact energy = 0.9448982362267818\n",
      "Initial energy= 0.9513333333333333 err= 0.0056272122881294295\n",
      "Frequentist energy 0.9526666666666667\n",
      "Enhanced Energy = 0.9446532934071042 err= 0.0014445160956443547\n",
      "\n",
      "XII\n",
      "Exact energy = -0.07972285693391248\n",
      "Initial energy= -0.06600000000000009 err= 0.018220647555244683\n",
      "Frequentist energy -0.08766666666666677\n",
      "Enhanced Energy = -0.07922117739422849 err= 0.004377503651542197\n",
      "\n",
      "IXI\n",
      "Exact energy = 0.03207794169271983\n",
      "Initial energy= 0.0266666666666666 err= 0.018253968484088667\n",
      "Frequentist energy 0.03399999999999997\n",
      "Enhanced Energy = 0.03359551184266223 err= 0.004383145991593109\n",
      "\n",
      "Total Frequentist energy 0.8989999999999998 \n",
      "Total Enhanced energy 0.8990276278555379\n",
      "\n",
      "Total Exact energy 0.8972533209855892\n"
     ]
    }
   ],
   "source": [
    "\n",
    "freq_tot_energy = 0\n",
    "enha_tot_energy = 0\n",
    "\n",
    "print(\"Hamiltonian parts measured:\")\n",
    "\n",
    "for H_part in Hamiltonian.to_pauli_op():\n",
    "    print()\n",
    "    primitive = str(H_part)\n",
    "    print(primitive)\n",
    "    print('Exact energy =', data[\"exact_energy\"][primitive])\n",
    "    print('Initial energy=', sum(data[\"pre_energy_freq\"][primitive][steps_pre-1].values())/repetitions, 'err=', sum(data[\"std_dev_freq\"][primitive][steps_pre-1].values())/repetitions)\n",
    "    print('Frequentist energy', sum(data[\"post_energy_freq\"][primitive][steps_post-1].values())/repetitions)\n",
    "    print('Enhanced Energy =', sum(fit_energy[primitive][steps_post-1].values())/repetitions, 'err=', np.sqrt(sum(fit_variance[primitive][steps_post-1].values())/repetitions))\n",
    "\n",
    "    freq_tot_energy += sum(data[\"post_energy_freq\"][primitive][steps_post-1].values())/repetitions\n",
    "    enha_tot_energy += sum(fit_energy[primitive][steps_post-1].values())/repetitions\n",
    "\n",
    "print('\\nTotal Frequentist energy', freq_tot_energy,\n",
    "      '\\nTotal Enhanced energy', enha_tot_energy) \n",
    "print('\\nTotal Exact energy', sum(data[\"exact_energy\"].values()))\n"
   ]
  },
  {
   "attachments": {},
   "cell_type": "markdown",
   "metadata": {},
   "source": [
    "### Plot the results"
   ]
  },
  {
   "cell_type": "code",
   "execution_count": 31,
   "metadata": {},
   "outputs": [
    {
     "data": {
      "image/png": "[encoded data removed]",
      "text/plain": [
       "<Figure size 864x576 with 1 Axes>"
      ]
     },
     "metadata": {
      "needs_background": "light"
     },
     "output_type": "display_data"
    }
   ],
   "source": [
    "plt.rcParams.update({'font.size': 18})\n",
    "\n",
    "lenH = len(Hamiltonian.to_pauli_op())\n",
    "freq_rmse = np.zeros((lenH,steps_post+1))\n",
    "enha_rmse = np.zeros((lenH,steps_post+1))\n",
    "pre_freq_rmse = np.zeros((lenH,steps_pre))\n",
    "plt.figure(figsize=(12,8))\n",
    "for h,H_part in enumerate(Hamiltonian.to_pauli_op()):\n",
    "    primitive = str(H_part)\n",
    "    for t in range(steps_pre):\n",
    "        pre_freq_rmse[h,t] = get_RMSE(data['pre_energy_freq'][primitive][t],data['exact_energy'][primitive])\n",
    "    freq_rmse[h,0]= pre_freq_rmse[h,steps_pre-1]\n",
    "    enha_rmse[h,0]= pre_freq_rmse[h,steps_pre-1]\n",
    "    for t in range(0,steps_post):\n",
    "        #print(pre_energy_freq[primitive][t])\n",
    "        freq_rmse[h,t+1] = get_RMSE(data['post_energy_freq'][primitive][t],data['exact_energy'][primitive])\n",
    "        enha_rmse[h,t+1] = get_RMSE(fit_energy[primitive][t],data['exact_energy'][primitive])\n",
    "plt.plot(np.asarray(range(1,steps_pre+1))*sample_every, \n",
    "         np.sum(pre_freq_rmse,axis=0), label=\"Pre-sampling (Frequentist)\" )\n",
    "plt.plot(num_preshots+np.asarray(range(steps_post+1))*sample_every, np.sum(freq_rmse,axis=0) , label=\"Frequentist sampling\")\n",
    "plt.plot(num_preshots+np.asarray(range(steps_post+1))*sample_every, np.sum(enha_rmse,axis=0) ,linestyle = '--', label=\"Enhanced circuit with \"+str(Layers)+\" layers \")\n",
    "#plt.plot(range(num_steps),-0.01+1/np.sqrt(range(1000,1000+num_steps)))\n",
    "plt.yscale('log')\n",
    "plt.legend()\n",
    "plt.ylabel('RMSE')\n",
    "plt.xlabel('Shots')\n",
    "plt.title('Total Energy: Root-mean-squared error (RMSE).')\n",
    "plt.savefig('RMSE_'+str(Layers)+'__rep'+str(repetitions)+'.png')"
   ]
  }
 ],
 "metadata": {
  "kernelspec": {
   "display_name": "NEASQC4wMYQLM",
   "language": "python",
   "name": "python3"
  },
  "language_info": {
   "codemirror_mode": {
    "name": "ipython",
    "version": 3
   },
   "file_extension": ".py",
   "mimetype": "text/x-python",
   "name": "python",
   "nbconvert_exporter": "python",
   "pygments_lexer": "ipython3",
   "version": "3.9.7"
  },
  "orig_nbformat": 4,
  "vscode": {
   "interpreter": {
    "hash": "8fecc24a9c06863268eef22b722bc39970e040fd4701f3b867876035cf1a5542"
   }
  }
 },
 "nbformat": 4,
 "nbformat_minor": 2
}
