{
 "cells": [
  {
   "cell_type": "markdown",
   "metadata": {},
   "source": [
    "# Comparison of algortihms/ansatz in Li-H ground state search\n",
    "## VQE\n",
    "## AdaptVQE\n",
    "## VHA\n",
    "## Imaginary time evolution\n",
    "\n",
    "##"
   ]
  },
  {
   "cell_type": "code",
   "execution_count": 1,
   "metadata": {},
   "outputs": [
    {
     "name": "stderr",
     "output_type": "stream",
     "text": [
      "/home/gsilvi/miniforge3/envs/NEASQC4wMYQLM/lib/python3.9/site-packages/pyscf/lib/misc.py:46: H5pyDeprecationWarning: Using default_file_mode other than 'r' is deprecated. Pass the mode to h5py.File() instead.\n",
      "  h5py.get_config().default_file_mode = 'a'\n"
     ]
    },
    {
     "name": "stdout",
     "output_type": "stream",
     "text": [
      "{'qiskit-terra': '0.18.2', 'qiskit-aer': '0.9.0', 'qiskit-ignis': '0.6.0', 'qiskit-ibmq-provider': '0.16.0', 'qiskit-aqua': '0.9.5', 'qiskit': '0.30.0', 'qiskit-nature': '0.2.0', 'qiskit-finance': None, 'qiskit-optimization': None, 'qiskit-machine-learning': None}\n"
     ]
    },
    {
     "name": "stderr",
     "output_type": "stream",
     "text": [
      "/home/gsilvi/.local/lib/python3.9/site-packages/qiskit/aqua/__init__.py:86: DeprecationWarning: The package qiskit.aqua is deprecated. It was moved/refactored to qiskit-terra For more information see <https://github.com/Qiskit/qiskit-aqua/blob/main/README.md#migration-guide>\n",
      "  warn_package('aqua', 'qiskit-terra')\n"
     ]
    }
   ],
   "source": [
    "import os\n",
    "os.environ[\"TMPDIR\"] = \"/tmp\"  # set the folder for temporary files\n",
    "import sys \n",
    "sys.path.insert(0, '/home/gsilvi/.local/lib/python3.9/site-packages')\n",
    "\n",
    "from qiskit_nature.drivers import UnitsType, Molecule\n",
    "from qiskit_nature.drivers.second_quantization.pyscfd import PySCFDriver\n",
    "from qiskit_nature.transformers.second_quantization.electronic import FreezeCoreTransformer\n",
    "from qiskit_nature.problems.second_quantization import ElectronicStructureProblem\n",
    "from qiskit_nature.converters.second_quantization import QubitConverter\n",
    "from qiskit_nature.mappers.second_quantization import JordanWignerMapper, ParityMapper\n",
    "from qiskit_nature.algorithms import VQEUCCFactory,GroundStateEigensolver,AdaptVQE\n",
    "from qiskit_nature.circuit.library import HartreeFock, UCCSD,UCC\n",
    "\n",
    "from qiskit.algorithms import NumPyMinimumEigensolver\n",
    "from qiskit.algorithms.optimizers import SLSQP,L_BFGS_B,SPSA, COBYLA\n",
    "from qiskit.utils import QuantumInstance\n",
    "from qiskit import Aer\n",
    "from qiskit.opflow.gradients import Gradient, NaturalGradient, QFI, Hessian\n",
    "from qiskit.circuit.library import TwoLocal\n",
    "from qiskit.test.mock import FakeVigo\n",
    "# from qiskit.providers.aer.noise import NoiseModel\n",
    "# from qiskit.providers.aer import AerSimulator,QasmSimulator\n",
    "\n",
    "# import HQStyle\n",
    "# HQStyle.import_all()\n",
    "from qiskit_mod.qiskit_nat import VHA\n",
    "from qiskit_mod.qiskit_ter import LinCombFullmod,LinCombMod\n",
    "\n",
    "import numpy as np \n",
    "import time as time\n",
    "import matplotlib.pyplot as plt\n",
    "\n",
    "#CHECK VERSIONS OF QISKIT: 'qiskit-terra': '0.19.0','qiskit-aer': '0.8.2','qiskit-nature': '0.2.0'\n",
    "import qiskit\n",
    "print(qiskit.__qiskit_version__)"
   ]
  },
  {
   "cell_type": "code",
   "execution_count": null,
   "metadata": {},
   "outputs": [],
   "source": []
  },
  {
   "cell_type": "code",
   "execution_count": 2,
   "metadata": {},
   "outputs": [],
   "source": [
    "#'qiskit-terra': '0.18.2', 'qiskit-aer': '0.8.2', 'qiskit-ignis': None, 'qiskit-ibmq-provider': None, 'qiskit-aqua': None, \n",
    "#'qiskit': '0.30.0', 'qiskit-nature': '0.2.0', 'qiskit-finance': None, 'qiskit-optimization': None, 'qiskit-machine-learning': None\n",
    "\n",
    "# from qat.qlmaas import QLMaaSConnection\n",
    "\n",
    "# conn = QLMaaSConnection(hostname=\"qlm35e.neasqc.eu\")\n",
    "# conn.create_config()"
   ]
  },
  {
   "cell_type": "code",
   "execution_count": 3,
   "metadata": {},
   "outputs": [],
   "source": [
    "#MYQLM addition\n",
    "from qat.interop.qiskit import QPUToBackend\n",
    "from qat.qpus import get_default_qpu,PyLinalg\n",
    "qpu_local = PyLinalg() #local\n",
    "qlm_qpu = qpu_local\n",
    "\n",
    "#my own function\n",
    "from qiskit_mod.wrapper2myqlm import *\n",
    "from qiskit_mod.my_junction import IterativeExplorationVQE,get_energy_evaluation_QLM\n",
    "VQE.get_energy_evaluation = get_energy_evaluation_QLM #override the function, class-wide\n",
    "plugin_in_use = IterativeExplorationVQE\n",
    "\n",
    "use_remote = True\n",
    "if use_remote:\n",
    "    \n",
    "    from qlmaas.qpus import LinAlg\n",
    "    from qlmaas.plugins import IterativeExplorationVQE as IterativeExplorationVQEremote\n",
    "    qpu_remote = LinAlg() #remote\n",
    "    qlm_qpu = qpu_remote\n",
    "    plugin_in_use = IterativeExplorationVQEremote\n",
    "\n"
   ]
  },
  {
   "cell_type": "code",
   "execution_count": 4,
   "metadata": {},
   "outputs": [
    {
     "name": "stdout",
     "output_type": "stream",
     "text": [
      "<class 'float'>\n"
     ]
    }
   ],
   "source": [
    "ent = np.ndarray(3 ).tolist()\n",
    "import json\n",
    "here = json.dumps(ent)\n",
    "there = json.loads(here)\n",
    "print(type(there[0]))"
   ]
  },
  {
   "cell_type": "markdown",
   "metadata": {},
   "source": []
  },
  {
   "cell_type": "code",
   "execution_count": 5,
   "metadata": {},
   "outputs": [
    {
     "name": "stdout",
     "output_type": "stream",
     "text": [
      "Initial parameter for VHA, 1*(H_ex,H_op,H_diag)= [1.0, 1.0, 1.0]\n",
      "Range of distance to compute: [1.]\n"
     ]
    }
   ],
   "source": [
    "# %%pycodestyle\n",
    "distances = np.arange(1, 4.5, 4)  # angstrom distance\n",
    "\n",
    "\n",
    "# Initialize qubit converter\n",
    "qubit_converter = QubitConverter(mapper=ParityMapper(), two_qubit_reduction=True)  # two qubit reduction doesn`t work with Jordan-WignerMapper()\n",
    "\n",
    "# Initialize Exact solvers & VQE solver\n",
    "numpy_solver = NumPyMinimumEigensolver()\n",
    "\n",
    "shots=1024\n",
    "# NOISE\n",
    "seed = 24\n",
    "usenoise=False  #HERE CHOOSE TO USE THE NOISE \n",
    "backend = Aer.get_backend('aer_simulator')\n",
    "backend_sv = Aer.get_backend('statevector_simulator')\n",
    "if usenoise:\n",
    "    device_backend = FakeVigo()\n",
    "    device = QasmSimulator.from_backend(device_backend)\n",
    "    coupling_map = device.configuration().coupling_map\n",
    "    noise_model = NoiseModel.from_backend(device)\n",
    "    basis_gates = noise_model.basis_gates\n",
    "    quantum_instance = QuantumInstance(backend=backend, seed_simulator=seed, seed_transpiler=seed,\n",
    "                     coupling_map=coupling_map, noise_model=noise_model,shots=shots,  max_credits=None) # max_credits=None necessary with myqlm\n",
    "else:\n",
    "    quantum_instance = QuantumInstance(backend=backend, shots=shots,  max_credits=None)\n",
    "    \n",
    "\n",
    "\n",
    "\n",
    "# Optimizer\n",
    "optimizer = L_BFGS_B(maxiter=1000)\n",
    "#optimizer = COBYLA(maxiter=1000)\n",
    "#optimizer = SPSA(maxiter=100)\n",
    "\n",
    "\n",
    "# vha solver\n",
    "trotter_steps = 1\n",
    "time_step_size = 1.\n",
    "# prepare intial point for VHA, inspired by adiabatic evolution\n",
    "ip = []\n",
    "for i in range(trotter_steps):\n",
    "    ip.append(time_step_size*((i+1)/trotter_steps))  # param for H_ex = V\n",
    "    ip.append(time_step_size)                        # param for H_hop = H_0\n",
    "    ip.append(time_step_size)                        # param for H_diag = H_0\n",
    "\n",
    "print('Initial parameter for VHA, '+str(trotter_steps)+'*(H_ex,H_op,H_diag)=', ip)\n",
    "\n",
    "print('Range of distance to compute:',distances)\n",
    "\n",
    "# print('quantum_instance:',quantum_instance)"
   ]
  },
  {
   "cell_type": "code",
   "execution_count": 6,
   "metadata": {},
   "outputs": [
    {
     "name": "stdout",
     "output_type": "stream",
     "text": [
      "\n",
      " step 0 , bond_distance= 1.0\n",
      "Number of qubits 4\n"
     ]
    },
    {
     "name": "stderr",
     "output_type": "stream",
     "text": [
      "/home/gsilvi/Projects/NEASQ-4/Variationals_algorithms/qiskit_mod/qiskit_nat/ansatzVHA.py:156: DeprecationWarning: The EvolvedOperatorAnsatz class is deprecated as of version 0.2.0 and will be removed no sooner than 3 months after the release. Instead use the EvolvedOperatorAnsatz class from qiskit.circuit.library as a direct replacement.\n",
      "  super().__init__(reps=reps, evolution=PauliTrotterEvolution(), initial_state=initial_state)\n"
     ]
    },
    {
     "name": "stdout",
     "output_type": "stream",
     "text": [
      "Exact:\t [-7.76862177+0.j] ,exec_time= 1.6287008420003986 s\n",
      "Submitted a new batch: Job4765\n",
      "Waiting for remote job to complete....\tdone\n",
      "Imaginary time evo. , -7.691286613695351 ,exec_time= 23.27377466100006 s, number of optimal parameters= 8\n",
      "Submitted a new batch: Job4766\n",
      "Waiting for remote job to complete....\tdone\n",
      "VQE:\t -7.7660609213617375 ,exec_time= 44.374519892000535 s, number of optimal parameters= 8\n",
      "Submitted a new batch: Job4767\n",
      "Waiting for remote job to complete....\tdone\n",
      "AdaptVQE: -7.768297865769488 ,exec_time= 65.80438095299905 s,number of optimal parameters= 2\n",
      "Submitted a new batch: Job4768\n",
      "Waiting for remote job to complete....\tdone\n",
      "VHA , 1 steps: -7.492163117612749 ,exec_time= 38.09309095900244 s, number of optimal parameters= 3\n"
     ]
    }
   ],
   "source": [
    "#%%pycodestyle\n",
    "\n",
    "exact_energies, hf_energies, vqe_energies, adapt_vqe_energies, Ievo_energies, Ievo_params, vqe_params, adapt_vqe_params, vha_energies, vha_params = ([] for i in range(10))\n",
    "\n",
    "# Molecule\n",
    "molecule = 'H .0 .0 -{0}; Li .0 .0 {0}'\n",
    "orbitals_to_remove = [4,5]\n",
    "\n",
    "for i, bond_distance in enumerate(distances):  # loop over distances\n",
    "    print('\\n step', i, ', bond_distance=', bond_distance)\n",
    "    molecule_set = molecule.format(bond_distance/2)\n",
    "    driver = PySCFDriver(atom=molecule_set, unit=UnitsType.ANGSTROM, basis='sto3g')\n",
    "    #qmolecule = driver.run()\n",
    "    es_problem = ElectronicStructureProblem(driver,q_molecule_transformers=[FreezeCoreTransformer(freeze_core=True, remove_orbitals=orbitals_to_remove)])\n",
    "    second_q_op = es_problem.second_q_ops()\n",
    "    qubit_op = qubit_converter.convert(second_q_op[0], num_particles=es_problem.num_particles) #this line is useful for initialize the converter and get the right hartree-fock number of qubits\n",
    "    \n",
    "    particle_number = es_problem.properties_transformed.get_property(\"ParticleNumber\")\n",
    "    #particle_number = es_problem.grouped_property_transformed.get_property(\"ParticleNumber\")\n",
    "    num_particles = (particle_number.num_alpha, particle_number.num_beta)\n",
    "    num_spin_orbitals = particle_number.num_spin_orbitals\n",
    "\n",
    "    # Initialize solvers\n",
    "    \n",
    "\n",
    "    # Imag. Evo/ Natural gradient solver\n",
    "    hartree_fock_state = HartreeFock(num_spin_orbitals, num_particles, qubit_converter)\n",
    "    print('Number of qubits',hartree_fock_state.num_qubits)\n",
    "    nat_grad = NaturalGradient(grad_method=LinCombMod(img=False), qfi_method=LinCombFullmod(), regularization='ridge')\n",
    "    ansz = TwoLocal(hartree_fock_state.num_qubits, rotation_blocks=['ry'],  entanglement_blocks='cx', entanglement=\"full\", reps=1, parameter_prefix='a', initial_state=hartree_fock_state)\n",
    "    Im_solver = VQEUCCFactory(quantum_instance, gradient=nat_grad, optimizer=COBYLA(maxiter=1000), ansatz=ansz.decompose())\n",
    "    calcIevo = GroundStateEigensolver(qubit_converter, Im_solver)\n",
    "\n",
    "    # vqe solver\n",
    "    vqe_solver = VQEUCCFactory(quantum_instance, optimizer=optimizer)\n",
    "    calc = GroundStateEigensolver(qubit_converter, vqe_solver)\n",
    "\n",
    "    # vha solver\n",
    "    vha_solver = VQEUCCFactory(quantum_instance, optimizer=optimizer, initial_point=np.asarray(ip), ansatz=VHA(excitations='sd', trotter_steps=trotter_steps, only_excitations=True))\n",
    "    calcVHA = GroundStateEigensolver(qubit_converter, vha_solver)\n",
    "\n",
    "\n",
    "\n",
    "    # adapt vqe solver\n",
    "    adapt_calc = AdaptVQE(qubit_converter, vqe_solver, threshold=0.001)\n",
    "\n",
    "    # exact numpy solver\n",
    "    exact_calc = GroundStateEigensolver(qubit_converter, numpy_solver)\n",
    "\n",
    "    # Run the computation\n",
    "\n",
    "    ## compute exact ground state\n",
    "    start = time.time()\n",
    "    res3 = exact_calc.solve(es_problem)\n",
    "    exact_energies.append(res3.total_energies)\n",
    "    end = time.time()\n",
    "    print('Exact:\\t', res3.total_energies, ',exec_time=', end - start, 's')\n",
    " \n",
    "    # compute ground state with Imaginary time evo  \n",
    "    start = time.time()\n",
    "    # resIevo = calcIevo.solve(es_problem)\n",
    "    \n",
    "    stack = build_QLM_stack(calcIevo,molecule_set,plugin_in_use,qlm_qpu, shots=shots, remove_orbitals=orbitals_to_remove)\n",
    "    resIevo = run_QLM_stack(stack)\n",
    "    Ievo_energies.append(np.real(resIevo.total_energies))\n",
    "    Ievo_params.append(len(resIevo.raw_result.optimal_parameters))\n",
    "    end = time.time()\n",
    "    print('Imaginary time evo. ,',\n",
    "          resIevo.total_energies, ',exec_time=',\n",
    "          end - start, 's, number of optimal parameters=',\n",
    "          len(resIevo.raw_result.optimal_parameters))\n",
    "\n",
    "    # ##compute ground state with VQE\n",
    "    # start = time.time()\n",
    "    # res_cla = calc.solve(es_problem)\n",
    "    # end = time.time()\n",
    "    # print('VQE classic:\\t', res_cla.total_energies,\n",
    "    #       ',exec_time=', end - start,\n",
    "    #       's, number of optimal parameters=', len(res_cla.raw_result.optimal_parameters))\n",
    "\n",
    "    #VQE#VQE#VQE#VQE#VQE#VQE#VQE#VQE#VQE\n",
    "    #steps_to_try = [(IterativeExplorationVQEremote,qpu_remote),(IterativeExplorationVQE,qpu_local)]\n",
    "    #steps_to_try = [(IterativeExplorationVQE,qpu_remote)]\n",
    "    #steps_to_try = [(IterativeExplorationVQE,qpu_local)]\n",
    "    #for plugin_in_use,qlm_qpu in steps_to_try:\n",
    "    start = time.time()\n",
    "    stack = build_QLM_stack(calc,molecule_set,plugin_in_use,qlm_qpu, shots=shots, remove_orbitals=orbitals_to_remove)\n",
    "    res = run_QLM_stack(stack)\n",
    "    vqe_energies.append(np.real(res.total_energies))\n",
    "    hf_energies.append(res.hartree_fock_energy)\n",
    "    vqe_params.append(len(res.raw_result.optimal_parameters))\n",
    "    end = time.time()\n",
    "    print('VQE:\\t', res.total_energies,\n",
    "        ',exec_time=', end - start,\n",
    "        's, number of optimal parameters=', len(res.raw_result.optimal_parameters))\n",
    "    #print(res.raw_result)\n",
    "    # compute ground state with AdaptVQE\n",
    "    start = time.time()\n",
    "    stack = build_QLM_stack(adapt_calc,molecule_set,plugin_in_use,qlm_qpu, shots=shots, remove_orbitals=orbitals_to_remove)\n",
    "    res2 = run_QLM_stack(stack)\n",
    "    adapt_vqe_energies.append(np.real(res2.total_energies))\n",
    "    adapt_vqe_params.append(len(res2.raw_result.optimal_parameters))\n",
    "    end = time.time()\n",
    "    print('AdaptVQE:', res2.total_energies,\n",
    "          ',exec_time=', end - start,\n",
    "          's,number of optimal parameters=', len(res2.raw_result.optimal_parameters))\n",
    "\n",
    "    # # Adapt run on Qiskit solver\n",
    "    # start = time.time()\n",
    "    # adapt_calc2 = AdaptVQE(qubit_converter, vqe_solver, threshold=0.001)\n",
    "    # res2_cla = adapt_calc2.solve(es_problem)\n",
    "    # end = time.time()\n",
    "    # print('AdaptVQE classic:', res2_cla.total_energies,\n",
    "    #       ',exec_time=', end - start,\n",
    "    #        's,number of optimal parameters=', len(res2_cla.raw_result.optimal_parameters))\n",
    "    # compute ground state with VHA\n",
    "    start = time.time()\n",
    "    #resVHA = calcVHA.solve(es_problem)\n",
    "    stack = build_QLM_stack(calcVHA,molecule_set,plugin_in_use,qlm_qpu, shots=shots, remove_orbitals=orbitals_to_remove)\n",
    "    resVHA = run_QLM_stack(stack)\n",
    "    vha_energies.append(np.real(resVHA.total_energies))\n",
    "    vha_params.append(len(resVHA.raw_result.optimal_parameters))\n",
    "    end = time.time()\n",
    "    print('VHA ,', trotter_steps, 'steps:',\n",
    "          resVHA.total_energies, ',exec_time=',\n",
    "          end - start, 's, number of optimal parameters=',\n",
    "          len(resVHA.raw_result.optimal_parameters))\n",
    "          \n",
    "    "
   ]
  },
  {
   "cell_type": "code",
   "execution_count": 7,
   "metadata": {},
   "outputs": [
    {
     "data": {
      "text/plain": [
       "'/qiskit_mod/qiskit_nat/'"
      ]
     },
     "execution_count": 7,
     "metadata": {},
     "output_type": "execute_result"
    }
   ],
   "source": [
    "path1 = \"../qiskit_mod/qiskit_nat/\"\n",
    "path1[2:]\n",
    "# print(res2_cla.raw_result)"
   ]
  },
  {
   "cell_type": "code",
   "execution_count": null,
   "metadata": {},
   "outputs": [],
   "source": []
  },
  {
   "cell_type": "code",
   "execution_count": 8,
   "metadata": {},
   "outputs": [
    {
     "data": {
      "image/png": "[encoded data removed]",
      "text/plain": [
       "<Figure size 1728x864 with 3 Axes>"
      ]
     },
     "metadata": {
      "needs_background": "light"
     },
     "output_type": "display_data"
    }
   ],
   "source": [
    "\n",
    "plt.rcParams.update({\n",
    "    \"text.usetex\": True,\n",
    "    \"font.family\": \"serif\",\n",
    "    \"font.sans-serif\": [\"Palatino\"],\n",
    "    'font.size'   : 18})\n",
    "\n",
    "fig, (ax1, ax2, ax3) = plt.subplots(1, 3, figsize=(24, 12))\n",
    "\n",
    "ax1.plot(distances, hf_energies, color='blue', label='Hartree-Fock')\n",
    "ax1.plot(distances, adapt_vqe_energies, '.',markersize=14,linestyle='--', color='green', label='AdaptVQE (threshold=0.001)')\n",
    "ax1.plot(distances, vha_energies, 'o',markersize=14,linestyle='--', color='red', label='VHA ('+str(trotter_steps)+' steps)')\n",
    "ax1.plot(distances, Ievo_energies, 's',markersize=12,linestyle='--', color='purple', label='Imag.time evo.')\n",
    "ax1.plot(distances, exact_energies, '.',markersize=16, color='black', label='Exact')\n",
    "ax1.plot(distances, vqe_energies, 'x',markersize=14,linestyle='--', color='orange', label='VQE')\n",
    "ax1.set_xlabel('Interatomic distance [Angstrom]')\n",
    "ax1.set_ylabel('Energy [Hartree]')\n",
    "ax1.set_title('H-Li Ground State Energy')\n",
    "ax1.legend(loc='upper left')\n",
    "\n",
    "\n",
    "ypoints = [abs(a - b) for a, b in zip(hf_energies, exact_energies)]\n",
    "ax2.plot(distances, ypoints, color='blue', label='Hartree-Fock')\n",
    "ypoints = [abs(a - b) for a, b in zip(adapt_vqe_energies, exact_energies)]\n",
    "ax2.plot(distances, ypoints, '.',markersize=16, linestyle='--', color='green', label='AdaptVQE')\n",
    "ypoints = [abs(a - b) for a, b in zip(vha_energies, exact_energies)]\n",
    "ax2.plot(distances, ypoints, 'o',markersize=14, linestyle='--', color='red', label='VHA('+str(trotter_steps)+' steps)')\n",
    "ypoints = [abs(a - b) for a, b in zip(Ievo_energies, exact_energies)]\n",
    "ax2.plot(distances, ypoints, 's',markersize=12, linestyle='--', color='purple', label='Imag.time evo.')\n",
    "ypoints = [abs(a - b) for a, b in zip(vqe_energies, exact_energies)]\n",
    "ax2.plot(distances, ypoints, 'x',markersize=14, linestyle='--', color='orange', label='VQE')\n",
    "\n",
    "ax2.set_yscale('log')\n",
    "ax2.set_xlabel('Interatomic distance [Angstrom]')\n",
    "ax2.set_ylabel('$|E-E_{exact}|$ [Hartree]')\n",
    "ax2.set_title('H-Li Ground State Energy error')\n",
    "ax2.legend()\n",
    "\n",
    "\n",
    "\n",
    "ax3.plot(distances, adapt_vqe_params, '.',markersize=16, linestyle='-.', color='green', label='AdaptVQE')\n",
    "ax3.plot(distances, vha_params, 'o',markersize=14, linestyle='-.', color='red', label='VHA('+str(trotter_steps)+' steps)')\n",
    "ax3.plot(distances, Ievo_params, 's',markersize=12, linestyle=':', color='purple', label='Imag.time evo.')\n",
    "ax3.plot(distances, vqe_params, 'x',markersize=14, linestyle='-.', color='orange', label='VQE')\n",
    "\n",
    "ax3.set_xlabel('Interatomic distance [Angstrom]')\n",
    "ax3.set_ylabel('Number of parameters')\n",
    "ax3.set_title('Number of optimal parameters')\n",
    "ax3.legend()\n",
    "\n",
    "\n",
    "if usenoise==True: fig.savefig('LiH_ground_energy_noise.pdf')\n",
    "else: fig.savefig('LiH_ground_energy.pdf')"
   ]
  },
  {
   "cell_type": "markdown",
   "metadata": {},
   "source": [
    "#SPSA with QLM/Qiskit connect:\n",
    "Imaginary time evo. , [-7.90559332+0.j] ,exec_time= 3111.1358227300007 s, number of optimal parameters= 8\n",
    "\n",
    "#SPSA with Aer:\n",
    "Imaginary time evo. , [-7.75151032+0.j] ,exec_time= 36.950019929998234 s, number of optimal parameters= 8\n",
    "#BFGS with Aer\n",
    "Imaginary time evo. , [-7.70751657+0.j] ,exec_time= 343.3909823739996 s, number of optimal parameters= 8\n",
    "VQE:\t [-7.76604789+0.j] ,exec_time= 55.28980863800098 s, number of optimal parameters= 8\n",
    "AdaptVQE: [-7.76717529+0.j] ,exec_time= 40.72279509399959 s, number of iterations 2 ,number of optimal parameters= 1 \n",
    "(final max gradient 0.019331612712393753 final criterion Aborted due to cyclicity )\n",
    "VHA , 3 steps: [-7.26440225+0.j] ,exec_time= 147.13711580099698 s, number of optimal parameters= 9"
   ]
  },
  {
   "cell_type": "code",
   "execution_count": 9,
   "metadata": {},
   "outputs": [
    {
     "name": "stderr",
     "output_type": "stream",
     "text": [
      "capi_return is NULL\n",
      "Call-back cb_calcfc_in__cobyla__user__routines failed.\n"
     ]
    },
    {
     "ename": "AttributeError",
     "evalue": "'VQE' object has no attribute 'nb_shots'",
     "output_type": "error",
     "traceback": [
      "\u001b[0;31m---------------------------------------------------------------------------\u001b[0m",
      "\u001b[0;31mAttributeError\u001b[0m                            Traceback (most recent call last)",
      "\u001b[0;32m/tmp/ipykernel_56653/473008927.py\u001b[0m in \u001b[0;36m<module>\u001b[0;34m\u001b[0m\n\u001b[1;32m     25\u001b[0m \u001b[0mes_problem\u001b[0m \u001b[0;34m=\u001b[0m \u001b[0mElectronicStructureProblem\u001b[0m\u001b[0;34m(\u001b[0m\u001b[0mdriver\u001b[0m\u001b[0;34m,\u001b[0m\u001b[0mq_molecule_transformers\u001b[0m\u001b[0;34m=\u001b[0m\u001b[0;34m[\u001b[0m\u001b[0mFreezeCoreTransformer\u001b[0m\u001b[0;34m(\u001b[0m\u001b[0mfreeze_core\u001b[0m\u001b[0;34m=\u001b[0m\u001b[0;32mTrue\u001b[0m\u001b[0;34m,\u001b[0m \u001b[0mremove_orbitals\u001b[0m\u001b[0;34m=\u001b[0m\u001b[0;34m[\u001b[0m\u001b[0;36m4\u001b[0m\u001b[0;34m,\u001b[0m\u001b[0;36m5\u001b[0m\u001b[0;34m]\u001b[0m\u001b[0;34m)\u001b[0m\u001b[0;34m]\u001b[0m\u001b[0;34m)\u001b[0m\u001b[0;34m\u001b[0m\u001b[0;34m\u001b[0m\u001b[0m\n\u001b[1;32m     26\u001b[0m \u001b[0;34m\u001b[0m\u001b[0m\n\u001b[0;32m---> 27\u001b[0;31m \u001b[0mresIevo_1\u001b[0m \u001b[0;34m=\u001b[0m \u001b[0mcalcIevo_1\u001b[0m\u001b[0;34m.\u001b[0m\u001b[0msolve\u001b[0m\u001b[0;34m(\u001b[0m\u001b[0mes_problem\u001b[0m\u001b[0;34m)\u001b[0m\u001b[0;34m\u001b[0m\u001b[0;34m\u001b[0m\u001b[0m\n\u001b[0m\u001b[1;32m     28\u001b[0m \u001b[0mresIevo_2\u001b[0m \u001b[0;34m=\u001b[0m \u001b[0mcalcIevo_2\u001b[0m\u001b[0;34m.\u001b[0m\u001b[0msolve\u001b[0m\u001b[0;34m(\u001b[0m\u001b[0mes_problem\u001b[0m\u001b[0;34m)\u001b[0m\u001b[0;34m\u001b[0m\u001b[0;34m\u001b[0m\u001b[0m\n",
      "\u001b[0;32m~/.local/lib/python3.9/site-packages/qiskit_nature/algorithms/ground_state_solvers/ground_state_eigensolver.py\u001b[0m in \u001b[0;36msolve\u001b[0;34m(self, problem, aux_operators)\u001b[0m\n\u001b[1;32m    109\u001b[0m             \u001b[0maux_ops\u001b[0m \u001b[0;34m=\u001b[0m \u001b[0;32mNone\u001b[0m\u001b[0;34m\u001b[0m\u001b[0;34m\u001b[0m\u001b[0m\n\u001b[1;32m    110\u001b[0m \u001b[0;34m\u001b[0m\u001b[0m\n\u001b[0;32m--> 111\u001b[0;31m         \u001b[0mraw_mes_result\u001b[0m \u001b[0;34m=\u001b[0m \u001b[0mself\u001b[0m\u001b[0;34m.\u001b[0m\u001b[0m_solver\u001b[0m\u001b[0;34m.\u001b[0m\u001b[0mcompute_minimum_eigenvalue\u001b[0m\u001b[0;34m(\u001b[0m\u001b[0mmain_operator\u001b[0m\u001b[0;34m,\u001b[0m \u001b[0maux_ops\u001b[0m\u001b[0;34m)\u001b[0m\u001b[0;34m\u001b[0m\u001b[0;34m\u001b[0m\u001b[0m\n\u001b[0m\u001b[1;32m    112\u001b[0m \u001b[0;34m\u001b[0m\u001b[0m\n\u001b[1;32m    113\u001b[0m         \u001b[0mresult\u001b[0m \u001b[0;34m=\u001b[0m \u001b[0mproblem\u001b[0m\u001b[0;34m.\u001b[0m\u001b[0minterpret\u001b[0m\u001b[0;34m(\u001b[0m\u001b[0mraw_mes_result\u001b[0m\u001b[0;34m)\u001b[0m\u001b[0;34m\u001b[0m\u001b[0;34m\u001b[0m\u001b[0m\n",
      "\u001b[0;32m~/.local/lib/python3.9/site-packages/qiskit/algorithms/minimum_eigen_solvers/vqe.py\u001b[0m in \u001b[0;36mcompute_minimum_eigenvalue\u001b[0;34m(self, operator, aux_operators)\u001b[0m\n\u001b[1;32m    488\u001b[0m \u001b[0;34m\u001b[0m\u001b[0m\n\u001b[1;32m    489\u001b[0m         \u001b[0mstart_time\u001b[0m \u001b[0;34m=\u001b[0m \u001b[0mtime\u001b[0m\u001b[0;34m(\u001b[0m\u001b[0;34m)\u001b[0m\u001b[0;34m\u001b[0m\u001b[0;34m\u001b[0m\u001b[0m\n\u001b[0;32m--> 490\u001b[0;31m         opt_params, opt_value, nfev = self.optimizer.optimize(\n\u001b[0m\u001b[1;32m    491\u001b[0m             \u001b[0mnum_vars\u001b[0m\u001b[0;34m=\u001b[0m\u001b[0mlen\u001b[0m\u001b[0;34m(\u001b[0m\u001b[0minitial_point\u001b[0m\u001b[0;34m)\u001b[0m\u001b[0;34m,\u001b[0m\u001b[0;34m\u001b[0m\u001b[0;34m\u001b[0m\u001b[0m\n\u001b[1;32m    492\u001b[0m             \u001b[0mobjective_function\u001b[0m\u001b[0;34m=\u001b[0m\u001b[0menergy_evaluation\u001b[0m\u001b[0;34m,\u001b[0m\u001b[0;34m\u001b[0m\u001b[0;34m\u001b[0m\u001b[0m\n",
      "\u001b[0;32m~/.local/lib/python3.9/site-packages/qiskit/algorithms/optimizers/scipy_optimizer.py\u001b[0m in \u001b[0;36moptimize\u001b[0;34m(self, num_vars, objective_function, gradient_function, variable_bounds, initial_point)\u001b[0m\n\u001b[1;32m    138\u001b[0m         )\n\u001b[1;32m    139\u001b[0m \u001b[0;34m\u001b[0m\u001b[0m\n\u001b[0;32m--> 140\u001b[0;31m         res = minimize(\n\u001b[0m\u001b[1;32m    141\u001b[0m             \u001b[0mfun\u001b[0m\u001b[0;34m=\u001b[0m\u001b[0mobjective_function\u001b[0m\u001b[0;34m,\u001b[0m\u001b[0;34m\u001b[0m\u001b[0;34m\u001b[0m\u001b[0m\n\u001b[1;32m    142\u001b[0m             \u001b[0mx0\u001b[0m\u001b[0;34m=\u001b[0m\u001b[0minitial_point\u001b[0m\u001b[0;34m,\u001b[0m\u001b[0;34m\u001b[0m\u001b[0;34m\u001b[0m\u001b[0m\n",
      "\u001b[0;32m~/miniforge3/envs/NEASQC4wMYQLM/lib/python3.9/site-packages/scipy/optimize/_minimize.py\u001b[0m in \u001b[0;36mminimize\u001b[0;34m(fun, x0, args, method, jac, hess, hessp, bounds, constraints, tol, callback, options)\u001b[0m\n\u001b[1;32m    627\u001b[0m                              **options)\n\u001b[1;32m    628\u001b[0m     \u001b[0;32melif\u001b[0m \u001b[0mmeth\u001b[0m \u001b[0;34m==\u001b[0m \u001b[0;34m'cobyla'\u001b[0m\u001b[0;34m:\u001b[0m\u001b[0;34m\u001b[0m\u001b[0;34m\u001b[0m\u001b[0m\n\u001b[0;32m--> 629\u001b[0;31m         \u001b[0;32mreturn\u001b[0m \u001b[0m_minimize_cobyla\u001b[0m\u001b[0;34m(\u001b[0m\u001b[0mfun\u001b[0m\u001b[0;34m,\u001b[0m \u001b[0mx0\u001b[0m\u001b[0;34m,\u001b[0m \u001b[0margs\u001b[0m\u001b[0;34m,\u001b[0m \u001b[0mconstraints\u001b[0m\u001b[0;34m,\u001b[0m \u001b[0;34m**\u001b[0m\u001b[0moptions\u001b[0m\u001b[0;34m)\u001b[0m\u001b[0;34m\u001b[0m\u001b[0;34m\u001b[0m\u001b[0m\n\u001b[0m\u001b[1;32m    630\u001b[0m     \u001b[0;32melif\u001b[0m \u001b[0mmeth\u001b[0m \u001b[0;34m==\u001b[0m \u001b[0;34m'slsqp'\u001b[0m\u001b[0;34m:\u001b[0m\u001b[0;34m\u001b[0m\u001b[0;34m\u001b[0m\u001b[0m\n\u001b[1;32m    631\u001b[0m         return _minimize_slsqp(fun, x0, args, jac, bounds,\n",
      "\u001b[0;32m~/miniforge3/envs/NEASQC4wMYQLM/lib/python3.9/site-packages/scipy/optimize/cobyla.py\u001b[0m in \u001b[0;36mwrapper\u001b[0;34m(*args, **kwargs)\u001b[0m\n\u001b[1;32m     32\u001b[0m     \u001b[0;32mdef\u001b[0m \u001b[0mwrapper\u001b[0m\u001b[0;34m(\u001b[0m\u001b[0;34m*\u001b[0m\u001b[0margs\u001b[0m\u001b[0;34m,\u001b[0m \u001b[0;34m**\u001b[0m\u001b[0mkwargs\u001b[0m\u001b[0;34m)\u001b[0m\u001b[0;34m:\u001b[0m\u001b[0;34m\u001b[0m\u001b[0;34m\u001b[0m\u001b[0m\n\u001b[1;32m     33\u001b[0m         \u001b[0;32mwith\u001b[0m \u001b[0m_module_lock\u001b[0m\u001b[0;34m:\u001b[0m\u001b[0;34m\u001b[0m\u001b[0;34m\u001b[0m\u001b[0m\n\u001b[0;32m---> 34\u001b[0;31m             \u001b[0;32mreturn\u001b[0m \u001b[0mfunc\u001b[0m\u001b[0;34m(\u001b[0m\u001b[0;34m*\u001b[0m\u001b[0margs\u001b[0m\u001b[0;34m,\u001b[0m \u001b[0;34m**\u001b[0m\u001b[0mkwargs\u001b[0m\u001b[0;34m)\u001b[0m\u001b[0;34m\u001b[0m\u001b[0;34m\u001b[0m\u001b[0m\n\u001b[0m\u001b[1;32m     35\u001b[0m     \u001b[0;32mreturn\u001b[0m \u001b[0mwrapper\u001b[0m\u001b[0;34m\u001b[0m\u001b[0;34m\u001b[0m\u001b[0m\n\u001b[1;32m     36\u001b[0m \u001b[0;34m\u001b[0m\u001b[0m\n",
      "\u001b[0;32m~/miniforge3/envs/NEASQC4wMYQLM/lib/python3.9/site-packages/scipy/optimize/cobyla.py\u001b[0m in \u001b[0;36m_minimize_cobyla\u001b[0;34m(fun, x0, args, constraints, rhobeg, tol, maxiter, disp, catol, **unknown_options)\u001b[0m\n\u001b[1;32m    258\u001b[0m \u001b[0;34m\u001b[0m\u001b[0m\n\u001b[1;32m    259\u001b[0m     \u001b[0minfo\u001b[0m \u001b[0;34m=\u001b[0m \u001b[0mnp\u001b[0m\u001b[0;34m.\u001b[0m\u001b[0mzeros\u001b[0m\u001b[0;34m(\u001b[0m\u001b[0;36m4\u001b[0m\u001b[0;34m,\u001b[0m \u001b[0mnp\u001b[0m\u001b[0;34m.\u001b[0m\u001b[0mfloat64\u001b[0m\u001b[0;34m)\u001b[0m\u001b[0;34m\u001b[0m\u001b[0;34m\u001b[0m\u001b[0m\n\u001b[0;32m--> 260\u001b[0;31m     xopt, info = _cobyla.minimize(calcfc, m=m, x=np.copy(x0), rhobeg=rhobeg,\n\u001b[0m\u001b[1;32m    261\u001b[0m                                   \u001b[0mrhoend\u001b[0m\u001b[0;34m=\u001b[0m\u001b[0mrhoend\u001b[0m\u001b[0;34m,\u001b[0m \u001b[0miprint\u001b[0m\u001b[0;34m=\u001b[0m\u001b[0miprint\u001b[0m\u001b[0;34m,\u001b[0m \u001b[0mmaxfun\u001b[0m\u001b[0;34m=\u001b[0m\u001b[0mmaxfun\u001b[0m\u001b[0;34m,\u001b[0m\u001b[0;34m\u001b[0m\u001b[0;34m\u001b[0m\u001b[0m\n\u001b[1;32m    262\u001b[0m                                   dinfo=info)\n",
      "\u001b[0;32m~/miniforge3/envs/NEASQC4wMYQLM/lib/python3.9/site-packages/scipy/optimize/cobyla.py\u001b[0m in \u001b[0;36mcalcfc\u001b[0;34m(x, con)\u001b[0m\n\u001b[1;32m    250\u001b[0m \u001b[0;34m\u001b[0m\u001b[0m\n\u001b[1;32m    251\u001b[0m     \u001b[0;32mdef\u001b[0m \u001b[0mcalcfc\u001b[0m\u001b[0;34m(\u001b[0m\u001b[0mx\u001b[0m\u001b[0;34m,\u001b[0m \u001b[0mcon\u001b[0m\u001b[0;34m)\u001b[0m\u001b[0;34m:\u001b[0m\u001b[0;34m\u001b[0m\u001b[0;34m\u001b[0m\u001b[0m\n\u001b[0;32m--> 252\u001b[0;31m         \u001b[0mf\u001b[0m \u001b[0;34m=\u001b[0m \u001b[0mfun\u001b[0m\u001b[0;34m(\u001b[0m\u001b[0mnp\u001b[0m\u001b[0;34m.\u001b[0m\u001b[0mcopy\u001b[0m\u001b[0;34m(\u001b[0m\u001b[0mx\u001b[0m\u001b[0;34m)\u001b[0m\u001b[0;34m,\u001b[0m \u001b[0;34m*\u001b[0m\u001b[0margs\u001b[0m\u001b[0;34m)\u001b[0m\u001b[0;34m\u001b[0m\u001b[0;34m\u001b[0m\u001b[0m\n\u001b[0m\u001b[1;32m    253\u001b[0m         \u001b[0mi\u001b[0m \u001b[0;34m=\u001b[0m \u001b[0;36m0\u001b[0m\u001b[0;34m\u001b[0m\u001b[0;34m\u001b[0m\u001b[0m\n\u001b[1;32m    254\u001b[0m         \u001b[0;32mfor\u001b[0m \u001b[0msize\u001b[0m\u001b[0;34m,\u001b[0m \u001b[0mc\u001b[0m \u001b[0;32min\u001b[0m \u001b[0mizip\u001b[0m\u001b[0;34m(\u001b[0m\u001b[0mcons_lengths\u001b[0m\u001b[0;34m,\u001b[0m \u001b[0mconstraints\u001b[0m\u001b[0;34m)\u001b[0m\u001b[0;34m:\u001b[0m\u001b[0;34m\u001b[0m\u001b[0;34m\u001b[0m\u001b[0m\n",
      "\u001b[0;32m~/Projects/NEASQ-4/Variationals_algorithms/qiskit_mod/my_junction.py\u001b[0m in \u001b[0;36menergy_evaluation\u001b[0;34m(parameters)\u001b[0m\n\u001b[1;32m    233\u001b[0m             \u001b[0;31m# print(operator)\u001b[0m\u001b[0;34m\u001b[0m\u001b[0;34m\u001b[0m\u001b[0m\n\u001b[1;32m    234\u001b[0m \u001b[0;34m\u001b[0m\u001b[0m\n\u001b[0;32m--> 235\u001b[0;31m             \u001b[0mmeans\u001b[0m \u001b[0;34m=\u001b[0m \u001b[0mnp\u001b[0m\u001b[0;34m.\u001b[0m\u001b[0mreal\u001b[0m\u001b[0;34m(\u001b[0m\u001b[0mcreate_and_run_job\u001b[0m\u001b[0;34m(\u001b[0m\u001b[0mreversed_operator\u001b[0m\u001b[0;34m,\u001b[0m \u001b[0mparam_bindings\u001b[0m\u001b[0;34m)\u001b[0m\u001b[0;34m)\u001b[0m \u001b[0;31m#important to reverse the operator because of different conventions QLM/Qiskit\u001b[0m\u001b[0;34m\u001b[0m\u001b[0;34m\u001b[0m\u001b[0m\n\u001b[0m\u001b[1;32m    236\u001b[0m \u001b[0;34m\u001b[0m\u001b[0m\n\u001b[1;32m    237\u001b[0m             \u001b[0;32mif\u001b[0m \u001b[0mself\u001b[0m\u001b[0;34m.\u001b[0m\u001b[0m_callback\u001b[0m \u001b[0;32mis\u001b[0m \u001b[0;32mnot\u001b[0m \u001b[0;32mNone\u001b[0m\u001b[0;34m:\u001b[0m\u001b[0;34m\u001b[0m\u001b[0;34m\u001b[0m\u001b[0m\n",
      "\u001b[0;32m~/Projects/NEASQ-4/Variationals_algorithms/qiskit_mod/my_junction.py\u001b[0m in \u001b[0;36mcreate_and_run_job\u001b[0;34m(operator_meas, params)\u001b[0m\n\u001b[1;32m    206\u001b[0m                                             optimization_level=0)\n\u001b[1;32m    207\u001b[0m                 \u001b[0mqcirc\u001b[0m \u001b[0;34m=\u001b[0m \u001b[0mqiskit_to_qlm\u001b[0m\u001b[0;34m(\u001b[0m\u001b[0mtranspiled_circ\u001b[0m\u001b[0;34m)\u001b[0m\u001b[0;34m\u001b[0m\u001b[0;34m\u001b[0m\u001b[0m\n\u001b[0;32m--> 208\u001b[0;31m                 \u001b[0mjob\u001b[0m \u001b[0;34m=\u001b[0m \u001b[0mqcirc\u001b[0m\u001b[0;34m.\u001b[0m\u001b[0mto_job\u001b[0m\u001b[0;34m(\u001b[0m\u001b[0mobservable\u001b[0m\u001b[0;34m=\u001b[0m\u001b[0mObservable\u001b[0m\u001b[0;34m(\u001b[0m\u001b[0moperator_meas\u001b[0m\u001b[0;34m.\u001b[0m\u001b[0mnum_qubits\u001b[0m\u001b[0;34m,\u001b[0m \u001b[0mmatrix\u001b[0m\u001b[0;34m=\u001b[0m\u001b[0moperator_meas\u001b[0m\u001b[0;34m.\u001b[0m\u001b[0mto_matrix\u001b[0m\u001b[0;34m(\u001b[0m\u001b[0;34m)\u001b[0m\u001b[0;34m)\u001b[0m\u001b[0;34m,\u001b[0m\u001b[0mnbshots\u001b[0m\u001b[0;34m=\u001b[0m\u001b[0mself\u001b[0m\u001b[0;34m.\u001b[0m\u001b[0mnb_shots\u001b[0m\u001b[0;34m)\u001b[0m\u001b[0;34m\u001b[0m\u001b[0;34m\u001b[0m\u001b[0m\n\u001b[0m\u001b[1;32m    209\u001b[0m                 \u001b[0;31m# START COMPUTATION\u001b[0m\u001b[0;34m\u001b[0m\u001b[0;34m\u001b[0m\u001b[0m\n\u001b[1;32m    210\u001b[0m                 \u001b[0mresult_temp\u001b[0m \u001b[0;34m=\u001b[0m \u001b[0mself\u001b[0m\u001b[0;34m.\u001b[0m\u001b[0mexecute\u001b[0m\u001b[0;34m(\u001b[0m\u001b[0mjob\u001b[0m\u001b[0;34m)\u001b[0m\u001b[0;34m\u001b[0m\u001b[0;34m\u001b[0m\u001b[0m\n",
      "\u001b[0;31mAttributeError\u001b[0m: 'VQE' object has no attribute 'nb_shots'"
     ]
    }
   ],
   "source": [
    "from qiskit.providers.aer import AerSimulator\n",
    "\n",
    "\n",
    "qubit_converter = QubitConverter(mapper=JordanWignerMapper())\n",
    "instance_2 = NaturalGradient(grad_method=LinCombMod(img=True),\n",
    "                                qfi_method=LinCombFullmod(),\n",
    "                                regularization='ridge')\n",
    "instance_1 = NaturalGradient(grad_method=LinCombMod(img=False),\n",
    "                                qfi_method=LinCombFullmod(),\n",
    "                                regularization='ridge')\n",
    "hartree_fock_state = HartreeFock(num_spin_orbitals=6,\n",
    "                                    num_particles=(1,1), \n",
    "                                    qubit_converter=qubit_converter)\n",
    "quantum_instance = QuantumInstance(backend=AerSimulator(method='automatic'), max_credits=None)\n",
    "#ansz = TwoLocal(hartree_fock_state.num_qubits, rotation_blocks=['ry'],  entanglement_blocks='cx',reps=1, initial_state=hartree_fock_state)\n",
    "ansz = UCC(qubit_converter,num_particles=(1,1), num_spin_orbitals=6,excitations='s' ,initial_state=hartree_fock_state)\n",
    "\n",
    "Im_solver_1 = VQEUCCFactory(quantum_instance, gradient=instance_1, optimizer=COBYLA(maxiter=1000), ansatz=ansz.decompose())\n",
    "calcIevo_1 = GroundStateEigensolver(qubit_converter, Im_solver_1)\n",
    "Im_solver_2 = VQEUCCFactory(quantum_instance, gradient=instance_2, optimizer=COBYLA(maxiter=1000), ansatz=ansz.decompose())\n",
    "calcIevo_2 = GroundStateEigensolver(qubit_converter, Im_solver_2)\n",
    "\n",
    "molecule = 'H .0 .0 -{0}; Li .0 .0 {0}'.format(.5)\n",
    "driver = PySCFDriver(atom=molecule, unit=UnitsType.ANGSTROM, basis='sto3g')\n",
    "es_problem = ElectronicStructureProblem(driver,q_molecule_transformers=[FreezeCoreTransformer(freeze_core=True, remove_orbitals=[4,5])])\n",
    "\n",
    "resIevo_1 = calcIevo_1.solve(es_problem)\n",
    "resIevo_2 = calcIevo_2.solve(es_problem)"
   ]
  },
  {
   "cell_type": "code",
   "execution_count": null,
   "metadata": {},
   "outputs": [
    {
     "name": "stdout",
     "output_type": "stream",
     "text": [
      "[-7.76197761+0.j]\n",
      "[-7.75969083+0.j]\n"
     ]
    }
   ],
   "source": [
    "print(resIevo_1.total_energies)\n",
    "print(resIevo_2.total_energies)"
   ]
  },
  {
   "cell_type": "code",
   "execution_count": null,
   "metadata": {},
   "outputs": [],
   "source": [
    "qaz = LinCombFullmod()"
   ]
  },
  {
   "cell_type": "code",
   "execution_count": null,
   "metadata": {},
   "outputs": [
    {
     "data": {
      "text/plain": [
       "Pauli('III')"
      ]
     },
     "execution_count": 20,
     "metadata": {},
     "output_type": "execute_result"
    }
   ],
   "source": [
    "from qiskit.quantum_info import Pauli\n",
    "Pauli('III')"
   ]
  },
  {
   "cell_type": "code",
   "execution_count": null,
   "metadata": {},
   "outputs": [],
   "source": []
  }
 ],
 "metadata": {
  "kernelspec": {
   "display_name": "Python 3.9.7 ('NEASQC4wMYQLM')",
   "language": "python",
   "name": "python3"
  },
  "language_info": {
   "codemirror_mode": {
    "name": "ipython",
    "version": 3
   },
   "file_extension": ".py",
   "mimetype": "text/x-python",
   "name": "python",
   "nbconvert_exporter": "python",
   "pygments_lexer": "ipython3",
   "version": "3.9.7"
  },
  "orig_nbformat": 4,
  "vscode": {
   "interpreter": {
    "hash": "8fecc24a9c06863268eef22b722bc39970e040fd4701f3b867876035cf1a5542"
   }
  }
 },
 "nbformat": 4,
 "nbformat_minor": 2
}
