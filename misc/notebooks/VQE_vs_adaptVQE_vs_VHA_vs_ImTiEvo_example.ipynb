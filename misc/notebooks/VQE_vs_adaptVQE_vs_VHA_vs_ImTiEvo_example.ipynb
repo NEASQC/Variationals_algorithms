{
 "cells": [
  {
   "cell_type": "markdown",
   "source": [
    "# VQE vs AdaptVQE in Li-H ground state search"
   ],
   "metadata": {}
  },
  {
   "cell_type": "code",
   "execution_count": 3,
   "source": [
    "#%%pycodestyle\n",
    "from qiskit_nature.drivers import UnitsType, Molecule\n",
    "from qiskit_nature.drivers.second_quantization.pyscfd import PySCFDriver\n",
    "from qiskit_nature.transformers.second_quantization.electronic import FreezeCoreTransformer\n",
    "from qiskit_nature.problems.second_quantization import ElectronicStructureProblem\n",
    "from qiskit_nature.converters.second_quantization import QubitConverter\n",
    "from qiskit_nature.mappers.second_quantization import JordanWignerMapper, ParityMapper\n",
    "from qiskit_nature.algorithms import VQEUCCFactory,GroundStateEigensolver,AdaptVQE\n",
    "\n",
    "from qiskit.algorithms import NumPyMinimumEigensolver\n",
    "from qiskit.algorithms.optimizers import SLSQP,L_BFGS_B\n",
    "from qiskit.utils import QuantumInstance\n",
    "from qiskit import Aer\n",
    "from qiskit.opflow.gradients import Gradient, NaturalGradient, QFI, Hessian\n",
    "from qiskit.circuit.library import TwoLocal\n",
    "from qiskit.test.mock import FakeVigo,FakeSantiago\n",
    "from qiskit.providers.aer import AerSimulator\n",
    "\n",
    "from qiskit_mod.qiskit_nat import VHA\n",
    "from qiskit_mod.qiskit_ter import LinCombFullmod,LinCombMod\n",
    "\n",
    "import numpy as np \n",
    "import time as time\n",
    "import matplotlib.pyplot as plt\n",
    "\n",
    "#CHECK VERSIONS OF QISKIT: 'qiskit-terra': '0.19.0','qiskit-aer': '0.8.2','qiskit-nature': '0.2.0'\n",
    "import qiskit\n",
    "print(qiskit.__qiskit_version__)"
   ],
   "outputs": [
    {
     "output_type": "stream",
     "name": "stdout",
     "text": [
      "{'qiskit-terra': '0.19.0', 'qiskit-aer': '0.8.2', 'qiskit-ignis': None, 'qiskit-ibmq-provider': None, 'qiskit-aqua': None, 'qiskit': None, 'qiskit-nature': '0.2.0', 'qiskit-finance': None, 'qiskit-optimization': None, 'qiskit-machine-learning': None}\n"
     ]
    }
   ],
   "metadata": {}
  },
  {
   "cell_type": "code",
   "execution_count": 4,
   "source": [
    "#%%pycodestyle\n",
    "distances = np.arange(1, 5, 1)  # angstrom distance\n",
    "\n",
    "\n",
    "# Initialize qubit converter\n",
    "qubit_converter = QubitConverter(mapper=ParityMapper(), two_qubit_reduction=True)  # two qubit reduction doesn`t work with Jordan-WignerMapper()\n",
    "\n",
    "# Initialize Exact solvers & VQE solver\n",
    "numpy_solver = NumPyMinimumEigensolver()\n",
    "\n",
    "# Initialize  quantum instance\n",
    "#NOISE\n",
    "usenoise=True  #HERE CHOOSE TO USE THE NOISE \n",
    "if usenoise:\n",
    "    device_backend = FakeSantiago()\n",
    "    simulator = AerSimulator.from_backend(device_backend)\n",
    "    \n",
    "else:\n",
    "    simulator = Aer.get_backend('statevector_simulator')\n",
    "    \n",
    "quantum_instance = QuantumInstance(backend=simulator)\n",
    "\n",
    "\n",
    "# Optimizer\n",
    "optimizer = L_BFGS_B(maxiter=1000)\n",
    "\n",
    "\n",
    "\n",
    "# vha solver\n",
    "trotter_steps = 1\n",
    "time_step_size = 1\n",
    "# prepare intial point for VHA, inspired by adiabatic evolution\n",
    "ip = []\n",
    "for i in range(trotter_steps):\n",
    "    ip.append(time_step_size*((i+1)/trotter_steps))  # param for H_ex = V\n",
    "    ip.append(time_step_size)                        # param for H_hop = H_0\n",
    "    ip.append(time_step_size)                        # param for H_diag = H_0\n",
    "print('Initial parameter for VHA, '+str(trotter_steps)+'*(H_ex,H_op,H_diag)=', ip)\n",
    "\n"
   ],
   "outputs": [
    {
     "output_type": "stream",
     "name": "stdout",
     "text": [
      "Initial parameter for VHA, 1*(H_ex,H_op,H_diag)= [1.0, 1, 1]\n"
     ]
    }
   ],
   "metadata": {}
  },
  {
   "cell_type": "code",
   "execution_count": 5,
   "source": [
    "#%%pycodestyle\n",
    "\n",
    "exact_energies, hf_energies, vqe_energies, adapt_vqe_energies, Ievo_energies, Ievo_params, vqe_params, adapt_vqe_params, vha_energies, vha_params = ([] for i in range(10))\n",
    "\n",
    "# Molecule\n",
    "molecule = 'H .0 .0 -{0}; Li .0 .0 {0}'\n",
    "\n",
    "\n",
    "for i, bond_distance in enumerate(distances):  # loop over distances\n",
    "    print('\\n step', i, ', bond_distance=', bond_distance)\n",
    "    \n",
    "    driver = PySCFDriver(atom=molecule.format(bond_distance/2), unit=UnitsType.ANGSTROM, basis='sto3g')\n",
    "    #qmolecule = driver.run()\n",
    "    es_problem = ElectronicStructureProblem(driver,q_molecule_transformers=[FreezeCoreTransformer(freeze_core=True, remove_orbitals=[4,5])])\n",
    "    # Initialize solvers\n",
    "    \n",
    "\n",
    "    #Imag. Evo/ Natural gradient solver\n",
    "    nat_grad = NaturalGradient(grad_method=LinCombMod(img=False), qfi_method=LinCombFullmod(), regularization='ridge')\n",
    "    ansz = TwoLocal(4, rotation_blocks=['ry'],  entanglement_blocks='cx', entanglement=\"full\", reps=1, parameter_prefix='a')\n",
    "    Im_solver = VQEUCCFactory(quantum_instance, gradient=nat_grad,optimizer=optimizer, ansatz=ansz.decompose())\n",
    "    calcIevo = GroundStateEigensolver(qubit_converter, Im_solver)\n",
    "\n",
    "    #vha solver\n",
    "    vha_solver = VQEUCCFactory(quantum_instance, optimizer=optimizer, initial_point=np.asarray(ip), ansatz=VHA(excitations='sd', trotter_steps=trotter_steps, only_excitations=True))\n",
    "    calcVHA = GroundStateEigensolver(qubit_converter, vha_solver)\n",
    "\n",
    "    # vqe solver\n",
    "    vqe_solver = VQEUCCFactory(quantum_instance, optimizer=optimizer)\n",
    "    calc = GroundStateEigensolver(qubit_converter, vqe_solver)\n",
    "\n",
    "    # adapt vqe solver\n",
    "    adapt_calc = AdaptVQE(qubit_converter, vqe_solver, threshold=0.001)\n",
    "\n",
    "    # exact numpy solver\n",
    "    exact_calc = GroundStateEigensolver(qubit_converter, numpy_solver)\n",
    "\n",
    "    # Run the computation\n",
    "    # compute ground state with Imaginary time evo \n",
    "    start = time.time()\n",
    "    resIevo = calcIevo.solve(es_problem)\n",
    "    Ievo_energies.append(np.real(resIevo.total_energies))\n",
    "    Ievo_params.append(len(resIevo.raw_result.optimal_parameters))\n",
    "    end = time.time()\n",
    "    print('Imaginary time evo. ,',\n",
    "          resIevo.total_energies, ',exec_time=',\n",
    "          end - start, 's, number of optimal parameters=',\n",
    "          len(resIevo.raw_result.optimal_parameters))\n",
    "\n",
    "\n",
    "    # compute ground state with VHA\n",
    "    start = time.time()\n",
    "    resVHA = calcVHA.solve(es_problem)\n",
    "    vha_energies.append(np.real(resVHA.total_energies))\n",
    "    vha_params.append(len(resVHA.raw_result.optimal_parameters))\n",
    "    end = time.time()\n",
    "    print('VHA ,', trotter_steps, 'steps:',\n",
    "          resVHA.total_energies, ',exec_time=',\n",
    "          end - start, 's, number of optimal parameters=',\n",
    "          len(resVHA.raw_result.optimal_parameters))\n",
    "\n",
    "    # compute ground state with VQE\n",
    "    start = time.time()\n",
    "    res = calc.solve(es_problem)\n",
    "    vqe_energies.append(np.real(res.total_energies))\n",
    "    hf_energies.append(res.hartree_fock_energy)\n",
    "    vqe_params.append(len(res.raw_result.optimal_parameters))\n",
    "    end = time.time()\n",
    "    print('VQE:\\t', res.total_energies,\n",
    "          ',exec_time=', end - start,\n",
    "          's, number of optimal parameters=', len(res.raw_result.optimal_parameters))\n",
    "\n",
    "    # compute ground state with AdaptVQE\n",
    "    start = time.time()\n",
    "    res2 = adapt_calc.solve(es_problem)\n",
    "    adapt_vqe_energies.append(np.real(res2.total_energies))\n",
    "    adapt_vqe_params.append(len(res2.raw_result.optimal_parameters))\n",
    "    end = time.time()\n",
    "    print('AdaptVQE:', res2.total_energies,\n",
    "          ',exec_time=', end - start,\n",
    "          's, number of iterations', res2._num_iterations,\n",
    "          ',number of optimal parameters=', len(res2.raw_result.optimal_parameters),\n",
    "          '\\n(final max gradient', res2._final_max_gradient,\n",
    "          'final criterion', res2._finishing_criterion, ')')\n",
    "\n",
    "    # compute exact ground state\n",
    "    start = time.time()\n",
    "    res3 = exact_calc.solve(es_problem)\n",
    "    exact_energies.append(res3.total_energies)\n",
    "    end = time.time()\n",
    "    print('Exact:\\t', res3.total_energies, ',exec_time=', end - start, 's')"
   ],
   "outputs": [
    {
     "output_type": "stream",
     "name": "stdout",
     "text": [
      "\n",
      " step 0 , bond_distance= 1\n"
     ]
    },
    {
     "output_type": "stream",
     "name": "stderr",
     "text": [
      "The measured number of particles 2.197265624999999 does NOT match the expected number of particles 2!\n"
     ]
    },
    {
     "output_type": "stream",
     "name": "stdout",
     "text": [
      "Imaginary time evo. , [-7.64829882+0.j] ,exec_time= 588.4906158980002 s, number of optimal parameters= 8\n"
     ]
    },
    {
     "output_type": "stream",
     "name": "stderr",
     "text": [
      "The measured number of particles 2.796874999999999 does NOT match the expected number of particles 2!\n"
     ]
    },
    {
     "output_type": "stream",
     "name": "stdout",
     "text": [
      "VHA , 1 steps: [-7.26038788+0.j] ,exec_time= 68.10132796800008 s, number of optimal parameters= 3\n"
     ]
    },
    {
     "output_type": "stream",
     "name": "stderr",
     "text": [
      "The measured number of particles 2.8066406249999996 does NOT match the expected number of particles 2!\n"
     ]
    },
    {
     "output_type": "stream",
     "name": "stdout",
     "text": [
      "VQE:\t [-7.2905563+0.j] ,exec_time= 237.10751133800022 s, number of optimal parameters= 8\n"
     ]
    },
    {
     "output_type": "stream",
     "name": "stderr",
     "text": [
      "The measured number of particles 2.878906249999999 does NOT match the expected number of particles 2!\n"
     ]
    },
    {
     "output_type": "stream",
     "name": "stdout",
     "text": [
      "AdaptVQE: [-7.272646+0.j] ,exec_time= 2368.9337856170005 s, number of iterations 15 ,number of optimal parameters= 14 \n",
      "(final max gradient 0.01962524217429329 final criterion Aborted due to cyclicity )\n",
      "Exact:\t [-7.76862177+0.j] ,exec_time= 1.2679098720000184 s\n",
      "\n",
      " step 1 , bond_distance= 2\n"
     ]
    },
    {
     "output_type": "stream",
     "name": "stderr",
     "text": [
      "The measured number of particles 2.169921874999999 does NOT match the expected number of particles 2!\n"
     ]
    },
    {
     "output_type": "stream",
     "name": "stdout",
     "text": [
      "Imaginary time evo. , [-7.65860087+0.j] ,exec_time= 335.8647354879995 s, number of optimal parameters= 8\n"
     ]
    },
    {
     "output_type": "stream",
     "name": "stderr",
     "text": [
      "The measured number of particles 2.8847656249999996 does NOT match the expected number of particles 2!\n"
     ]
    },
    {
     "output_type": "stream",
     "name": "stdout",
     "text": [
      "VHA , 1 steps: [-7.3095636+0.j] ,exec_time= 116.22551644799933 s, number of optimal parameters= 3\n"
     ]
    },
    {
     "output_type": "stream",
     "name": "stderr",
     "text": [
      "The measured number of particles 2.492187499999999 does NOT match the expected number of particles 2!\n"
     ]
    },
    {
     "output_type": "stream",
     "name": "stdout",
     "text": [
      "VQE:\t [-7.41980145+0.j] ,exec_time= 123.59459421299835 s, number of optimal parameters= 8\n"
     ]
    },
    {
     "output_type": "stream",
     "name": "stderr",
     "text": [
      "The measured number of particles 2.861328124999999 does NOT match the expected number of particles 2!\n"
     ]
    },
    {
     "output_type": "stream",
     "name": "stdout",
     "text": [
      "AdaptVQE: [-7.35378768+0.j] ,exec_time= 1374.1442160900006 s, number of iterations 10 ,number of optimal parameters= 9 \n",
      "(final max gradient 0.024810887516056257 final criterion Aborted due to cyclicity )\n",
      "Exact:\t [-7.83222196+0.j] ,exec_time= 1.3397990520006715 s\n",
      "\n",
      " step 2 , bond_distance= 3\n"
     ]
    },
    {
     "output_type": "stream",
     "name": "stderr",
     "text": [
      "The measured number of particles 2.1113281249999987 does NOT match the expected number of particles 2!\n"
     ]
    },
    {
     "output_type": "stream",
     "name": "stdout",
     "text": [
      "Imaginary time evo. , [-7.64508208+0.j] ,exec_time= 416.74530324400075 s, number of optimal parameters= 8\n"
     ]
    },
    {
     "output_type": "stream",
     "name": "stderr",
     "text": [
      "The measured number of particles 2.863281249999999 does NOT match the expected number of particles 2!\n"
     ]
    },
    {
     "output_type": "stream",
     "name": "stdout",
     "text": [
      "VHA , 1 steps: [-7.26583234+0.j] ,exec_time= 103.52857371199934 s, number of optimal parameters= 3\n"
     ]
    },
    {
     "output_type": "stream",
     "name": "stderr",
     "text": [
      "The measured number of particles 2.769531249999999 does NOT match the expected number of particles 2!\n"
     ]
    },
    {
     "output_type": "stream",
     "name": "stdout",
     "text": [
      "VQE:\t [-7.36352331+0.j] ,exec_time= 162.81585768999867 s, number of optimal parameters= 8\n"
     ]
    },
    {
     "output_type": "stream",
     "name": "stderr",
     "text": [
      "The measured number of particles 2.576171874999999 does NOT match the expected number of particles 2!\n"
     ]
    },
    {
     "output_type": "stream",
     "name": "stdout",
     "text": [
      "AdaptVQE: [-7.43020754+0.j] ,exec_time= 323.85311984299915 s, number of iterations 7 ,number of optimal parameters= 6 \n",
      "(final max gradient 0.009850549432335348 final criterion Aborted due to cyclicity )\n",
      "Exact:\t [-7.72709297+0.j] ,exec_time= 1.1959526749997167 s\n",
      "\n",
      " step 3 , bond_distance= 4\n"
     ]
    },
    {
     "output_type": "stream",
     "name": "stderr",
     "text": [
      "The measured number of particles 2.109374999999999 does NOT match the expected number of particles 2!\n"
     ]
    },
    {
     "output_type": "stream",
     "name": "stdout",
     "text": [
      "Imaginary time evo. , [-7.63682758+0.j] ,exec_time= 268.8950568229993 s, number of optimal parameters= 8\n"
     ]
    },
    {
     "output_type": "stream",
     "name": "stderr",
     "text": [
      "The measured number of particles 2.792968749999999 does NOT match the expected number of particles 2!\n"
     ]
    },
    {
     "output_type": "stream",
     "name": "stdout",
     "text": [
      "VHA , 1 steps: [-7.27250362+0.j] ,exec_time= 48.200729815998784 s, number of optimal parameters= 3\n"
     ]
    },
    {
     "output_type": "stream",
     "name": "stderr",
     "text": [
      "The measured number of particles 2.822265624999999 does NOT match the expected number of particles 2!\n"
     ]
    },
    {
     "output_type": "stream",
     "name": "stdout",
     "text": [
      "VQE:\t [-7.38094702+0.j] ,exec_time= 107.46831237100014 s, number of optimal parameters= 8\n"
     ]
    },
    {
     "output_type": "stream",
     "name": "stderr",
     "text": [
      "The measured number of particles 2.361328124999999 does NOT match the expected number of particles 2!\n"
     ]
    },
    {
     "output_type": "stream",
     "name": "stdout",
     "text": [
      "AdaptVQE: [-7.54353127+0.j] ,exec_time= 36.84559592400001 s, number of iterations 2 ,number of optimal parameters= 1 \n",
      "(final max gradient 0.06527963617834018 final criterion Aborted due to cyclicity )\n",
      "Exact:\t [-7.74939373+0.j] ,exec_time= 1.3120871589999297 s\n"
     ]
    }
   ],
   "metadata": {}
  },
  {
   "cell_type": "code",
   "execution_count": 7,
   "source": [
    "#%%pycodestyle\n",
    "\n",
    "fig, (ax1, ax2, ax3) = plt.subplots(1, 3, figsize=(24, 8))\n",
    "\n",
    "ax1.plot(distances, hf_energies, color='blue', label='Hartree-Fock')\n",
    "ax1.plot(distances, vqe_energies, 'o', color='orange', label='VQE')\n",
    "ax1.plot(distances, adapt_vqe_energies, 'x', color='green', label='AdaptVQE (threshold=0.001)')\n",
    "ax1.plot(distances, vha_energies, '.', color='red', label='VHA ('+str(trotter_steps)+' steps)')\n",
    "ax1.plot(distances, Ievo_energies, '.', color='purple', label='Imag.time evo.')\n",
    "ax1.plot(distances, exact_energies, '.', color='black', label='Exact')\n",
    "ax1.set_xlabel('Interatomic distance')\n",
    "ax1.set_ylabel('Energy')\n",
    "ax1.set_title('H-Li Ground State Energy')\n",
    "ax1.legend(loc='upper left')\n",
    "\n",
    "\n",
    "ypoints = [abs(a - b) for a, b in zip(hf_energies, exact_energies)]\n",
    "ax2.plot(distances, ypoints, color='blue', label='Hartree-Fock')\n",
    "ypoints = [abs(a - b) for a, b in zip(vqe_energies, exact_energies)]\n",
    "ax2.plot(distances, ypoints, 'o', linestyle='--', color='orange', label='VQE')\n",
    "ypoints = [abs(a - b) for a, b in zip(adapt_vqe_energies, exact_energies)]\n",
    "ax2.plot(distances, ypoints, 'x', linestyle='--', color='green', label='AdaptVQE')\n",
    "ypoints = [abs(a - b) for a, b in zip(vha_energies, exact_energies)]\n",
    "ax2.plot(distances, ypoints, '.', linestyle='--', color='red', label='VHA('+str(trotter_steps)+' steps)')\n",
    "ypoints = [abs(a - b) for a, b in zip(Ievo_energies, exact_energies)]\n",
    "ax2.plot(distances, ypoints, '.', linestyle='--', color='purple', label='Imag.time evo.')\n",
    "\n",
    "ax2.set_yscale('log')\n",
    "ax2.set_xlabel('Interatomic distance')\n",
    "ax2.set_ylabel('|E-E_{exact}|')\n",
    "ax2.set_title('H-Li Ground State Energy error')\n",
    "ax2.legend(loc='upper left')\n",
    "\n",
    "\n",
    "ax3.plot(distances, vqe_params, 'o', linestyle='-.', color='orange', label='VQE')\n",
    "ax3.plot(distances, adapt_vqe_params, 'x', linestyle='-.', color='green', label='AdaptVQE')\n",
    "ax3.plot(distances, vha_params, '.', linestyle='-.', color='red', label='VHA('+str(trotter_steps)+' steps)')\n",
    "ax3.plot(distances, Ievo_params, '.', linestyle=':', color='purple', label='Imag.time evo.')\n",
    "\n",
    "ax3.set_xlabel('Interatomic distance')\n",
    "ax3.set_ylabel('Number of parameters')\n",
    "ax3.set_title('Number of optimal parameters')\n",
    "ax3.legend(loc='upper left')\n",
    "\n",
    "\n",
    "fig.savefig('LiH_ground_energy_all.png')"
   ],
   "outputs": [
    {
     "output_type": "stream",
     "name": "stderr",
     "text": [
      "/home/gsilvi/miniforge3/envs/NEASQC4/lib/python3.9/site-packages/matplotlib/cbook/__init__.py:1333: ComplexWarning: Casting complex values to real discards the imaginary part\n",
      "  return np.asarray(x, float)\n"
     ]
    },
    {
     "output_type": "display_data",
     "data": {
      "image/png": "[encoded data removed]",
      "text/plain": [
       "<Figure size 1728x576 with 3 Axes>"
      ]
     },
     "metadata": {
      "needs_background": "light"
     }
    }
   ],
   "metadata": {}
  }
 ],
 "metadata": {
  "orig_nbformat": 4,
  "language_info": {
   "name": "python",
   "version": "3.9.7",
   "mimetype": "text/x-python",
   "codemirror_mode": {
    "name": "ipython",
    "version": 3
   },
   "pygments_lexer": "ipython3",
   "nbconvert_exporter": "python",
   "file_extension": ".py"
  },
  "kernelspec": {
   "name": "python3",
   "display_name": "Python 3.9.7 64-bit ('NEASQC4': conda)"
  },
  "interpreter": {
   "hash": "76b5afe8eccf087dd96d8c07f1a07d20d361b218c2f0e570f46ad33056945225"
  }
 },
 "nbformat": 4,
 "nbformat_minor": 2
}