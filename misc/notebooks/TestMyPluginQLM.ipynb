{
 "cells": [
  {
   "cell_type": "code",
   "execution_count": 1,
   "metadata": {},
   "outputs": [
    {
     "name": "stderr",
     "output_type": "stream",
     "text": [
      "/home/gsilvi/miniforge3/envs/NEASQC4featMYQLM/lib/python3.9/site-packages/pyscf/lib/misc.py:46: H5pyDeprecationWarning: Using default_file_mode other than 'r' is deprecated. Pass the mode to h5py.File() instead.\n",
      "  h5py.get_config().default_file_mode = 'a'\n"
     ]
    }
   ],
   "source": [
    "from qat.interop.qiskit import QPUToBackend,AsyncBackendToQPU\n",
    "from qat.qpus import PyLinalg,get_default_qpu\n",
    "from qat.plugins import ScipyMinimizePlugin as ScipyMinimizePluginLocal\n",
    "from qiskit.utils import QuantumInstance\n",
    "from qiskit.circuit.library import TwoLocal\n",
    "\n",
    "#%%pycodestyle\n",
    "from qiskit_nature.drivers import UnitsType\n",
    "from qiskit_nature.drivers.second_quantization.pyscfd import PySCFDriver\n",
    "from qiskit_nature.transformers.second_quantization.electronic import FreezeCoreTransformer\n",
    "from qiskit_nature.problems.second_quantization import ElectronicStructureProblem\n",
    "from qiskit_nature.converters.second_quantization import QubitConverter\n",
    "from qiskit_nature.mappers.second_quantization import JordanWignerMapper, ParityMapper\n",
    "from qiskit_nature.algorithms import VQEUCCFactory,GroundStateEigensolver\n",
    "\n",
    "from qiskit_nature.circuit.library import UCCSD,UCC\n",
    "from qiskit_nature.circuit.library.initial_states import HartreeFock\n",
    "from qiskit.algorithms.optimizers import SLSQP,L_BFGS_B,SPSA,COBYLA\n",
    "from qiskit.utils import QuantumInstance\n",
    "from qiskit import Aer\n",
    "\n",
    "import time as time\n"
   ]
  },
  {
   "cell_type": "code",
   "execution_count": 2,
   "metadata": {},
   "outputs": [],
   "source": [
    "# Set up 3 different backends to test computation time\n",
    "# backend_remoteQLM = ['remote backend QLM', QPUToBackend(qpu=LinAlg(), optimizer=ScipyMinimizePlugin(method=\"COBYLA\"))]\n",
    "backend_localQLM = ['local backend QLM', QPUToBackend(qpu=PyLinalg() , optimizer=ScipyMinimizePluginLocal(method=\"COBYLA\"))]\n",
    "backend_localQiskit = ['local backend qiskit', Aer.get_backend('aer_simulator')]\n",
    "shots=1024"
   ]
  },
  {
   "cell_type": "code",
   "execution_count": 49,
   "metadata": {},
   "outputs": [
    {
     "name": "stdout",
     "output_type": "stream",
     "text": [
      "Type of backend: local backend qiskit VQE:\t [0.4747507+0.j] ,exec_time= 9.154945000000225\n",
      "Exact:\t [-1.13730604+0.j]\n"
     ]
    }
   ],
   "source": [
    "# Initialize qubit converter\n",
    "qubit_converter = QubitConverter(mapper=JordanWignerMapper(), two_qubit_reduction=True)  # two qubit reduction doesn`t work with Jordan-WignerMapper()\n",
    "optimizer = COBYLA(maxiter=100)\n",
    "bond_distance = 0.735\n",
    "# Molecule\n",
    "molecule = 'H .0 .0 -{0}; H .0 .0 {0}'\n",
    "\n",
    "driver = PySCFDriver(atom=molecule.format(bond_distance/2), unit=UnitsType.ANGSTROM, basis='sto3g')\n",
    "# qmolecule = driver.run()\n",
    "es_problem = ElectronicStructureProblem(driver,q_molecule_transformers=[FreezeCoreTransformer(freeze_core=True, remove_orbitals=[])])\n",
    "\n",
    "tl_circuit = TwoLocal(4, ['ry', 'rz'], 'cx',\n",
    "                      entanglement='full', reps=1)\n",
    "qmolecule = driver.run()\n",
    "num_particles = qmolecule.num_alpha,qmolecule.num_beta\n",
    "hf_init = HartreeFock(qubit_converter = qubit_converter, \n",
    "                      num_spin_orbitals = qmolecule.num_molecular_orbitals*2, \n",
    "                      num_particles = num_particles )\n",
    "uc_circuit = UCCSD(qubit_converter = qubit_converter,\n",
    "                   initial_state=hf_init) #doesnt work with conversion to QLM\n",
    "\n",
    "\n",
    "ansatz_in_use = uc_circuit\n",
    "\n",
    "for label,backend in [backend_localQiskit]:#,backend_localQLM]:#, backend_remoteQLM]\n",
    "    quantum_instance = QuantumInstance(backend=backend, shots=shots,  max_credits=None)\n",
    "    vqe_solver = VQEUCCFactory(quantum_instance, optimizer=optimizer, ansatz= ansatz_in_use)\n",
    "    calc = GroundStateEigensolver(qubit_converter, vha_solver)\n",
    "    start = time.time()\n",
    "    res = calc.solve(es_problem)\n",
    "    end = time.time()\n",
    "    print('Type of backend:',label,'VQE:\\t', res.total_energies,',exec_time=', end - start)\n",
    "\n",
    "\n",
    "# Compute exact solution\n",
    "from qiskit.algorithms import NumPyMinimumEigensolver\n",
    "\n",
    "numpy_solver = NumPyMinimumEigensolver()\n",
    "exact_calc = GroundStateEigensolver(qubit_converter, numpy_solver)\n",
    "res_exact = exact_calc.solve(es_problem)\n",
    "print('Exact:\\t', res_exact.total_energies)"
   ]
  },
  {
   "cell_type": "code",
   "execution_count": 40,
   "metadata": {},
   "outputs": [
    {
     "name": "stdout",
     "output_type": "stream",
     "text": [
      "Result [-1.13730603+0.j]  ,exec_time= 1.2281188839988317\n"
     ]
    }
   ],
   "source": [
    "# convert only the ansatz and pass the hamiltonian via matrix to Observables)\n",
    "from qat.interop.qiskit import qiskit_to_qlm\n",
    "from qat.core import Observable\n",
    "\n",
    "\n",
    "from qiskit.compiler import transpile\n",
    "\n",
    "def VQEwrapper_to_stack(groundstate_solver, es_problem, stack):\n",
    "    #if isinstance(groundstate_solver._solver, MinimumEigensolverFactory):\n",
    "    # this must be called after transformation.transform\n",
    "    solver = groundstate_solver._solver.get_solver(es_problem, groundstate_solver._qubit_converter)\n",
    "    #solver = groundstate_solver.solver\n",
    "    ansatz_in_use = solver.ansatz\n",
    "    #backend = solver.quantum_instance.backend\n",
    "    backend = QPUToBackend(stack.qpu)\n",
    "\n",
    "    transpiled_circ = transpile(ansatz_in_use.decompose(),\n",
    "                                basis_gates = backend.configuration().basis_gates,\n",
    "                                optimization_level = 0)\n",
    "    qcirc = qiskit_to_qlm(transpiled_circ)    \n",
    "\n",
    "    # Convert the observable/hamiltonian\n",
    "    \n",
    "    fermionic_hamiltonian = es_problem.second_q_ops()[0]\n",
    "    hamiltonian_spin = groundstate_solver._qubit_converter.convert_match(fermionic_hamiltonian)\n",
    "    num_qubits = hamiltonian_spin.num_qubits\n",
    "    # print(num_qubits, hamiltonian_spin)\n",
    "    job = qcirc.to_job(observable = Observable(num_qubits, matrix=hamiltonian_spin.to_matrix()))  \n",
    "\n",
    "    # Stack to run locally (seems faster)\n",
    "    \n",
    "    start = time.time()\n",
    "    calculation = stack.submit(job)\n",
    "    end = time.time()\n",
    "\n",
    "    #print(\"Final energy :\", calculation.value , ' , exec time =', end - start)      \n",
    "    # Convert to qiskit results format        \n",
    "    raw_result = solver.compute_minimum_eigenvalue.__annotations__['return']()   \n",
    "    raw_result.eigenvalue =  calculation.value\n",
    "    raw_result.optimal_parameters = solver.ansatz.parameters\n",
    "    dict_param = {}\n",
    "    for i,par in enumerate(solver.ansatz.parameters):\n",
    "        dict_param[par] = calculation.parameter_map[str(par)]\n",
    "    raw_result.eigenstate = solver._get_eigenstate(dict_param)\n",
    "    \n",
    "    result = es_problem.interpret(raw_result)\n",
    "    return result\n",
    "\n",
    "\n",
    "\n",
    "#the problem\n",
    "quantum_instance = QuantumInstance(backend=backend_localQiskit[1], shots=shots,  max_credits=None)\n",
    "vqe_solver = VQEUCCFactory(quantum_instance, optimizer=optimizer, ansatz= ansatz_in_use)\n",
    "calc = GroundStateEigensolver(qubit_converter, vqe_solver)\n",
    "\n",
    "#the stack\n",
    "stack = ScipyMinimizePluginLocal(method=\"COBYLA\") | get_default_qpu()\n",
    "start = time.time()\n",
    "res2 = VQEwrapper_to_stack(groundstate_solver=calc , es_problem=es_problem , stack=stack)\n",
    "end = time.time()\n",
    "\n",
    "print('Result',res2.total_energies,' ,exec_time=', end - start)"
   ]
  },
  {
   "cell_type": "code",
   "execution_count": 271,
   "metadata": {},
   "outputs": [],
   "source": [
    "from qiskit.algorithms import VQE\n",
    "from qiskit.opflow import (\n",
    "    OperatorBase,\n",
    "    StateFn\n",
    ")\n",
    "import numpy as np\n",
    "from typing import Optional, List, Callable, Union, Dict, Tuple\n",
    "\n",
    "class VQE_MyQLM(VQE):\n",
    "    def get_energy_evaluation(\n",
    "        self,\n",
    "        operator: OperatorBase,\n",
    "        return_expectation: bool = False,\n",
    "    ) -> Callable[[np.ndarray], Union[float, List[float]]]:\n",
    "        \"\"\"Returns a function handle to evaluates the energy at given parameters for the ansatz.\n",
    "\n",
    "        This is the objective function to be passed to the optimizer that is used for evaluation.\n",
    "\n",
    "        Args:\n",
    "            operator: The operator whose energy to evaluate.\n",
    "            return_expectation: If True, return the ``ExpectationBase`` expectation converter used\n",
    "                in the construction of the expectation value. Useful e.g. to evaluate other\n",
    "                operators with the same expectation value converter.\n",
    "\n",
    "\n",
    "        Returns:\n",
    "            Energy of the hamiltonian of each parameter, and, optionally, the expectation\n",
    "            converter.\n",
    "\n",
    "        Raises:\n",
    "            RuntimeError: If the circuit is not parameterized (i.e. has 0 free parameters).\n",
    "\n",
    "        \"\"\"\n",
    "        num_parameters = self.ansatz.num_parameters\n",
    "        if num_parameters == 0:\n",
    "            raise RuntimeError(\"The ansatz must be parameterized, but has 0 free parameters.\")\n",
    "\n",
    "        expect_op, expectation = self.construct_expectation(\n",
    "            self._ansatz_params, operator, return_expectation=True\n",
    "        )\n",
    "        # tobservable_meas = expectation.convert(StateFn(operator, is_measurement=True))\n",
    "        # print(operator,tobservable_meas.to_matrix())\n",
    "        def create_job(operator,params):\n",
    "            # check if the parameters passed are a range or single value\n",
    "            if params is not None and len(params.keys()) > 0:\n",
    "                p_0 = list(params.values())[0]\n",
    "                if isinstance(p_0, (list, np.ndarray)):\n",
    "                    num_parameterizations = len(p_0)\n",
    "                    param_bindings = [\n",
    "                        {param: value_list[i] for param, value_list in params.items()}  # type: ignore\n",
    "                        for i in range(num_parameterizations)\n",
    "                    ]\n",
    "                    return_as_list = True\n",
    "                else:\n",
    "                    num_parameterizations = 1\n",
    "                    param_bindings = [params]\n",
    "\n",
    "            else:\n",
    "                param_bindings = None\n",
    "                num_parameterizations = 1\n",
    "            #print('param_bindings',param_bindings)\n",
    "            results = []\n",
    "            for circ_params in param_bindings:\n",
    "                ansatz_in_use = self._ansatz.bind_parameters(circ_params)\n",
    "                \n",
    "                transpiled_circ = transpile(ansatz_in_use.decompose(),\n",
    "                                    basis_gates = self._quantum_instance.backend.configuration().basis_gates,\n",
    "                                    optimization_level = 0)\n",
    "                qcirc = qiskit_to_qlm(transpiled_circ)\n",
    "\n",
    "                job = qcirc.to_job(observable = Observable(operator.num_qubits, matrix=operator.to_matrix()))\n",
    "                result1 = self.submit_job(job)\n",
    "                result1.get_status()\n",
    "                while result1.get_status()!='done':\n",
    "                    time.sleep(1)\n",
    "\n",
    "                result = result1.get_result()\n",
    "                results.append(result.value)\n",
    "            return results\n",
    "\n",
    "        def energy_evaluation(parameters):\n",
    "            parameter_sets = np.reshape(parameters, (-1, num_parameters))\n",
    "            \n",
    "            #print(expect_op, expectation)\n",
    "            # Create dict associating each parameter with the lists of parameterization values for it\n",
    "            param_bindings = dict(zip(self._ansatz_params, parameter_sets.transpose().tolist()))\n",
    "            #print('param_bindings',param_bindings)\n",
    "            #start_time = time()\n",
    "            # sampled_expect_op = self._circuit_sampler.convert(expect_op, params=param_bindings)\n",
    "            # means = np.real(sampled_expect_op.eval())\n",
    "            # print('their',means,param_bindings, type(expect_op))\n",
    "            #MODMOD\n",
    "            # print('evaluation')\n",
    "            # print(operator)\n",
    "            # print(sampled_expect_op.num_qubits)\n",
    "            # print(param_bindings)\n",
    "            # print('pre check',operator.num_qubits,operator.to_matrix())\n",
    "            #print('check',[(type(i),i.oplist) for i in tobservable_meas],tobservable_meas.to_matrix())\n",
    "            means = np.real(create_job(operator,param_bindings))\n",
    "            print('mine',means, parameters)\n",
    "            #MODMOD\n",
    "\n",
    "            if self._callback is not None:\n",
    "                parameter_sets = np.reshape(parameters, (-1, num_parameters))\n",
    "                param_bindings = dict(zip(self._ansatz_params, parameter_sets.transpose().tolist()))\n",
    "                variance = np.real(expectation.compute_variance(self._circuit_sampler.convert(expect_op, params=param_bindings)))\n",
    "                estimator_error = np.sqrt(variance / self.quantum_instance.run_config.shots)\n",
    "                for i, param_set in enumerate(parameter_sets):\n",
    "                    self._eval_count += 1\n",
    "                    self._callback(self._eval_count, param_set, means[i], estimator_error[i])\n",
    "            else:\n",
    "                self._eval_count += len(means)\n",
    "\n",
    "            #end_time = time()\n",
    "           \n",
    "\n",
    "            return means if len(means) > 1 else means[0]\n",
    "\n",
    "        if return_expectation:\n",
    "            return energy_evaluation, expectation\n",
    "\n",
    "        return energy_evaluation\n",
    "\n",
    "\n",
    "# vqe_solver = VQEUCCFactory(quantum_instance, optimizer=optimizer, ansatz= ansatz_in_use)\n",
    "#the problem\n",
    "quantum_instance = QuantumInstance(backend=backend_localQiskit[1], shots=shots,  max_credits=None)\n",
    "vqe_solver = VQEUCCFactory(quantum_instance, optimizer=optimizer, ansatz= ansatz_in_use)\n",
    "from qiskit_mod.qiskit_nat import VHA\n",
    "vha_solver = VQEUCCFactory(quantum_instance, optimizer=optimizer, ansatz=VHA(excitations='sd', trotter_steps=2, only_excitations=True))\n",
    "\n",
    "calc = GroundStateEigensolver(qubit_converter, vha_solver)\n",
    "\n",
    "calc.solver._vqe = VQE_MyQLM(ansatz=None,\n",
    "            quantum_instance=calc.solver._quantum_instance,\n",
    "            optimizer=calc.solver._optimizer,\n",
    "            initial_point=calc.solver._initial_point,\n",
    "            gradient=calc.solver._gradient,\n",
    "            expectation=calc.solver._expectation,\n",
    "            include_custom=calc.solver._include_custom)\n",
    "# calc.solver._vqe.submit_job= 'xxx'\n",
    "from qiskit_nature.algorithms import AdaptVQE\n",
    "#test adaptVQE\n",
    "adapt_calc = AdaptVQE(qubit_converter, vqe_solver, threshold=0.001)\n",
    "adapt_calc.solver._vqe = VQE_MyQLM(ansatz=None,\n",
    "            quantum_instance=calc.solver._quantum_instance,\n",
    "            optimizer=calc.solver._optimizer,\n",
    "            initial_point=calc.solver._initial_point,\n",
    "            gradient=calc.solver._gradient,\n",
    "            expectation=calc.solver._expectation,\n",
    "            include_custom=calc.solver._include_custom)\n"
   ]
  },
  {
   "cell_type": "code",
   "execution_count": 267,
   "metadata": {},
   "outputs": [
    {
     "name": "stdout",
     "output_type": "stream",
     "text": [
      "mine [-0.8247304 -0.8247304] [-1  1]\n",
      "mine [-0.8247304 -0.8247304] [-1  1]\n",
      "mine [-1.53681422 -1.20777367] [-1  1]\n",
      "mine [-0.24521829] [0.]\n",
      "mine [-1.20777367] [1.]\n",
      "mine [-1.69824084] [2.]\n",
      "mine [-0.32747274] [3.]\n",
      "mine [-0.98883286] [2.5]\n",
      "mine [-1.8498631] [1.75]\n",
      "mine [-1.80347026] [1.5]\n",
      "mine [-1.85187182] [1.625]\n",
      "mine [-1.83385644] [1.5625]\n",
      "mine [-1.85614493] [1.65625]\n",
      "mine [-1.85723527] [1.6875]\n",
      "mine [-1.8551386] [1.71875]\n",
      "mine [-1.85658509] [1.703125]\n",
      "mine [-1.85726152] [1.6796875]\n",
      "mine [-1.85719992] [1.67578125]\n",
      "mine [-1.85727364] [1.68164062]\n",
      "mine [-1.8572733] [1.68359375]\n",
      "mine [-1.85727503] [1.68261719]\n",
      "mine [-1.8572733] [1.68359375]\n",
      "mine [-1.85727455] [1.68310547]\n",
      "mine [-1.85727497] [1.68237305]\n",
      "mine [-1.85727499] [1.68271719]\n",
      "mine [-1.85727503] [1.68251719]\n",
      "mine [-1.26694452 -1.26694452] [ 1.68251719 -1.          1.68251719  1.        ]\n",
      "mine [-1.26694452 -1.26694452] [ 1.68251719 -1.          1.68251719  1.        ]\n",
      "mine [-0.70137092 -0.70151234] [ 1.68251719 -1.          1.68251719  1.        ]\n",
      "[-1.13730603+0.j]\n",
      "Result -1.13730603204887  ,exec_time= 3.7216070180002134\n"
     ]
    }
   ],
   "source": [
    "import numpy as np\n",
    "from qat.plugins import Junction\n",
    "from qat.qpus import get_default_qpu\n",
    "from qat.core import Result\n",
    "from qat.core.plugins import AbstractPlugin\n",
    "\n",
    "\n",
    "\n",
    "\n",
    "class IterativeExploration(Junction):\n",
    "    def __init__(self, method, es_problem):\n",
    "        super(IterativeExploration, self).__init__()\n",
    "        #print(method)\n",
    "        self.method = method\n",
    "        self.problem = es_problem\n",
    "\n",
    "    def run(self, initial_job, meta_data):\n",
    "\n",
    "        self.method.solver._vqe.submit_job = self.execute\n",
    "\n",
    "        result = self.method.solve(self.problem)\n",
    "\n",
    "\n",
    "        print(result.total_energies)\n",
    "        return Result(value=result.total_energies[0], meta_data=meta_data)\n",
    "    def get_specs(x):\n",
    "        return\n",
    "\n",
    "# class MyPlugin(AbstractPlugin):\n",
    "#     def __init__(self, method, es_problem):\n",
    "#         # super(IterativeExploration, self).__init__()\n",
    "#         print(method)\n",
    "#         self.method = method\n",
    "#         self.problem = es_problem\n",
    "#     def compile(self, batch, hardware_specs):\n",
    "#         result = self.method(self.problem)\n",
    "#         print(result.total_energies)\n",
    "#         return batch\n",
    "\n",
    "#     def post_process(self, batch_result):\n",
    "#         # do something with the execution results\n",
    "#         for result in batch_result.results:\n",
    "#             print('Result of size', len(result.raw_data))\n",
    "#         return batch_result\n",
    "\n",
    "#     def do_post_processing(self):\n",
    "#         return False\n",
    "\n",
    "\n",
    "#modfify the solver\n",
    "\n",
    "\n",
    "\n",
    "# Building a simple stack\n",
    "qpu = get_default_qpu()\n",
    "stack = IterativeExploration(adapt_calc, es_problem) | qpu\n",
    "# stack = MyPlugin(calc.solve, es_problem) | qpu\n",
    "\n",
    "\n",
    "# and a simple job\n",
    "from qat.core import Observable\n",
    "from qat.lang.AQASM import Program, RY\n",
    "\n",
    "prog = Program()\n",
    "qbits = prog.qalloc(1)\n",
    "prog.apply(RY(prog.new_var(float, r\"\\beta\")), qbits)\n",
    "job = prog.to_circ().to_job(observable=Observable.sigma_z(0, 1))\n",
    "#/ and a simple job\n",
    "start = time.time()\n",
    "calculation = stack.submit(job)\n",
    "end = time.time()\n",
    "\n",
    "print('Result',calculation.value,' ,exec_time=', end - start)"
   ]
  },
  {
   "cell_type": "code",
   "execution_count": 118,
   "metadata": {},
   "outputs": [
    {
     "data": {
      "text/plain": [
       "array([-1.13652983+0.j])"
      ]
     },
     "execution_count": 118,
     "metadata": {},
     "output_type": "execute_result"
    }
   ],
   "source": [
    "adapt_calc.solve(es_problem).total_energies"
   ]
  },
  {
   "cell_type": "code",
   "execution_count": null,
   "metadata": {},
   "outputs": [],
   "source": []
  },
  {
   "cell_type": "code",
   "execution_count": 272,
   "metadata": {},
   "outputs": [
    {
     "name": "stdout",
     "output_type": "stream",
     "text": [
      "Submitted a new batch: Job1828\n"
     ]
    },
    {
     "ename": "PluginException",
     "evalue": "PluginException(code=None, modulename='qat.plugins.junction', message='Caught exception from junction: \"QLMServiceException(message=\\'Could not return the result of a job having a status equal to running\\', service_name=\\'Scheduler\\')\" [see /tmp/tmpxhehlka6.junction.log for traceback info]', file=None, line=None)",
     "output_type": "error",
     "traceback": [
      "\u001b[0;31m---------------------------------------------------------------------------\u001b[0m",
      "\u001b[0;31mQLMServiceException\u001b[0m                       Traceback (most recent call last)",
      "\u001b[0;32m~/miniforge3/envs/NEASQC4featMYQLM/lib/python3.9/site-packages/qat/plugins/junction.so\u001b[0m in \u001b[0;36mqat.plugins.junction.Junction._submit_batch\u001b[0;34m()\u001b[0m\n",
      "\u001b[0;32m/tmp/ipykernel_16888/263022883.py\u001b[0m in \u001b[0;36mrun\u001b[0;34m(self, initial_job, meta_data)\u001b[0m\n\u001b[1;32m     20\u001b[0m \u001b[0;34m\u001b[0m\u001b[0m\n\u001b[0;32m---> 21\u001b[0;31m         \u001b[0mresult\u001b[0m \u001b[0;34m=\u001b[0m \u001b[0mself\u001b[0m\u001b[0;34m.\u001b[0m\u001b[0mmethod\u001b[0m\u001b[0;34m.\u001b[0m\u001b[0msolve\u001b[0m\u001b[0;34m(\u001b[0m\u001b[0mself\u001b[0m\u001b[0;34m.\u001b[0m\u001b[0mproblem\u001b[0m\u001b[0;34m)\u001b[0m\u001b[0;34m\u001b[0m\u001b[0;34m\u001b[0m\u001b[0m\n\u001b[0m\u001b[1;32m     22\u001b[0m \u001b[0;34m\u001b[0m\u001b[0m\n",
      "\u001b[0;32m~/miniforge3/envs/NEASQC4featMYQLM/lib/python3.9/site-packages/qiskit_nature/algorithms/ground_state_solvers/adapt_vqe.py\u001b[0m in \u001b[0;36msolve\u001b[0;34m(self, problem, aux_operators)\u001b[0m\n\u001b[1;32m    198\u001b[0m \u001b[0;34m\u001b[0m\u001b[0m\n\u001b[0;32m--> 199\u001b[0;31m             \u001b[0mcur_grads\u001b[0m \u001b[0;34m=\u001b[0m \u001b[0mself\u001b[0m\u001b[0;34m.\u001b[0m\u001b[0m_compute_gradients\u001b[0m\u001b[0;34m(\u001b[0m\u001b[0mtheta\u001b[0m\u001b[0;34m,\u001b[0m \u001b[0mvqe\u001b[0m\u001b[0;34m)\u001b[0m\u001b[0;34m\u001b[0m\u001b[0;34m\u001b[0m\u001b[0m\n\u001b[0m\u001b[1;32m    200\u001b[0m             \u001b[0;31m# pick maximum gradient\u001b[0m\u001b[0;34m\u001b[0m\u001b[0;34m\u001b[0m\u001b[0m\n",
      "\u001b[0;32m~/miniforge3/envs/NEASQC4featMYQLM/lib/python3.9/site-packages/qiskit_nature/algorithms/ground_state_solvers/adapt_vqe.py\u001b[0m in \u001b[0;36m_compute_gradients\u001b[0;34m(self, theta, vqe)\u001b[0m\n\u001b[1;32m    102\u001b[0m             \u001b[0menergy_evaluation\u001b[0m \u001b[0;34m=\u001b[0m \u001b[0mvqe\u001b[0m\u001b[0;34m.\u001b[0m\u001b[0mget_energy_evaluation\u001b[0m\u001b[0;34m(\u001b[0m\u001b[0mself\u001b[0m\u001b[0;34m.\u001b[0m\u001b[0m_main_operator\u001b[0m\u001b[0;34m)\u001b[0m\u001b[0;34m\u001b[0m\u001b[0;34m\u001b[0m\u001b[0m\n\u001b[0;32m--> 103\u001b[0;31m             \u001b[0menergy_results\u001b[0m \u001b[0;34m=\u001b[0m \u001b[0menergy_evaluation\u001b[0m\u001b[0;34m(\u001b[0m\u001b[0mnp\u001b[0m\u001b[0;34m.\u001b[0m\u001b[0masarray\u001b[0m\u001b[0;34m(\u001b[0m\u001b[0mparameter_sets\u001b[0m\u001b[0;34m)\u001b[0m\u001b[0;34m)\u001b[0m\u001b[0;34m\u001b[0m\u001b[0;34m\u001b[0m\u001b[0m\n\u001b[0m\u001b[1;32m    104\u001b[0m             \u001b[0;31m# compute gradient\u001b[0m\u001b[0;34m\u001b[0m\u001b[0;34m\u001b[0m\u001b[0m\n",
      "\u001b[0;32m/tmp/ipykernel_16888/3357877954.py\u001b[0m in \u001b[0;36menergy_evaluation\u001b[0;34m(parameters)\u001b[0m\n\u001b[1;32m     94\u001b[0m             \u001b[0;31m#print('check',[(type(i),i.oplist) for i in tobservable_meas],tobservable_meas.to_matrix())\u001b[0m\u001b[0;34m\u001b[0m\u001b[0;34m\u001b[0m\u001b[0m\n\u001b[0;32m---> 95\u001b[0;31m             \u001b[0mmeans\u001b[0m \u001b[0;34m=\u001b[0m \u001b[0mnp\u001b[0m\u001b[0;34m.\u001b[0m\u001b[0mreal\u001b[0m\u001b[0;34m(\u001b[0m\u001b[0mcreate_job\u001b[0m\u001b[0;34m(\u001b[0m\u001b[0moperator\u001b[0m\u001b[0;34m,\u001b[0m\u001b[0mparam_bindings\u001b[0m\u001b[0;34m)\u001b[0m\u001b[0;34m)\u001b[0m\u001b[0;34m\u001b[0m\u001b[0;34m\u001b[0m\u001b[0m\n\u001b[0m\u001b[1;32m     96\u001b[0m             \u001b[0mprint\u001b[0m\u001b[0;34m(\u001b[0m\u001b[0;34m'mine'\u001b[0m\u001b[0;34m,\u001b[0m\u001b[0mmeans\u001b[0m\u001b[0;34m,\u001b[0m \u001b[0mparameters\u001b[0m\u001b[0;34m)\u001b[0m\u001b[0;34m\u001b[0m\u001b[0;34m\u001b[0m\u001b[0m\n",
      "\u001b[0;32m/tmp/ipykernel_16888/3357877954.py\u001b[0m in \u001b[0;36mcreate_job\u001b[0;34m(operator, params)\u001b[0m\n\u001b[1;32m     72\u001b[0m                 \u001b[0mresult1\u001b[0m \u001b[0;34m=\u001b[0m \u001b[0mself\u001b[0m\u001b[0;34m.\u001b[0m\u001b[0msubmit_job\u001b[0m\u001b[0;34m(\u001b[0m\u001b[0mjob\u001b[0m\u001b[0;34m)\u001b[0m\u001b[0;34m\u001b[0m\u001b[0;34m\u001b[0m\u001b[0m\n\u001b[0;32m---> 73\u001b[0;31m                 \u001b[0mresult\u001b[0m \u001b[0;34m=\u001b[0m \u001b[0mresult1\u001b[0m\u001b[0;34m.\u001b[0m\u001b[0mget_result\u001b[0m\u001b[0;34m(\u001b[0m\u001b[0;34m)\u001b[0m\u001b[0;34m\u001b[0m\u001b[0;34m\u001b[0m\u001b[0m\n\u001b[0m\u001b[1;32m     74\u001b[0m                 \u001b[0mresults\u001b[0m\u001b[0;34m.\u001b[0m\u001b[0mappend\u001b[0m\u001b[0;34m(\u001b[0m\u001b[0mresult\u001b[0m\u001b[0;34m.\u001b[0m\u001b[0mvalue\u001b[0m\u001b[0;34m)\u001b[0m\u001b[0;34m\u001b[0m\u001b[0;34m\u001b[0m\u001b[0m\n",
      "\u001b[0;32m~/miniforge3/envs/NEASQC4featMYQLM/lib/python3.9/site-packages/qat/qlmaas/result.so\u001b[0m in \u001b[0;36mqat.qlmaas.result.AsyncResult.get_result\u001b[0;34m()\u001b[0m\n",
      "\u001b[0;32m~/miniforge3/envs/NEASQC4featMYQLM/lib/python3.9/site-packages/qat/qlmaas/connection.so\u001b[0m in \u001b[0;36mqat.qlmaas.connection.QLMaaSConnection.get_result\u001b[0;34m()\u001b[0m\n",
      "\u001b[0;32m~/miniforge3/envs/NEASQC4featMYQLM/lib/python3.9/site-packages/qat/bind/qlmaas_Scheduler_client.so\u001b[0m in \u001b[0;36mqat.bind.qlmaas_Scheduler_client.RemoteScheduler.get_result\u001b[0;34m()\u001b[0m\n",
      "\u001b[0;31mQLMServiceException\u001b[0m: QLMServiceException(message='Could not return the result of a job having a status equal to running', service_name='Scheduler')",
      "\nThe above exception was the direct cause of the following exception:\n",
      "\u001b[0;31mPluginException\u001b[0m                           Traceback (most recent call last)",
      "\u001b[0;32m/tmp/ipykernel_16888/1333938749.py\u001b[0m in \u001b[0;36m<module>\u001b[0;34m\u001b[0m\n\u001b[1;32m      9\u001b[0m \u001b[0;34m\u001b[0m\u001b[0m\n\u001b[1;32m     10\u001b[0m     \u001b[0mstart\u001b[0m \u001b[0;34m=\u001b[0m \u001b[0mtime\u001b[0m\u001b[0;34m.\u001b[0m\u001b[0mtime\u001b[0m\u001b[0;34m(\u001b[0m\u001b[0;34m)\u001b[0m\u001b[0;34m\u001b[0m\u001b[0;34m\u001b[0m\u001b[0m\n\u001b[0;32m---> 11\u001b[0;31m     \u001b[0mresult_remote\u001b[0m \u001b[0;34m=\u001b[0m \u001b[0mstack\u001b[0m\u001b[0;34m.\u001b[0m\u001b[0msubmit\u001b[0m\u001b[0;34m(\u001b[0m\u001b[0mjob\u001b[0m\u001b[0;34m)\u001b[0m\u001b[0;34m\u001b[0m\u001b[0;34m\u001b[0m\u001b[0m\n\u001b[0m\u001b[1;32m     12\u001b[0m     \u001b[0mend\u001b[0m \u001b[0;34m=\u001b[0m \u001b[0mtime\u001b[0m\u001b[0;34m.\u001b[0m\u001b[0mtime\u001b[0m\u001b[0;34m(\u001b[0m\u001b[0;34m)\u001b[0m\u001b[0;34m\u001b[0m\u001b[0;34m\u001b[0m\u001b[0m\n",
      "\u001b[0;32m~/miniforge3/envs/NEASQC4featMYQLM/lib/python3.9/site-packages/qat/core/qpu/qpu.so\u001b[0m in \u001b[0;36mqat.core.qpu.qpu.CommonQPU.submit\u001b[0;34m()\u001b[0m\n",
      "\u001b[0;32m~/miniforge3/envs/NEASQC4featMYQLM/lib/python3.9/site-packages/qat/core/qpu/qpu.so\u001b[0m in \u001b[0;36mqat.core.qpu.qpu.CommonQPU.submit\u001b[0;34m()\u001b[0m\n",
      "\u001b[0;32m~/miniforge3/envs/NEASQC4featMYQLM/lib/python3.9/site-packages/qat/plugins/junction.so\u001b[0m in \u001b[0;36mqat.plugins.junction.Junction._submit_batch\u001b[0;34m()\u001b[0m\n",
      "\u001b[0;31mPluginException\u001b[0m: PluginException(code=None, modulename='qat.plugins.junction', message='Caught exception from junction: \"QLMServiceException(message=\\'Could not return the result of a job having a status equal to running\\', service_name=\\'Scheduler\\')\" [see /tmp/tmpxhehlka6.junction.log for traceback info]', file=None, line=None)"
     ]
    }
   ],
   "source": [
    "remote = True\n",
    "\n",
    "if remote:\n",
    "    from qat.qlmaas import QLMaaSConnection\n",
    "    from qlmaas.qpus import LinAlg\n",
    "    from qlmaas.plugins import Nnizer,ScipyMinimizePlugin\n",
    "    qpu = LinAlg()\n",
    "    stack = IterativeExploration(adapt_calc, es_problem) | qpu\n",
    "\n",
    "    start = time.time()\n",
    "    result_remote = stack.submit(job)\n",
    "    end = time.time()"
   ]
  },
  {
   "cell_type": "code",
   "execution_count": 270,
   "metadata": {},
   "outputs": [
    {
     "ename": "AttributeError",
     "evalue": "'Result' object has no attribute 'get_status'",
     "output_type": "error",
     "traceback": [
      "\u001b[0;31m---------------------------------------------------------------------------\u001b[0m",
      "\u001b[0;31mAttributeError\u001b[0m                            Traceback (most recent call last)",
      "\u001b[0;32m/tmp/ipykernel_16888/2425407382.py\u001b[0m in \u001b[0;36m<module>\u001b[0;34m\u001b[0m\n\u001b[1;32m      1\u001b[0m \u001b[0;31m# REMOTE\u001b[0m\u001b[0;34m\u001b[0m\u001b[0;34m\u001b[0m\u001b[0m\n\u001b[0;32m----> 2\u001b[0;31m \u001b[0mprint\u001b[0m\u001b[0;34m(\u001b[0m\u001b[0mresult_remote\u001b[0m\u001b[0;34m.\u001b[0m\u001b[0mget_status\u001b[0m\u001b[0;34m(\u001b[0m\u001b[0;34m)\u001b[0m\u001b[0;34m)\u001b[0m\u001b[0;34m\u001b[0m\u001b[0;34m\u001b[0m\u001b[0m\n\u001b[0m\u001b[1;32m      3\u001b[0m \u001b[0;34m\u001b[0m\u001b[0m\n\u001b[1;32m      4\u001b[0m \u001b[0;32mif\u001b[0m \u001b[0mresult_remote\u001b[0m\u001b[0;34m.\u001b[0m\u001b[0mget_status\u001b[0m\u001b[0;34m(\u001b[0m\u001b[0;34m)\u001b[0m\u001b[0;34m==\u001b[0m\u001b[0;34m'done'\u001b[0m\u001b[0;34m:\u001b[0m\u001b[0;34m\u001b[0m\u001b[0;34m\u001b[0m\u001b[0m\n\u001b[1;32m      5\u001b[0m     \u001b[0mprint\u001b[0m\u001b[0;34m(\u001b[0m\u001b[0;34m\"Final energy:\"\u001b[0m\u001b[0;34m,\u001b[0m \u001b[0mresult_remote\u001b[0m\u001b[0;34m.\u001b[0m\u001b[0mget_result\u001b[0m\u001b[0;34m(\u001b[0m\u001b[0;34m)\u001b[0m\u001b[0;34m.\u001b[0m\u001b[0mvalue\u001b[0m \u001b[0;34m,\u001b[0m \u001b[0;34m' ,exec time:'\u001b[0m\u001b[0;34m,\u001b[0m \u001b[0mend\u001b[0m \u001b[0;34m-\u001b[0m \u001b[0mstart\u001b[0m\u001b[0;34m)\u001b[0m\u001b[0;34m\u001b[0m\u001b[0;34m\u001b[0m\u001b[0m\n",
      "\u001b[0;31mAttributeError\u001b[0m: 'Result' object has no attribute 'get_status'"
     ]
    }
   ],
   "source": [
    "# REMOTE\n",
    "print(result_remote.get_status())\n",
    "\n",
    "if result_remote.get_status()=='done':\n",
    "    print(\"Final energy:\", result_remote.get_result().value , ' ,exec time:', end - start)"
   ]
  },
  {
   "cell_type": "code",
   "execution_count": 98,
   "metadata": {},
   "outputs": [],
   "source": []
  },
  {
   "cell_type": "code",
   "execution_count": 191,
   "metadata": {},
   "outputs": [
    {
     "ename": "TypeError",
     "evalue": "load_config() takes exactly 2 positional arguments (1 given)",
     "output_type": "error",
     "traceback": [
      "\u001b[0;31m---------------------------------------------------------------------------\u001b[0m",
      "\u001b[0;31mTypeError\u001b[0m                                 Traceback (most recent call last)",
      "\u001b[0;32m/tmp/ipykernel_16888/933472759.py\u001b[0m in \u001b[0;36m<module>\u001b[0;34m\u001b[0m\n\u001b[1;32m      5\u001b[0m \u001b[0mcalc\u001b[0m \u001b[0;34m=\u001b[0m \u001b[0mGroundStateEigensolver\u001b[0m\u001b[0;34m(\u001b[0m\u001b[0mqubit_converter\u001b[0m\u001b[0;34m,\u001b[0m \u001b[0mvqe_solver\u001b[0m\u001b[0;34m)\u001b[0m\u001b[0;34m\u001b[0m\u001b[0;34m\u001b[0m\u001b[0m\n\u001b[1;32m      6\u001b[0m \u001b[0mremote_qpu\u001b[0m \u001b[0;34m=\u001b[0m \u001b[0mLinAlg\u001b[0m\u001b[0;34m(\u001b[0m\u001b[0;34m)\u001b[0m\u001b[0;34m\u001b[0m\u001b[0;34m\u001b[0m\u001b[0m\n\u001b[0;32m----> 7\u001b[0;31m \u001b[0mremote_qpu\u001b[0m\u001b[0;34m.\u001b[0m\u001b[0mload_config\u001b[0m\u001b[0;34m(\u001b[0m\u001b[0;34m)\u001b[0m\u001b[0;34m\u001b[0m\u001b[0;34m\u001b[0m\u001b[0m\n\u001b[0m\u001b[1;32m      8\u001b[0m \u001b[0mstack\u001b[0m \u001b[0;34m=\u001b[0m \u001b[0mbuild_QLM_stack\u001b[0m\u001b[0;34m(\u001b[0m\u001b[0mcalc\u001b[0m\u001b[0;34m,\u001b[0m\u001b[0mes_problem\u001b[0m\u001b[0;34m,\u001b[0m\u001b[0mremote_qpu\u001b[0m\u001b[0;34m)\u001b[0m\u001b[0;34m\u001b[0m\u001b[0;34m\u001b[0m\u001b[0m\n",
      "\u001b[0;32m~/miniforge3/envs/NEASQC4featMYQLM/lib/python3.9/site-packages/qat/qlmaas/qpus.so\u001b[0m in \u001b[0;36mqat.qlmaas.qpus.QLMaaSQPU.load_config\u001b[0;34m()\u001b[0m\n",
      "\u001b[0;31mTypeError\u001b[0m: load_config() takes exactly 2 positional arguments (1 given)"
     ]
    }
   ],
   "source": [
    "from wrapper2myqlm import *\n",
    "\n",
    "quantum_instance = QuantumInstance(backend=backend_localQiskit[1], shots=shots,  max_credits=None)\n",
    "vqe_solver = VQEUCCFactory(quantum_instance, optimizer=optimizer, ansatz= ansatz_in_use)\n",
    "calc = GroundStateEigensolver(qubit_converter, vqe_solver)\n",
    "remote_qpu = LinAlg()\n",
    "stack = build_QLM_stack(calc,es_problem,remote_qpu)"
   ]
  },
  {
   "cell_type": "code",
   "execution_count": 189,
   "metadata": {},
   "outputs": [
    {
     "ename": "ValueError",
     "evalue": "The underlying QPU is not set yet, can't return hardware specs",
     "output_type": "error",
     "traceback": [
      "\u001b[0;31m---------------------------------------------------------------------------\u001b[0m",
      "\u001b[0;31mValueError\u001b[0m                                Traceback (most recent call last)",
      "\u001b[0;32m/tmp/ipykernel_16888/107171570.py\u001b[0m in \u001b[0;36m<module>\u001b[0;34m\u001b[0m\n\u001b[0;32m----> 1\u001b[0;31m \u001b[0msolution\u001b[0m \u001b[0;34m=\u001b[0m \u001b[0mstack\u001b[0m\u001b[0;34m.\u001b[0m\u001b[0msubmit\u001b[0m\u001b[0;34m(\u001b[0m\u001b[0msimple_qlm_job\u001b[0m\u001b[0;34m(\u001b[0m\u001b[0;34m)\u001b[0m\u001b[0;34m)\u001b[0m\u001b[0;34m\u001b[0m\u001b[0;34m\u001b[0m\u001b[0m\n\u001b[0m\u001b[1;32m      2\u001b[0m \u001b[0mprint\u001b[0m\u001b[0;34m(\u001b[0m\u001b[0msolution\u001b[0m\u001b[0;34m.\u001b[0m\u001b[0mvalue\u001b[0m\u001b[0;34m)\u001b[0m\u001b[0;34m\u001b[0m\u001b[0;34m\u001b[0m\u001b[0m\n",
      "\u001b[0;32m~/miniforge3/envs/NEASQC4featMYQLM/lib/python3.9/site-packages/qat/core/qpu/qpu.so\u001b[0m in \u001b[0;36mqat.core.qpu.qpu.CommonQPU.submit\u001b[0;34m()\u001b[0m\n",
      "\u001b[0;32m~/miniforge3/envs/NEASQC4featMYQLM/lib/python3.9/site-packages/qat/plugins/junction.so\u001b[0m in \u001b[0;36mqat.plugins.junction.Junction.get_specs\u001b[0;34m()\u001b[0m\n",
      "\u001b[0;31mValueError\u001b[0m: The underlying QPU is not set yet, can't return hardware specs"
     ]
    }
   ],
   "source": [
    "solution = stack.submit(simple_qlm_job())\n",
    "print(solution.value)"
   ]
  },
  {
   "cell_type": "code",
   "execution_count": 155,
   "metadata": {},
   "outputs": [
    {
     "name": "stdout",
     "output_type": "stream",
     "text": [
      "[-1.13730603+0.j]\n"
     ]
    }
   ],
   "source": [
    "sol = calc.solve(es_problem)\n",
    "print(sol.total_energies)"
   ]
  },
  {
   "cell_type": "code",
   "execution_count": 158,
   "metadata": {},
   "outputs": [
    {
     "ename": "QPUException",
     "evalue": "QPUException(code=11, modulename='qat.pylinalg', message='Gate RY has no matrix!', file='qat/pylinalg/simulator.py', line=103)",
     "output_type": "error",
     "traceback": [
      "\u001b[0;31m---------------------------------------------------------------------------\u001b[0m",
      "\u001b[0;31mAttributeError\u001b[0m                            Traceback (most recent call last)",
      "\u001b[0;32m~/miniforge3/envs/NEASQC4featMYQLM/lib/python3.9/site-packages/qat/pylinalg/simulator.py\u001b[0m in \u001b[0;36msimulate\u001b[0;34m(circuit)\u001b[0m\n\u001b[1;32m    153\u001b[0m         \u001b[0;32mtry\u001b[0m\u001b[0;34m:\u001b[0m\u001b[0;34m\u001b[0m\u001b[0;34m\u001b[0m\u001b[0m\n\u001b[0;32m--> 154\u001b[0;31m             \u001b[0mnctrls\u001b[0m\u001b[0;34m,\u001b[0m \u001b[0mmatrix\u001b[0m \u001b[0;34m=\u001b[0m \u001b[0mget_gate_matrix\u001b[0m\u001b[0;34m(\u001b[0m\u001b[0mgdef\u001b[0m\u001b[0;34m,\u001b[0m \u001b[0mcircuit\u001b[0m\u001b[0;34m.\u001b[0m\u001b[0mgateDic\u001b[0m\u001b[0;34m)\u001b[0m\u001b[0;34m\u001b[0m\u001b[0;34m\u001b[0m\u001b[0m\n\u001b[0m\u001b[1;32m    155\u001b[0m         \u001b[0;32mexcept\u001b[0m \u001b[0mAttributeError\u001b[0m \u001b[0;32mas\u001b[0m \u001b[0mexcp\u001b[0m\u001b[0;34m:\u001b[0m\u001b[0;34m\u001b[0m\u001b[0;34m\u001b[0m\u001b[0m\n",
      "\u001b[0;32m~/miniforge3/envs/NEASQC4featMYQLM/lib/python3.9/site-packages/qat/pylinalg/simulator.py\u001b[0m in \u001b[0;36mget_gate_matrix\u001b[0;34m(gate_definition, gate_dic)\u001b[0m\n\u001b[1;32m     43\u001b[0m         \u001b[0mgate_definition\u001b[0m \u001b[0;34m=\u001b[0m \u001b[0mgate_dic\u001b[0m\u001b[0;34m[\u001b[0m\u001b[0mgate_definition\u001b[0m\u001b[0;34m.\u001b[0m\u001b[0msubgate\u001b[0m\u001b[0;34m]\u001b[0m\u001b[0;34m\u001b[0m\u001b[0;34m\u001b[0m\u001b[0m\n\u001b[0;32m---> 44\u001b[0;31m     \u001b[0;32mreturn\u001b[0m \u001b[0mnctrls\u001b[0m\u001b[0;34m,\u001b[0m \u001b[0mmat2nparray\u001b[0m\u001b[0;34m(\u001b[0m\u001b[0mgate_definition\u001b[0m\u001b[0;34m.\u001b[0m\u001b[0mmatrix\u001b[0m\u001b[0;34m)\u001b[0m\u001b[0;34m\u001b[0m\u001b[0;34m\u001b[0m\u001b[0m\n\u001b[0m\u001b[1;32m     45\u001b[0m \u001b[0;34m\u001b[0m\u001b[0m\n",
      "\u001b[0;32m~/miniforge3/envs/NEASQC4featMYQLM/lib/python3.9/site-packages/qat/pylinalg/simulator.py\u001b[0m in \u001b[0;36mmat2nparray\u001b[0;34m(matrix)\u001b[0m\n\u001b[1;32m    392\u001b[0m     \"\"\"\n\u001b[0;32m--> 393\u001b[0;31m     \u001b[0mA\u001b[0m \u001b[0;34m=\u001b[0m \u001b[0mnp\u001b[0m\u001b[0;34m.\u001b[0m\u001b[0mzeros\u001b[0m\u001b[0;34m(\u001b[0m\u001b[0;34m(\u001b[0m\u001b[0mmatrix\u001b[0m\u001b[0;34m.\u001b[0m\u001b[0mnRows\u001b[0m\u001b[0;34m,\u001b[0m \u001b[0mmatrix\u001b[0m\u001b[0;34m.\u001b[0m\u001b[0mnCols\u001b[0m\u001b[0;34m)\u001b[0m\u001b[0;34m,\u001b[0m \u001b[0mdtype\u001b[0m\u001b[0;34m=\u001b[0m\u001b[0mnp\u001b[0m\u001b[0;34m.\u001b[0m\u001b[0mcomplex128\u001b[0m\u001b[0;34m)\u001b[0m\u001b[0;34m\u001b[0m\u001b[0;34m\u001b[0m\u001b[0m\n\u001b[0m\u001b[1;32m    394\u001b[0m     for cnt, (i, j) in enumerate(itertools.product(range(matrix.nRows),\n",
      "\u001b[0;31mAttributeError\u001b[0m: 'NoneType' object has no attribute 'nRows'",
      "\nThe above exception was the direct cause of the following exception:\n",
      "\u001b[0;31mQPUException\u001b[0m                              Traceback (most recent call last)",
      "\u001b[0;32m/tmp/ipykernel_16888/262719208.py\u001b[0m in \u001b[0;36m<module>\u001b[0;34m\u001b[0m\n\u001b[0;32m----> 1\u001b[0;31m \u001b[0mstack\u001b[0m\u001b[0;34m.\u001b[0m\u001b[0msubmit_job\u001b[0m\u001b[0;34m(\u001b[0m\u001b[0msimple_qlm_job\u001b[0m\u001b[0;34m(\u001b[0m\u001b[0;34m)\u001b[0m\u001b[0;34m)\u001b[0m\u001b[0;34m\u001b[0m\u001b[0;34m\u001b[0m\u001b[0m\n\u001b[0m",
      "\u001b[0;32m~/miniforge3/envs/NEASQC4featMYQLM/lib/python3.9/site-packages/qat/plugins/junction.so\u001b[0m in \u001b[0;36mqat.plugins.junction.Junction.submit_job\u001b[0;34m()\u001b[0m\n",
      "\u001b[0;32m~/miniforge3/envs/NEASQC4featMYQLM/lib/python3.9/site-packages/qat/pylinalg/service.py\u001b[0m in \u001b[0;36msubmit_job\u001b[0;34m(self, job)\u001b[0m\n\u001b[1;32m     63\u001b[0m         \u001b[0;32mif\u001b[0m \u001b[0;34m(\u001b[0m\u001b[0mjob\u001b[0m\u001b[0;34m.\u001b[0m\u001b[0mnbshots\u001b[0m \u001b[0;34m==\u001b[0m \u001b[0;36m0\u001b[0m\u001b[0;34m)\u001b[0m \u001b[0;32mor\u001b[0m \u001b[0;34m(\u001b[0m\u001b[0;32mnot\u001b[0m \u001b[0mhas_int_meas\u001b[0m\u001b[0;34m)\u001b[0m\u001b[0;34m:\u001b[0m\u001b[0;34m\u001b[0m\u001b[0;34m\u001b[0m\u001b[0m\n\u001b[1;32m     64\u001b[0m \u001b[0;34m\u001b[0m\u001b[0m\n\u001b[0;32m---> 65\u001b[0;31m             \u001b[0mnp_state_vec\u001b[0m\u001b[0;34m,\u001b[0m \u001b[0minterm_measurements\u001b[0m \u001b[0;34m=\u001b[0m \u001b[0msimulate\u001b[0m\u001b[0;34m(\u001b[0m\u001b[0mjob\u001b[0m\u001b[0;34m.\u001b[0m\u001b[0mcircuit\u001b[0m\u001b[0;34m)\u001b[0m  \u001b[0;31m# perform simu\u001b[0m\u001b[0;34m\u001b[0m\u001b[0;34m\u001b[0m\u001b[0m\n\u001b[0m\u001b[1;32m     66\u001b[0m \u001b[0;34m\u001b[0m\u001b[0m\n\u001b[1;32m     67\u001b[0m         \u001b[0;32mif\u001b[0m \u001b[0mjob\u001b[0m\u001b[0;34m.\u001b[0m\u001b[0mqubits\u001b[0m \u001b[0;32mis\u001b[0m \u001b[0;32mnot\u001b[0m \u001b[0;32mNone\u001b[0m\u001b[0;34m:\u001b[0m\u001b[0;34m\u001b[0m\u001b[0;34m\u001b[0m\u001b[0m\n",
      "\u001b[0;32m~/miniforge3/envs/NEASQC4featMYQLM/lib/python3.9/site-packages/qat/pylinalg/simulator.py\u001b[0m in \u001b[0;36msimulate\u001b[0;34m(circuit)\u001b[0m\n\u001b[1;32m    154\u001b[0m             \u001b[0mnctrls\u001b[0m\u001b[0;34m,\u001b[0m \u001b[0mmatrix\u001b[0m \u001b[0;34m=\u001b[0m \u001b[0mget_gate_matrix\u001b[0m\u001b[0;34m(\u001b[0m\u001b[0mgdef\u001b[0m\u001b[0;34m,\u001b[0m \u001b[0mcircuit\u001b[0m\u001b[0;34m.\u001b[0m\u001b[0mgateDic\u001b[0m\u001b[0;34m)\u001b[0m\u001b[0;34m\u001b[0m\u001b[0;34m\u001b[0m\u001b[0m\n\u001b[1;32m    155\u001b[0m         \u001b[0;32mexcept\u001b[0m \u001b[0mAttributeError\u001b[0m \u001b[0;32mas\u001b[0m \u001b[0mexcp\u001b[0m\u001b[0;34m:\u001b[0m\u001b[0;34m\u001b[0m\u001b[0;34m\u001b[0m\u001b[0m\n\u001b[0;32m--> 156\u001b[0;31m             raise exceptions_types.QPUException(code=exceptions_types.ErrorType.ILLEGAL_GATES,\n\u001b[0m\u001b[1;32m    157\u001b[0m                                 \u001b[0mmodulename\u001b[0m\u001b[0;34m=\u001b[0m\u001b[0;34m\"qat.pylinalg\"\u001b[0m\u001b[0;34m,\u001b[0m\u001b[0;34m\u001b[0m\u001b[0;34m\u001b[0m\u001b[0m\n\u001b[1;32m    158\u001b[0m                                 \u001b[0mfile\u001b[0m\u001b[0;34m=\u001b[0m\u001b[0;34m\"qat/pylinalg/simulator.py\"\u001b[0m\u001b[0;34m,\u001b[0m\u001b[0;34m\u001b[0m\u001b[0;34m\u001b[0m\u001b[0m\n",
      "\u001b[0;31mQPUException\u001b[0m: QPUException(code=11, modulename='qat.pylinalg', message='Gate RY has no matrix!', file='qat/pylinalg/simulator.py', line=103)"
     ]
    }
   ],
   "source": [
    "stack.submit_job(simple_qlm_job())"
   ]
  },
  {
   "cell_type": "code",
   "execution_count": null,
   "metadata": {},
   "outputs": [],
   "source": []
  },
  {
   "cell_type": "code",
   "execution_count": 174,
   "metadata": {},
   "outputs": [],
   "source": [
    "junk = IterativeExploration(adapt_calc, es_problem)"
   ]
  },
  {
   "cell_type": "code",
   "execution_count": 192,
   "metadata": {},
   "outputs": [
    {
     "ename": "ValueError",
     "evalue": "The underlying QPU is not set yet, can't return hardware specs",
     "output_type": "error",
     "traceback": [
      "\u001b[0;31m---------------------------------------------------------------------------\u001b[0m",
      "\u001b[0;31mValueError\u001b[0m                                Traceback (most recent call last)",
      "\u001b[0;32m/tmp/ipykernel_16888/974934240.py\u001b[0m in \u001b[0;36m<module>\u001b[0;34m\u001b[0m\n\u001b[0;32m----> 1\u001b[0;31m \u001b[0mjunk\u001b[0m\u001b[0;34m.\u001b[0m\u001b[0mget_specs\u001b[0m\u001b[0;34m(\u001b[0m\u001b[0;34m)\u001b[0m\u001b[0;34m\u001b[0m\u001b[0;34m\u001b[0m\u001b[0m\n\u001b[0m",
      "\u001b[0;32m~/miniforge3/envs/NEASQC4featMYQLM/lib/python3.9/site-packages/qat/plugins/junction.so\u001b[0m in \u001b[0;36mqat.plugins.junction.Junction.get_specs\u001b[0;34m()\u001b[0m\n",
      "\u001b[0;31mValueError\u001b[0m: The underlying QPU is not set yet, can't return hardware specs"
     ]
    }
   ],
   "source": [
    "junk.get_specs()"
   ]
  },
  {
   "cell_type": "code",
   "execution_count": 196,
   "metadata": {},
   "outputs": [
    {
     "data": {
      "text/plain": [
       "443"
      ]
     },
     "execution_count": 196,
     "metadata": {},
     "output_type": "execute_result"
    }
   ],
   "source": [
    "remote_qpu.conn.port"
   ]
  },
  {
   "cell_type": "code",
   "execution_count": 197,
   "metadata": {},
   "outputs": [
    {
     "data": {
      "text/plain": [
       "'qlm35e.neasqc.eu'"
      ]
     },
     "execution_count": 197,
     "metadata": {},
     "output_type": "execute_result"
    }
   ],
   "source": [
    "remote_qpu.conn.connection.host"
   ]
  },
  {
   "cell_type": "code",
   "execution_count": 200,
   "metadata": {},
   "outputs": [],
   "source": [
    "import qlmaas"
   ]
  },
  {
   "cell_type": "code",
   "execution_count": 207,
   "metadata": {},
   "outputs": [
    {
     "data": {
      "text/plain": [
       "['QuameleonPlugin',\n",
       " 'CausalConesSplitter',\n",
       " 'Fragmenter',\n",
       " 'AdaptiveAnsatzPlugin',\n",
       " 'SeqOptim',\n",
       " 'ZeroNoiseExtrapolator',\n",
       " 'MultipleLaunchesAnalyzer',\n",
       " 'QEMPlugin',\n",
       " 'Graphopt',\n",
       " 'Nnizer',\n",
       " 'PatternManager',\n",
       " 'GateRewriter',\n",
       " 'OptimizeSingles',\n",
       " 'Remap',\n",
       " 'LazySynthesis',\n",
       " 'ExtractClifford',\n",
       " 'InitialMapping',\n",
       " 'ScipyMinimizePlugin',\n",
       " 'SPSAMinimizePlugin',\n",
       " 'PSOMinimizePlugin',\n",
       " 'CircuitInliner',\n",
       " 'BaseChanger',\n",
       " 'ObservableSplitter',\n",
       " 'UploadedPlugin',\n",
       " 'StatPlugin']"
      ]
     },
     "execution_count": 207,
     "metadata": {},
     "output_type": "execute_result"
    }
   ],
   "source": [
    "qlmaas.plugins.__all__\n"
   ]
  },
  {
   "cell_type": "code",
   "execution_count": 253,
   "metadata": {},
   "outputs": [
    {
     "ename": "TypeError",
     "evalue": "Can't instantiate abstract class AbstractPlugin with abstract method compile",
     "output_type": "error",
     "traceback": [
      "\u001b[0;31m---------------------------------------------------------------------------\u001b[0m",
      "\u001b[0;31mTypeError\u001b[0m                                 Traceback (most recent call last)",
      "\u001b[0;32m/tmp/ipykernel_16888/4059210870.py\u001b[0m in \u001b[0;36m<module>\u001b[0;34m\u001b[0m\n\u001b[1;32m      1\u001b[0m \u001b[0;32mfrom\u001b[0m \u001b[0mqlmaas\u001b[0m\u001b[0;34m.\u001b[0m\u001b[0mplugins\u001b[0m \u001b[0;32mimport\u001b[0m \u001b[0mUploadedPlugin\u001b[0m\u001b[0;34m\u001b[0m\u001b[0;34m\u001b[0m\u001b[0m\n\u001b[1;32m      2\u001b[0m \u001b[0;34m\u001b[0m\u001b[0m\n\u001b[0;32m----> 3\u001b[0;31m \u001b[0mstack\u001b[0m \u001b[0;34m=\u001b[0m \u001b[0mUploadedPlugin\u001b[0m\u001b[0;34m(\u001b[0m\u001b[0mAbstractPlugin\u001b[0m\u001b[0;34m(\u001b[0m\u001b[0;34m)\u001b[0m\u001b[0;34m)\u001b[0m\u001b[0;34m\u001b[0m\u001b[0;34m\u001b[0m\u001b[0m\n\u001b[0m",
      "\u001b[0;31mTypeError\u001b[0m: Can't instantiate abstract class AbstractPlugin with abstract method compile"
     ]
    }
   ],
   "source": [
    "from qlmaas.plugins import UploadedPlugin\n",
    "\n",
    "stack = UploadedPlugin(IterativeExploration(calc,es_problem))"
   ]
  },
  {
   "cell_type": "code",
   "execution_count": 216,
   "metadata": {},
   "outputs": [
    {
     "name": "stdout",
     "output_type": "stream",
     "text": [
      "\n",
      "    An uploaded Plugin is a myQLM plugin uploaded to the server side,\n",
      "    to be included in a myQLM Power Access remote stack\n",
      "\n",
      "    .. note::\n",
      "\n",
      "        This plugin is useless if not used in a myQLM Power Access\n",
      "        stack\n",
      "\n",
      "    .. code-block:: python\n",
      "\n",
      "        from qlmaas.plugins import UploadedPlugin\n",
      "\n",
      "        # Build a local plugin\n",
      "        local_plugin = LocalPlugin()\n",
      "\n",
      "        # Create a remote stack\n",
      "        stack = RemotePlugin() | UploadedPlugin(local_plugin)\n",
      "\n",
      "        # Compile a batch\n",
      "        stack.compile(..., ...)\n",
      "\n",
      "    Args:\n",
      "        plugin (AbstractPlugin): Plugin defined locally and dillable\n",
      "    \n"
     ]
    }
   ],
   "source": [
    "print(UploadedPlugin.__doc__)"
   ]
  },
  {
   "cell_type": "code",
   "execution_count": 225,
   "metadata": {},
   "outputs": [
    {
     "data": {
      "text/plain": [
       "['CommonQPU',\n",
       " 'ClassicalQPU',\n",
       " 'QutipQPU',\n",
       " 'AnalogQPU',\n",
       " 'SQAQPU',\n",
       " 'Bdd',\n",
       " 'Feynman',\n",
       " 'LinAlg',\n",
       " 'MPS',\n",
       " 'NoisyQProc',\n",
       " 'QPEG',\n",
       " 'Stabs',\n",
       " 'UploadedQPU']"
      ]
     },
     "execution_count": 225,
     "metadata": {},
     "output_type": "execute_result"
    }
   ],
   "source": [
    "qlmaas.qpus.__all__"
   ]
  },
  {
   "cell_type": "code",
   "execution_count": 239,
   "metadata": {},
   "outputs": [],
   "source": [
    "from qat.core import qpu"
   ]
  },
  {
   "cell_type": "code",
   "execution_count": 251,
   "metadata": {},
   "outputs": [
    {
     "name": "stdout",
     "output_type": "stream",
     "text": [
      "<code object submit at 0x7f04f753c030, file \"/var/lib/jenkins/workspace/qat-core_rc/qat-core/python/qat/core/qpu/qpu.py\", line 157>\n"
     ]
    }
   ],
   "source": [
    "print(qpu.CommonQPU.submit.__code__)"
   ]
  },
  {
   "cell_type": "code",
   "execution_count": 249,
   "metadata": {},
   "outputs": [
    {
     "data": {
      "text/plain": [
       "<method-wrapper '__str__' of function object at 0x7f05140bd0d0>"
      ]
     },
     "execution_count": 249,
     "metadata": {},
     "output_type": "execute_result"
    }
   ],
   "source": [
    "np.max.__str__"
   ]
  },
  {
   "cell_type": "code",
   "execution_count": 263,
   "metadata": {},
   "outputs": [
    {
     "ename": "TypeError",
     "evalue": "__call__() takes exactly 1 positional argument (2 given)",
     "output_type": "error",
     "traceback": [
      "\u001b[0;31m---------------------------------------------------------------------------\u001b[0m",
      "\u001b[0;31mTypeError\u001b[0m                                 Traceback (most recent call last)",
      "\u001b[0;32m/tmp/ipykernel_16888/2788061369.py\u001b[0m in \u001b[0;36m<module>\u001b[0;34m\u001b[0m\n\u001b[1;32m      1\u001b[0m \u001b[0;32mfrom\u001b[0m \u001b[0mqat\u001b[0m\u001b[0;34m.\u001b[0m\u001b[0mplugins\u001b[0m \u001b[0;32mimport\u001b[0m \u001b[0mScipyMinimizePlugin\u001b[0m \u001b[0;32mas\u001b[0m \u001b[0mScipyMinimizePluginLocal\u001b[0m\u001b[0;34m\u001b[0m\u001b[0;34m\u001b[0m\u001b[0m\n\u001b[1;32m      2\u001b[0m \u001b[0mqpu\u001b[0m \u001b[0;34m=\u001b[0m \u001b[0mLinAlg\u001b[0m\u001b[0;34m(\u001b[0m\u001b[0;34m)\u001b[0m\u001b[0;34m\u001b[0m\u001b[0;34m\u001b[0m\u001b[0m\n\u001b[0;32m----> 3\u001b[0;31m \u001b[0mstack\u001b[0m \u001b[0;34m=\u001b[0m \u001b[0mUploadedPlugin\u001b[0m\u001b[0;34m(\u001b[0m\u001b[0mScipyMinimizePluginLocal\u001b[0m\u001b[0;34m(\u001b[0m\u001b[0mmethod\u001b[0m\u001b[0;34m=\u001b[0m\u001b[0;34m'COBYLA'\u001b[0m\u001b[0;34m)\u001b[0m\u001b[0;34m)\u001b[0m\u001b[0;34m\u001b[0m\u001b[0;34m\u001b[0m\u001b[0m\n\u001b[0m\u001b[1;32m      4\u001b[0m \u001b[0mstack\u001b[0m\u001b[0;34m.\u001b[0m\u001b[0msubmit\u001b[0m\u001b[0;34m(\u001b[0m\u001b[0mjob\u001b[0m\u001b[0;34m)\u001b[0m\u001b[0;34m\u001b[0m\u001b[0;34m\u001b[0m\u001b[0m\n",
      "\u001b[0;32m~/miniforge3/envs/NEASQC4featMYQLM/lib/python3.9/site-packages/qat/qlmaas/plugins.so\u001b[0m in \u001b[0;36mqat.qlmaas.plugins.RemotePluginFactory.__call__\u001b[0;34m()\u001b[0m\n",
      "\u001b[0;31mTypeError\u001b[0m: __call__() takes exactly 1 positional argument (2 given)"
     ]
    }
   ],
   "source": []
  }
 ],
 "metadata": {
  "interpreter": {
   "hash": "9ccf4f92e99f5e8daa56ac2509d5c1bb7d65182292a5e7afa66a01e56ade4c9c"
  },
  "kernelspec": {
   "display_name": "Python 3.9.7 ('NEASQC4featMYQLM')",
   "language": "python",
   "name": "python3"
  },
  "language_info": {
   "codemirror_mode": {
    "name": "ipython",
    "version": 3
   },
   "file_extension": ".py",
   "mimetype": "text/x-python",
   "name": "python",
   "nbconvert_exporter": "python",
   "pygments_lexer": "ipython3",
   "version": "3.9.7"
  },
  "orig_nbformat": 4
 },
 "nbformat": 4,
 "nbformat_minor": 2
}
