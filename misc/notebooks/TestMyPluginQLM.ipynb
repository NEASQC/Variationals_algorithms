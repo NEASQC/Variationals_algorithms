{
 "cells": [
  {
   "cell_type": "code",
   "execution_count": 190,
   "metadata": {},
   "outputs": [
    {
     "name": "stdout",
     "output_type": "stream",
     "text": [
      "{'qiskit-terra': '0.18.2', 'qiskit-aer': '0.8.2', 'qiskit-ignis': '0.6.0', 'qiskit-ibmq-provider': '0.16.0', 'qiskit-aqua': '0.9.5', 'qiskit': None, 'qiskit-nature': '0.2.0', 'qiskit-finance': None, 'qiskit-optimization': None, 'qiskit-machine-learning': None}\n",
      "0.18.2\n"
     ]
    }
   ],
   "source": [
    "import os \n",
    "\n",
    "os.environ[\"TMPDIR\"] = \"/tmp\"\n",
    "\n",
    "from qat.interop.qiskit import QPUToBackend,AsyncBackendToQPU,qiskit_to_qlm\n",
    "from qat.qpus import PyLinalg,get_default_qpu\n",
    "from qat.plugins import ScipyMinimizePlugin as ScipyMinimizePluginLocal\n",
    "from qiskit.utils import QuantumInstance\n",
    "from qiskit.circuit.library import TwoLocal\n",
    "\n",
    "#%%pycodestyle\n",
    "from qiskit_nature.drivers import UnitsType\n",
    "from qiskit_nature.drivers.second_quantization.pyscfd import PySCFDriver\n",
    "from qiskit_nature.transformers.second_quantization.electronic import FreezeCoreTransformer\n",
    "from qiskit_nature.problems.second_quantization import ElectronicStructureProblem\n",
    "from qiskit_nature.converters.second_quantization import QubitConverter\n",
    "from qiskit_nature.mappers.second_quantization import JordanWignerMapper, ParityMapper\n",
    "from qiskit_nature.algorithms import VQEUCCFactory,GroundStateEigensolver\n",
    "\n",
    "from qiskit_nature.circuit.library import UCCSD,UCC\n",
    "from qiskit_nature.circuit.library.initial_states import HartreeFock\n",
    "from qiskit.algorithms.optimizers import SLSQP,L_BFGS_B,SPSA,COBYLA\n",
    "from qiskit.utils import QuantumInstance\n",
    "from qiskit import Aer\n",
    "\n",
    "import time as time\n",
    "\n",
    "import qiskit\n",
    "print(qiskit.__qiskit_version__)\n",
    "print(qiskit.__version__)\n",
    "\n",
    "\n"
   ]
  },
  {
   "cell_type": "code",
   "execution_count": 191,
   "metadata": {},
   "outputs": [],
   "source": [
    "remote =True\n",
    "if remote:\n",
    "    from qlmaas.qpus import LinAlg\n",
    "    from qlmaas.plugins import Nnizer,ScipyMinimizePlugin\n",
    "    from qlmaas.plugins import IterativeExplorationVQE as IterativeExplorationVQEremote\n",
    "\n",
    "\n",
    "    # Set up 3 different backends to test computation time\n",
    "    backend_remoteQLM = ['remote backend QLM', QPUToBackend(qpu=LinAlg(), optimizer=ScipyMinimizePlugin(method=\"COBYLA\"))]\n",
    "backend_localQLM = ['local backend QLM', QPUToBackend(qpu=PyLinalg() , optimizer=ScipyMinimizePluginLocal(method=\"COBYLA\"))]\n",
    "backend_localQiskit = ['local backend qiskit', Aer.get_backend('aer_simulator')]\n",
    "shots=1024"
   ]
  },
  {
   "cell_type": "markdown",
   "metadata": {},
   "source": [
    "### OLD Method for integrating qiskit-qlm\n",
    "Simply swap the backend you pass to Quantuminstance with a qpu from qlm (i.e. backendQLM=QPUToBackend(qpu))"
   ]
  },
  {
   "cell_type": "code",
   "execution_count": 192,
   "metadata": {},
   "outputs": [
    {
     "name": "stdout",
     "output_type": "stream",
     "text": [
      "None\n"
     ]
    }
   ],
   "source": [
    "# Initialize qubit converter\n",
    "\n",
    "\n",
    "qubit_converter = QubitConverter(mapper=JordanWignerMapper(), two_qubit_reduction=True)  # two qubit reduction doesn`t work with Jordan-WignerMapper()\n",
    "optimizer = COBYLA(maxiter=100)\n",
    "bond_distance = 0.735\n",
    "# Molecule\n",
    "molecule = 'H .0 .0 -{0}; H .0 .0 {0}'\n",
    "molecule_set = molecule.format(bond_distance/2)\n",
    "driver = PySCFDriver(atom=molecule.format(bond_distance/2), unit=UnitsType.ANGSTROM, basis='sto3g')\n",
    "qmolecule = driver.run()\n",
    "es_problem = ElectronicStructureProblem(driver,q_molecule_transformers=[FreezeCoreTransformer(freeze_core=True, remove_orbitals=[])])\n",
    "\n"
   ]
  },
  {
   "cell_type": "code",
   "execution_count": 193,
   "metadata": {},
   "outputs": [
    {
     "name": "stdout",
     "output_type": "stream",
     "text": [
      "Results from simpler method of swapping backends\n",
      "None\n"
     ]
    }
   ],
   "source": [
    "\n",
    "num_particles = qmolecule.num_alpha,qmolecule.num_beta\n",
    "hf_init = HartreeFock(qubit_converter = qubit_converter, \n",
    "                      num_spin_orbitals = qmolecule.num_molecular_orbitals*2, \n",
    "                      num_particles = num_particles )\n",
    "#ANSATZES TO TRY\n",
    "uc_circuit = UCCSD(qubit_converter = qubit_converter,\n",
    "                   initial_state=hf_init) #doesnt work with conversion to QLM #now it does\n",
    "tl_circuit = TwoLocal(4, ['ry', 'rz'], 'cx',\n",
    "                      entanglement='full', reps=1)\n",
    "\n",
    "ansatz_in_use = uc_circuit #<----select type of ansatz\n",
    "\n",
    "print('Results from simpler method of swapping backends')\n",
    "for label,backend in [backend_localQiskit]:#,backend_localQLM, backend_remoteQLM]:\n",
    "    quantum_instance = QuantumInstance(backend=backend, shots=shots,  max_credits=None)\n",
    "    vqe_solver = VQEUCCFactory(quantum_instance, optimizer=optimizer, ansatz= ansatz_in_use)\n",
    "    calc = GroundStateEigensolver(qubit_converter, vqe_solver)\n",
    "    start = time.time()\n",
    "    res = calc.solve(es_problem)\n",
    "    end = time.time()\n",
    "    #print('Type of backend:',label,', VQE result:\\t', res.total_energies,',exec_time=', end - start)\n",
    "\n",
    "\n",
    "# Compute exact solution\n",
    "from qiskit.algorithms import NumPyMinimumEigensolver\n",
    "\n",
    "# numpy_solver = NumPyMinimumEigensolver()\n",
    "# exact_calc = GroundStateEigensolver(qubit_converter, numpy_solver)\n",
    "# res_exact = exact_calc.solve(es_problem)\n",
    "# print('Exact:\\t', res_exact.total_energies)"
   ]
  },
  {
   "cell_type": "markdown",
   "metadata": {},
   "source": [
    "### Newer method for integrating qiskit-qlm\n",
    "The idea is to first modify the function that extract the energy from the quantum machine to send jobs to qlm,\n",
    "Then we embed the GroundStateSolver in a custom QLM Plugin() (acutally is a Junction()), and together with the QLM qpu we build a stack.\n",
    "This stack is then submitted with a fake job (this is required for qlm)"
   ]
  },
  {
   "cell_type": "code",
   "execution_count": 194,
   "metadata": {},
   "outputs": [],
   "source": [
    "\n",
    "plugin = IterativeExplorationVQEremote(converter=qubit_converter, solver=vqe_solver, molecule=molecule_set )"
   ]
  },
  {
   "cell_type": "code",
   "execution_count": 195,
   "metadata": {},
   "outputs": [
    {
     "name": "stdout",
     "output_type": "stream",
     "text": [
      "Results from more complex method of embedding the method in the qlm stack in conjuction with the qpu\n",
      "Submitted a new batch: Job3082\n",
      "Type of backend: remote backend QLM  , VQE result:\t Result(raw_data=None, _value=ComplexNumber(re=-1.1373060208664287, im=0.0), error=None, value_data=None, error_data=None, meta_data={'optimal_parameters': \"/home_nfs/gsilvi/.local/lib/python3.9/site-packages\\n__['/usr/bin', '/usr/lib/python3.9/site-packages', '/usr/lib64/python39.zip', '/usr/lib64/python3.9/lib-dynload', '/home_nfs/gsilvi/custom_qlm_code', '/usr/local/lib/python3.9/site-packages/IPython/extensions', '/home_nfs/gsilvi/.local/lib/python3.9/site-packages', '/home_nfs/gsilvi/.local/lib/python3.9/site-packages/qat', '/usr/lib64/python3.9']_QAT:/home_nfs/gsilvi/.local/lib/python3.9/site-packages/qat/__init__.so\", 'single_job': 'True'}, in_memory=None, data=None, qregs=[DefaultRegister(length=1, start=0, msb=None, key=None)], _parameter_map=None, need_flip=False, nbqbits=None, lsb_first=False, has_statevector=False, statevector=None) ,exec_time= 20.907502402998944\n"
     ]
    }
   ],
   "source": [
    "# NEW METHOD\n",
    "from qat.interop.qiskit import qiskit_to_qlm\n",
    "from wrapper2myqlm import simple_qlm_job\n",
    "print('Results from more complex method of embedding the method in the qlm stack in conjuction with the qpu')\n",
    "for label,backend in [backend_remoteQLM]:\n",
    "    quantum_instance = QuantumInstance(backend=backend, shots=shots,  max_credits=None)\n",
    "    vqe_solver2 = VQEUCCFactory(quantum_instance, optimizer=optimizer, ansatz= ansatz_in_use)\n",
    "    calc2 = GroundStateEigensolver(qubit_converter, vqe_solver2)\n",
    "    #calc2.solve(es_problem) #this cause multiple jobs in qlm, wtf\n",
    "    # stack = build_QLM_stack_remote(calc, molecule_set, IterativeExplorationVQEremote, qpu)\n",
    "    #plugin = IterativeExplorationVQEremote(converter=qubit_converter, solver=vqe_solver, molecule=molecule_set )\n",
    "    stack = plugin |  LinAlg()\n",
    "    #stack = test | qpu\n",
    "    start = time.time()\n",
    "    async_result = stack.submit(simple_qlm_job(), meta_data={\"optimal_parameters\":'','qat':''})\n",
    "    result = async_result.join()\n",
    "    # solution = run_QLM_stack(stack)\n",
    "    end = time.time()\n",
    "    print('Type of backend:',label,' , VQE result:\\t', result,',exec_time=', end - start)\n"
   ]
  },
  {
   "cell_type": "code",
   "execution_count": 22,
   "metadata": {},
   "outputs": [
    {
     "data": {
      "text/plain": [
       "<function qat.interop.qiskit.converters.qlm_to_qiskit(qlm_circuit, qubits=None)>"
      ]
     },
     "execution_count": 22,
     "metadata": {},
     "output_type": "execute_result"
    }
   ],
   "source": [
    "from importlib import import_module\n",
    "\n",
    "interop = import_module('qat.interop',package='qat')\n",
    "interop.qiskit.qlm_to_qiskit"
   ]
  },
  {
   "cell_type": "code",
   "execution_count": 2,
   "metadata": {},
   "outputs": [],
   "source": [
    "# import qat\n",
    "\n",
    "import sys\n",
    "import importlib.util; \n",
    "# spec = importlib.util.spec_from_file_location(\"qat\",\"/home/gsilvi/miniforge3/envs/NEASQC4featMYQLM/lib/python3.9/site-packages/qat/__init__.py\",submodule_search_locations=[''])\n",
    "# module = importlib.util.module_from_spec(spec)\n",
    "\n",
    "# spec.loader.exec_module(module)\n",
    "# spec2 = importlib.util.spec_from_file_location(\"qat.interop\",\"/home/gsilvi/miniforge3/envs/NEASQC4featMYQLM/lib/python3.9/site-packages/qat/interop/__init__.py\",submodule_search_locations=[''])\n",
    "# module2 = importlib.util.module_from_spec(spec2)\n",
    "\n",
    "# spec2.loader.exec_module(module2)\n",
    "spec3 = importlib.util.spec_from_file_location(\"qat\",\"/home/gsilvi/miniforge3/envs/NEASQC4featMYQLM/lib/python3.9/site-packages/qat/__init__.py\",submodule_search_locations=[])\n",
    "module3 = importlib.util.module_from_spec(spec3)\n",
    "sys.modules['qat'] = module3\n",
    "spec3.loader.exec_module(module3)\n",
    "\n",
    "sys.modules['qat2'] = module3\n",
    "\n",
    "\n",
    "from qat2.interop.qiskit import qiskit_to_qlm"
   ]
  },
  {
   "cell_type": "code",
   "execution_count": 117,
   "metadata": {},
   "outputs": [
    {
     "data": {
      "text/plain": [
       "\"['/home/gsilvi/Projects/NEASQ-4/Variationals_algorithms/misc/notebooks', '/home/gsilvi/miniforge3/envs/NEASQC4featMYQLM/lib/python39.zip', '/home/gsilvi/miniforge3/envs/NEASQC4featMYQLM/lib/python3.9', '/home/gsilvi/miniforge3/envs/NEASQC4featMYQLM/lib/python3.9/lib-dynload', '', '/home/gsilvi/miniforge3/envs/NEASQC4featMYQLM/lib/python3.9/site-packages', '/home/gsilvi/Projects/NEASQ-4/Variationals_algorithms', '/home/gsilvi/miniforge3/envs/NEASQC4featMYQLM/lib/python3.9/site-packages/IPython/extensions', '/home/gsilvi/.ipython', '/home/gsilvi/.local/lib/python3.9/site-packages']\""
      ]
     },
     "execution_count": 117,
     "metadata": {},
     "output_type": "execute_result"
    }
   ],
   "source": [
    "str(sys.path)"
   ]
  },
  {
   "cell_type": "code",
   "execution_count": 41,
   "metadata": {},
   "outputs": [
    {
     "name": "stdout",
     "output_type": "stream",
     "text": [
      "None\n",
      "Result [-1.13730603+0.j]  ,exec_time= 2.708992980999028\n"
     ]
    }
   ],
   "source": [
    "# convert only the ansatz and pass the hamiltonian via matrix to Observables)\n",
    "from qat.interop.qiskit import qiskit_to_qlm\n",
    "from qat.core import Observable\n",
    "\n",
    "\n",
    "from qiskit.compiler import transpile\n",
    "\n",
    "def VQEwrapper_to_stack(groundstate_solver, es_problem, stack):\n",
    "    #if isinstance(groundstate_solver._solver, MinimumEigensolverFactory):\n",
    "    # this must be called after transformation.transform\n",
    "    solver = groundstate_solver._solver.get_solver(es_problem, groundstate_solver._qubit_converter)\n",
    "    #solver = groundstate_solver.solver\n",
    "    ansatz_in_use = solver.ansatz\n",
    "    #backend = solver.quantum_instance.backend\n",
    "    backend = QPUToBackend(stack.qpu)\n",
    "\n",
    "    transpiled_circ = transpile(ansatz_in_use.decompose(),\n",
    "                                basis_gates = backend.configuration().basis_gates,\n",
    "                                optimization_level = 0)\n",
    "    qcirc = qiskit_to_qlm(transpiled_circ)    \n",
    "\n",
    "    # Convert the observable/hamiltonian\n",
    "    \n",
    "    fermionic_hamiltonian = es_problem.second_q_ops()[0]\n",
    "    hamiltonian_spin = groundstate_solver._qubit_converter.convert_match(fermionic_hamiltonian)\n",
    "    num_qubits = hamiltonian_spin.num_qubits\n",
    "    # print(num_qubits, hamiltonian_spin)\n",
    "    job = qcirc.to_job(observable = Observable(num_qubits, matrix=hamiltonian_spin.to_matrix()))  \n",
    "\n",
    "    # Stack to run locally (seems faster)\n",
    "    \n",
    "    start = time.time()\n",
    "    calculation = stack.submit(job)\n",
    "    end = time.time()\n",
    "\n",
    "    #print(\"Final energy :\", calculation.value , ' , exec time =', end - start)      \n",
    "    # Convert to qiskit results format        \n",
    "    raw_result = solver.compute_minimum_eigenvalue.__annotations__['return']()   \n",
    "    raw_result.eigenvalue =  calculation.value\n",
    "    raw_result.optimal_parameters = solver.ansatz.parameters\n",
    "    dict_param = {}\n",
    "    for i,par in enumerate(solver.ansatz.parameters):\n",
    "        dict_param[par] = calculation.parameter_map[str(par)]\n",
    "    raw_result.eigenstate = solver._get_eigenstate(dict_param)\n",
    "    \n",
    "    result = es_problem.interpret(raw_result)\n",
    "    return result\n",
    "\n",
    "\n",
    "\n",
    "#the problem\n",
    "quantum_instance = QuantumInstance(backend=backend_localQiskit[1], shots=shots,  max_credits=None)\n",
    "vqe_solver = VQEUCCFactory(quantum_instance, optimizer=optimizer, ansatz= ansatz_in_use)\n",
    "calc = GroundStateEigensolver(qubit_converter, vqe_solver)\n",
    "\n",
    "#the stack\n",
    "stack = ScipyMinimizePluginLocal(method=\"COBYLA\") | get_default_qpu()\n",
    "start = time.time()\n",
    "res2 = VQEwrapper_to_stack(groundstate_solver=calc , es_problem=es_problem , stack=stack)\n",
    "end = time.time()\n",
    "\n",
    "print('Result',res2.total_energies,' ,exec_time=', end - start)"
   ]
  },
  {
   "cell_type": "code",
   "execution_count": null,
   "metadata": {},
   "outputs": [],
   "source": [
    "from qiskit.algorithms import VQE\n",
    "from qiskit.opflow import (\n",
    "    OperatorBase,\n",
    "    StateFn\n",
    ")\n",
    "import numpy as np\n",
    "from typing import Optional, List, Callable, Union, Dict, Tuple\n",
    "from qat.qlmaas.result import AsyncResult\n",
    "\n",
    "class VQE_MyQLM(VQE):\n",
    "    def get_energy_evaluation(\n",
    "        self,\n",
    "        operator: OperatorBase,\n",
    "        return_expectation: bool = False,\n",
    "    ) -> Callable[[np.ndarray], Union[float, List[float]]]:\n",
    "        \"\"\"Returns a function handle to evaluates the energy at given parameters for the ansatz.\n",
    "\n",
    "        This is the objective function to be passed to the optimizer that is used for evaluation.\n",
    "\n",
    "        Args:\n",
    "            operator: The operator whose energy to evaluate.\n",
    "            return_expectation: If True, return the ``ExpectationBase`` expectation converter used\n",
    "                in the construction of the expectation value. Useful e.g. to evaluate other\n",
    "                operators with the same expectation value converter.\n",
    "\n",
    "\n",
    "        Returns:\n",
    "            Energy of the hamiltonian of each parameter, and, optionally, the expectation\n",
    "            converter.\n",
    "\n",
    "        Raises:\n",
    "            RuntimeError: If the circuit is not parameterized (i.e. has 0 free parameters).\n",
    "\n",
    "        \"\"\"\n",
    "        num_parameters = self.ansatz.num_parameters\n",
    "        if num_parameters == 0:\n",
    "            raise RuntimeError(\"The ansatz must be parameterized, but has 0 free parameters.\")\n",
    "\n",
    "        expect_op, expectation = self.construct_expectation(\n",
    "            self._ansatz_params, operator, return_expectation=True\n",
    "        )\n",
    "        # tobservable_meas = expectation.convert(StateFn(operator, is_measurement=True))\n",
    "        # print(operator,tobservable_meas.to_matrix())\n",
    "        def create_job(operator,params):\n",
    "            # check if the parameters passed are a range or single value\n",
    "            if params is not None and len(params.keys()) > 0:\n",
    "                p_0 = list(params.values())[0]\n",
    "                if isinstance(p_0, (list, np.ndarray)):\n",
    "                    num_parameterizations = len(p_0)\n",
    "                    param_bindings = [\n",
    "                        {param: value_list[i] for param, value_list in params.items()}  # type: ignore\n",
    "                        for i in range(num_parameterizations)\n",
    "                    ]\n",
    "                    return_as_list = True\n",
    "                else:\n",
    "                    num_parameterizations = 1\n",
    "                    param_bindings = [params]\n",
    "\n",
    "            else:\n",
    "                param_bindings = None\n",
    "                num_parameterizations = 1\n",
    "            #print('param_bindings',param_bindings)\n",
    "            results = []\n",
    "            for circ_params in param_bindings:\n",
    "                ansatz_in_use = self._ansatz.bind_parameters(circ_params)\n",
    "                \n",
    "                transpiled_circ = transpile(ansatz_in_use.decompose(),\n",
    "                                    basis_gates = self._quantum_instance.backend.configuration().basis_gates,\n",
    "                                    optimization_level = 0)\n",
    "                qcirc = qiskit_to_qlm(transpiled_circ)\n",
    "\n",
    "                job = qcirc.to_job(observable = Observable(operator.num_qubits, matrix=operator.to_matrix()))\n",
    "                result_temp = self.submit_job(job)\n",
    "                if isinstance(result_temp,AsyncResult):\n",
    "                    while result_temp.get_status()!='done':\n",
    "                        time.sleep(.1)\n",
    "                    result = result_temp.get_result()\n",
    "                else:\n",
    "                    result= result_temp\n",
    "                results.append(result.value)\n",
    "            return results\n",
    "\n",
    "        def energy_evaluation(parameters):\n",
    "            parameter_sets = np.reshape(parameters, (-1, num_parameters))\n",
    "            \n",
    "            #print(expect_op, expectation)\n",
    "            # Create dict associating each parameter with the lists of parameterization values for it\n",
    "            param_bindings = dict(zip(self._ansatz_params, parameter_sets.transpose().tolist()))\n",
    "            #print('param_bindings',param_bindings)\n",
    "            #start_time = time()\n",
    "            # sampled_expect_op = self._circuit_sampler.convert(expect_op, params=param_bindings)\n",
    "            # means = np.real(sampled_expect_op.eval())\n",
    "            # print('their',means,param_bindings, type(expect_op))\n",
    "            #MODMOD\n",
    "            # print('evaluation')\n",
    "            # print(operator)\n",
    "            # print(sampled_expect_op.num_qubits)\n",
    "            # print(param_bindings)\n",
    "            # print('pre check',operator.num_qubits,operator.to_matrix())\n",
    "            #print('check',[(type(i),i.oplist) for i in tobservable_meas],tobservable_meas.to_matrix())\n",
    "            means = np.real(create_job(operator,param_bindings))\n",
    "            print('mine',means, parameters)\n",
    "            #MODMOD\n",
    "\n",
    "            if self._callback is not None:\n",
    "                parameter_sets = np.reshape(parameters, (-1, num_parameters))\n",
    "                param_bindings = dict(zip(self._ansatz_params, parameter_sets.transpose().tolist()))\n",
    "                variance = np.real(expectation.compute_variance(self._circuit_sampler.convert(expect_op, params=param_bindings)))\n",
    "                estimator_error = np.sqrt(variance / self.quantum_instance.run_config.shots)\n",
    "                for i, param_set in enumerate(parameter_sets):\n",
    "                    self._eval_count += 1\n",
    "                    self._callback(self._eval_count, param_set, means[i], estimator_error[i])\n",
    "            else:\n",
    "                self._eval_count += len(means)\n",
    "\n",
    "            #end_time = time()\n",
    "           \n",
    "\n",
    "            return means if len(means) > 1 else means[0]\n",
    "\n",
    "        if return_expectation:\n",
    "            return energy_evaluation, expectation\n",
    "\n",
    "        return energy_evaluation\n",
    "\n",
    "\n",
    "# vqe_solver = VQEUCCFactory(quantum_instance, optimizer=optimizer, ansatz= ansatz_in_use)\n",
    "#the problem\n",
    "quantum_instance = QuantumInstance(backend=backend_localQiskit[1], shots=shots,  max_credits=None)\n",
    "vqe_solver = VQEUCCFactory(quantum_instance, optimizer=optimizer, ansatz= ansatz_in_use)\n",
    "from qiskit_mod.qiskit_nat import VHA\n",
    "vha_solver = VQEUCCFactory(quantum_instance, optimizer=optimizer, ansatz=VHA(excitations='sd', trotter_steps=2, only_excitations=True))\n",
    "\n",
    "calc = GroundStateEigensolver(qubit_converter, vha_solver)\n",
    "\n",
    "calc.solver._vqe = VQE_MyQLM(ansatz=None,\n",
    "            quantum_instance=calc.solver._quantum_instance,\n",
    "            optimizer=calc.solver._optimizer,\n",
    "            initial_point=calc.solver._initial_point,\n",
    "            gradient=calc.solver._gradient,\n",
    "            expectation=calc.solver._expectation,\n",
    "            include_custom=calc.solver._include_custom)\n",
    "# calc.solver._vqe.submit_job= 'xxx'\n",
    "from qiskit_nature.algorithms import AdaptVQE\n",
    "#test adaptVQE\n",
    "adapt_calc = AdaptVQE(qubit_converter, vqe_solver, threshold=0.001)\n",
    "adapt_calc.solver._vqe = VQE_MyQLM(ansatz=None,\n",
    "            quantum_instance=calc.solver._quantum_instance,\n",
    "            optimizer=calc.solver._optimizer,\n",
    "            initial_point=calc.solver._initial_point,\n",
    "            gradient=calc.solver._gradient,\n",
    "            expectation=calc.solver._expectation,\n",
    "            include_custom=calc.solver._include_custom)\n"
   ]
  },
  {
   "cell_type": "code",
   "execution_count": null,
   "metadata": {},
   "outputs": [],
   "source": [
    "import numpy as np\n",
    "from qat.plugins import Junction\n",
    "from qat.qpus import get_default_qpu\n",
    "from qat.core import Result\n",
    "from qat.core.plugins import AbstractPlugin\n",
    "\n",
    "\n",
    "\n",
    "\n",
    "\n",
    "class IterativeExploration(Junction):\n",
    "    def __init__(self, method, es_problem):\n",
    "        super(IterativeExploration, self).__init__()\n",
    "        #print(method)\n",
    "        self.method = method\n",
    "        self.problem = es_problem\n",
    "\n",
    "    def run(self, initial_job, meta_data):\n",
    "\n",
    "        self.method.solver._vqe.submit_job = self.execute\n",
    "\n",
    "        result = self.method.solve(self.problem)\n",
    "\n",
    "\n",
    "        print(result.total_energies)\n",
    "        return Result(value=result.total_energies[0], meta_data=meta_data)\n",
    "    def get_specs(x):\n",
    "        return\n",
    "\n",
    "# class MyPlugin(AbstractPlugin):\n",
    "#     def __init__(self, method, es_problem):\n",
    "#         # super(IterativeExploration, self).__init__()\n",
    "#         print(method)\n",
    "#         self.method = method\n",
    "#         self.problem = es_problem\n",
    "#     def compile(self, batch, hardware_specs):\n",
    "#         result = self.method(self.problem)\n",
    "#         print(result.total_energies)\n",
    "#         return batch\n",
    "\n",
    "#     def post_process(self, batch_result):\n",
    "#         # do something with the execution results\n",
    "#         for result in batch_result.results:\n",
    "#             print('Result of size', len(result.raw_data))\n",
    "#         return batch_result\n",
    "\n",
    "#     def do_post_processing(self):\n",
    "#         return False\n",
    "\n",
    "\n",
    "#modfify the solver\n",
    "\n",
    "\n",
    "\n",
    "# Building a simple stack\n",
    "qpu = get_default_qpu()\n",
    "stack = IterativeExploration(adapt_calc, es_problem) | qpu\n",
    "# stack = MyPlugin(calc.solve, es_problem) | qpu\n",
    "\n",
    "\n",
    "# and a simple job\n",
    "from qat.core import Observable\n",
    "from qat.lang.AQASM import Program, RY\n",
    "\n",
    "prog = Program()\n",
    "qbits = prog.qalloc(1)\n",
    "prog.apply(RY(prog.new_var(float, r\"\\beta\")), qbits)\n",
    "job = prog.to_circ().to_job(observable=Observable.sigma_z(0, 1))\n",
    "#/ and a simple job\n",
    "start = time.time()\n",
    "calculation = stack.submit(job)\n",
    "end = time.time()\n",
    "\n",
    "print('Result',calculation.value,' ,exec_time=', end - start)"
   ]
  },
  {
   "cell_type": "code",
   "execution_count": null,
   "metadata": {},
   "outputs": [],
   "source": [
    "adapt_calc.solve(es_problem).total_energies"
   ]
  },
  {
   "cell_type": "code",
   "execution_count": null,
   "metadata": {},
   "outputs": [],
   "source": []
  },
  {
   "cell_type": "code",
   "execution_count": null,
   "metadata": {},
   "outputs": [],
   "source": [
    "remote = True\n",
    "\n",
    "if remote:\n",
    "    from qat.qlmaas import QLMaaSConnection\n",
    "    from qlmaas.qpus import LinAlg\n",
    "    from qlmaas.plugins import Nnizer,ScipyMinimizePlugin\n",
    "    qpu = LinAlg()\n",
    "    stack = IterativeExploration(adapt_calc, es_problem) | qpu\n",
    "\n",
    "    start = time.time()\n",
    "    result_remote = stack.submit(job)\n",
    "    end = time.time()\n",
    "    print('Result',result_remote.value,' ,exec_time=', end - start)"
   ]
  },
  {
   "cell_type": "code",
   "execution_count": null,
   "metadata": {},
   "outputs": [],
   "source": []
  },
  {
   "cell_type": "code",
   "execution_count": null,
   "metadata": {},
   "outputs": [],
   "source": [
    "\n",
    "\n",
    "quantum_instance = QuantumInstance(backend=backend_localQiskit[1], shots=shots,  max_credits=None)\n",
    "vqe_solver = VQEUCCFactory(quantum_instance, optimizer=optimizer, ansatz= ansatz_in_use)\n",
    "calc = GroundStateEigensolver(qubit_converter, vqe_solver)\n",
    "remote_qpu = LinAlg()\n",
    "stack = build_QLM_stack(calc,es_problem,remote_qpu)"
   ]
  },
  {
   "cell_type": "code",
   "execution_count": null,
   "metadata": {},
   "outputs": [],
   "source": [
    "solution = stack.submit(simple_qlm_job())\n",
    "print(solution.value)"
   ]
  },
  {
   "cell_type": "code",
   "execution_count": null,
   "metadata": {},
   "outputs": [],
   "source": [
    "sol = calc.solve(es_problem)\n",
    "print(sol.total_energies)"
   ]
  },
  {
   "cell_type": "code",
   "execution_count": null,
   "metadata": {},
   "outputs": [],
   "source": [
    "stack.submit_job(simple_qlm_job())"
   ]
  },
  {
   "cell_type": "code",
   "execution_count": null,
   "metadata": {},
   "outputs": [],
   "source": []
  },
  {
   "cell_type": "code",
   "execution_count": null,
   "metadata": {},
   "outputs": [],
   "source": [
    "junk = IterativeExploration(adapt_calc, es_problem)"
   ]
  },
  {
   "cell_type": "code",
   "execution_count": null,
   "metadata": {},
   "outputs": [],
   "source": [
    "junk.get_specs()"
   ]
  },
  {
   "cell_type": "code",
   "execution_count": null,
   "metadata": {},
   "outputs": [],
   "source": [
    "remote_qpu.conn.port"
   ]
  },
  {
   "cell_type": "code",
   "execution_count": null,
   "metadata": {},
   "outputs": [],
   "source": [
    "remote_qpu.conn.connection.host"
   ]
  },
  {
   "cell_type": "code",
   "execution_count": null,
   "metadata": {},
   "outputs": [],
   "source": [
    "import qlmaas"
   ]
  },
  {
   "cell_type": "code",
   "execution_count": null,
   "metadata": {},
   "outputs": [],
   "source": [
    "qlmaas.plugins.__all__\n"
   ]
  },
  {
   "cell_type": "code",
   "execution_count": null,
   "metadata": {},
   "outputs": [],
   "source": [
    "from qlmaas.plugins import UploadedPlugin\n",
    "\n",
    "stack = UploadedPlugin(IterativeExploration(calc,es_problem))"
   ]
  },
  {
   "cell_type": "code",
   "execution_count": null,
   "metadata": {},
   "outputs": [],
   "source": [
    "print(UploadedPlugin.__doc__)"
   ]
  },
  {
   "cell_type": "code",
   "execution_count": null,
   "metadata": {},
   "outputs": [],
   "source": [
    "from qlmaas import __init__\n"
   ]
  },
  {
   "cell_type": "code",
   "execution_count": null,
   "metadata": {},
   "outputs": [],
   "source": [
    "from qat.bind.qlmaas_QLMHelpers_client import RemoteQLMHelpers"
   ]
  },
  {
   "cell_type": "code",
   "execution_count": null,
   "metadata": {},
   "outputs": [],
   "source": [
    "print(RemoteQLMHelpers.get_qpus.)"
   ]
  },
  {
   "cell_type": "code",
   "execution_count": null,
   "metadata": {},
   "outputs": [],
   "source": [
    "np.max.__str__"
   ]
  },
  {
   "cell_type": "code",
   "execution_count": null,
   "metadata": {},
   "outputs": [],
   "source": [
    "# convert only the ansatz and pass the hamiltonian via matrix to Observables)\n",
    "from qat.interop.qiskit import qiskit_to_qlm\n",
    "from qat.core import Observable\n",
    "\n",
    "\n",
    "from qiskit.compiler import transpile\n",
    "#first version (obsolete)\n",
    "\n",
    "def VQEwrapper_to_stack(groundstate_solver, es_problem, stack):\n",
    "    #if isinstance(groundstate_solver._solver, MinimumEigensolverFactory):\n",
    "    # this must be called after transformation.transform\n",
    "    solver = groundstate_solver._solver.get_solver(es_problem, groundstate_solver._qubit_converter)\n",
    "    #solver = groundstate_solver.solver\n",
    "    ansatz_in_use = solver.ansatz\n",
    "    #backend = solver.quantum_instance.backend\n",
    "    backend = QPUToBackend(stack.qpu)\n",
    "\n",
    "    transpiled_circ = transpile(ansatz_in_use.decompose(),\n",
    "                                basis_gates = backend.configuration().basis_gates,\n",
    "                                optimization_level = 0)\n",
    "    qcirc = qiskit_to_qlm(transpiled_circ)    \n",
    "\n",
    "    # Convert the observable/hamiltonian\n",
    "    \n",
    "    fermionic_hamiltonian = es_problem.second_q_ops()[0]\n",
    "    hamiltonian_spin = groundstate_solver._qubit_converter.convert_match(fermionic_hamiltonian)\n",
    "    num_qubits = hamiltonian_spin.num_qubits\n",
    "    # print(num_qubits, hamiltonian_spin)\n",
    "    job = qcirc.to_job(observable = Observable(num_qubits, matrix=hamiltonian_spin.to_matrix()))  \n",
    "\n",
    "    # Stack to run locally (seems faster)\n",
    "    \n",
    "    start = time.time()\n",
    "    calculation = stack.submit(job)\n",
    "    end = time.time()\n",
    "\n",
    "    #print(\"Final energy :\", calculation.value , ' , exec time =', end - start)      \n",
    "    # Convert to qiskit results format        \n",
    "    raw_result = solver.compute_minimum_eigenvalue.__annotations__['return']()   \n",
    "    raw_result.eigenvalue =  calculation.value\n",
    "    raw_result.optimal_parameters = solver.ansatz.parameters\n",
    "    dict_param = {}\n",
    "    for i,par in enumerate(solver.ansatz.parameters):\n",
    "        dict_param[par] = calculation.parameter_map[str(par)]\n",
    "    raw_result.eigenstate = solver._get_eigenstate(dict_param)\n",
    "    \n",
    "    result = es_problem.interpret(raw_result)\n",
    "    return result\n",
    "    \n",
    "                    "
   ]
  }
 ],
 "metadata": {
  "interpreter": {
   "hash": "9ccf4f92e99f5e8daa56ac2509d5c1bb7d65182292a5e7afa66a01e56ade4c9c"
  },
  "kernelspec": {
   "display_name": "Python 3.9.7 ('NEASQC4featMYQLM')",
   "language": "python",
   "name": "python3"
  },
  "language_info": {
   "codemirror_mode": {
    "name": "ipython",
    "version": 3
   },
   "file_extension": ".py",
   "mimetype": "text/x-python",
   "name": "python",
   "nbconvert_exporter": "python",
   "pygments_lexer": "ipython3",
   "version": "3.9.7"
  },
  "orig_nbformat": 4
 },
 "nbformat": 4,
 "nbformat_minor": 2
}
