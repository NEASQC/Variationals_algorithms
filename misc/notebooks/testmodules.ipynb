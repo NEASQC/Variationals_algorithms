{
 "cells": [
  {
   "cell_type": "code",
   "execution_count": 1,
   "metadata": {},
   "outputs": [],
   "source": [
    "from qat.interop.qiskit import QPUToBackend\n",
    "from qat.qpus import PyLinalg,get_default_qpu\n",
    "from qiskit import QuantumRegister, QuantumCircuit, ClassicalRegister, execute, Aer\n",
    "from qat.comm.shared.ttypes import Batch\n",
    "from qiskit.utils import QuantumInstance\n",
    "from qiskit.opflow import CircuitSampler,StateFn,I,Z,One,CircuitStateFn"
   ]
  },
  {
   "cell_type": "markdown",
   "metadata": {},
   "source": [
    "### Testing myqlm-to-qiskit module with simple circuit, Bell state"
   ]
  },
  {
   "cell_type": "code",
   "execution_count": 2,
   "metadata": {},
   "outputs": [
    {
     "data": {
      "text/plain": [
       "<qiskit.circuit.instructionset.InstructionSet at 0x7f63b1333d60>"
      ]
     },
     "execution_count": 2,
     "metadata": {},
     "output_type": "execute_result"
    }
   ],
   "source": [
    "nbqubits = 2\n",
    "\n",
    "qreg = QuantumRegister(nbqubits)\n",
    "creg = ClassicalRegister(nbqubits)\n",
    "\n",
    "qiskit_circuit = QuantumCircuit(qreg, creg)\n",
    "\n",
    "qiskit_circuit.h(qreg[0])\n",
    "qiskit_circuit.cx(qreg[0], qreg[1])\n",
    "qiskit_circuit.measure(qreg, creg)\n",
    "\n",
    "\n",
    "#ALTERNATICE CIRCUIT, LIKE THE ABOVE BUT WITHOUT MEASURE AND CREG\n",
    "nbqubits = 3\n",
    "qreg = QuantumRegister(nbqubits)\n",
    "qiskit_circuit_2 = QuantumCircuit(qreg)\n",
    "\n",
    "qiskit_circuit_2.h(qreg[0])\n",
    "qiskit_circuit_2.cx(qreg[0], qreg[1])"
   ]
  },
  {
   "cell_type": "code",
   "execution_count": 3,
   "metadata": {},
   "outputs": [
    {
     "name": "stdout",
     "output_type": "stream",
     "text": [
      "QiskitConnector\n"
     ]
    }
   ],
   "source": [
    "shots = 100#000\n",
    "\n",
    "#DEFINE 2 BACKENDS TO USE\n",
    "qpu = PyLinalg()\n",
    "qpu = get_default_qpu()\n",
    "backendQLM = QPUToBackend(qpu)\n",
    "print(backendQLM)\n",
    "\n",
    "backendQiskit = Aer.get_backend('aer_simulator')"
   ]
  },
  {
   "cell_type": "code",
   "execution_count": 4,
   "metadata": {},
   "outputs": [
    {
     "name": "stdout",
     "output_type": "stream",
     "text": [
      "[ExperimentResult(shots=100, success=True, meas_level=2, data=ExperimentResultData(counts={'0x3': 39, '0x0': 61}), header=QobjExperimentHeader(memory_slots=2, metadata=None))]\n"
     ]
    }
   ],
   "source": [
    "#PURE QLM MACHINE\n",
    "\n",
    "\n",
    "result = execute(qiskit_circuit, backendQLM, shots=shots).result()\n",
    "\n",
    "print(result.results)\n"
   ]
  },
  {
   "cell_type": "code",
   "execution_count": 5,
   "metadata": {},
   "outputs": [
    {
     "name": "stdout",
     "output_type": "stream",
     "text": [
      "[ExperimentResult(shots=100, success=True, meas_level=2, data=ExperimentResultData(counts={'0x0': 57, '0x3': 43}), header=QobjExperimentHeader(memory_slots=2, metadata=None))]\n"
     ]
    }
   ],
   "source": [
    "#PURE QLM MACHINE THROUGH QUANTUM INSTANCE (VERY SIMILAR TO THE ONE ABOVE)\n",
    "quantum_instance = QuantumInstance(backend=backendQLM, shots=shots, max_credits=None)\n",
    "result = quantum_instance.execute(qiskit_circuit) # had_transpiled=True\n",
    "print(result.results)\n",
    "\n"
   ]
  },
  {
   "cell_type": "code",
   "execution_count": 6,
   "metadata": {},
   "outputs": [
    {
     "name": "stdout",
     "output_type": "stream",
     "text": [
      "[ExperimentResult(shots=100, success=True, meas_level=2, data=ExperimentResultData(counts={'0x3': 50, '0x0': 50}), header=QobjExperimentHeader(clbit_labels=[['c0', 0], ['c0', 1]], creg_sizes=[['c0', 2]], global_phase=0.0, memory_slots=2, metadata=None, n_qubits=2, name='circuit-7', qreg_sizes=[['q0', 2]], qubit_labels=[['q0', 0], ['q0', 1]]), status=DONE, seed_simulator=2690986483, metadata={'parallel_state_update': 8, 'noise': 'ideal', 'measure_sampling': True, 'device': 'CPU', 'num_qubits': 2, 'parallel_shots': 1, 'remapped_qubits': False, 'method': 'stabilizer', 'active_input_qubits': [0, 1], 'num_clbits': 2, 'input_qubit_map': [[1, 1], [0, 0]], 'fusion': {'enabled': False}}, time_taken=0.00040588200000000004)]\n"
     ]
    }
   ],
   "source": [
    "#QISKIT BACKEND\n",
    "\n",
    "quantum_instance = QuantumInstance(backend=backendQiskit, shots=shots, max_credits=None)\n",
    "result = quantum_instance.execute(qiskit_circuit) # had_transpiled=True\n",
    "print(result.results)\n"
   ]
  },
  {
   "cell_type": "code",
   "execution_count": 7,
   "metadata": {},
   "outputs": [
    {
     "name": "stdout",
     "output_type": "stream",
     "text": [
      "ComposedOp([\n",
      "  OperatorMeasurement(ZII),\n",
      "  DictStateFn({'011': 0.7416198487095663, '000': 0.6708203932499369})\n",
      "])\n"
     ]
    },
    {
     "data": {
      "text/plain": [
       "(1+0j)"
      ]
     },
     "execution_count": 7,
     "metadata": {},
     "output_type": "execute_result"
    }
   ],
   "source": [
    "#QISKIT BACKEND WITH CIRCUIT SAMPLER INSTEAD\n",
    "quantum_instance = QuantumInstance(backend=backendQiskit,shots=shots,max_credits=None)\n",
    "sampler = CircuitSampler(quantum_instance)\n",
    "\n",
    "\n",
    "exp = ~StateFn(Z@Z@Z) @ CircuitStateFn(qiskit_circuit_2)\n",
    "converted = sampler.convert(exp)\n",
    "print(converted)\n",
    "converted.eval()\n",
    "\n"
   ]
  },
  {
   "cell_type": "code",
   "execution_count": 8,
   "metadata": {},
   "outputs": [
    {
     "name": "stdout",
     "output_type": "stream",
     "text": [
      "ComposedOp([\n",
      "  OperatorMeasurement(III),\n",
      "  DictStateFn({'110': 0.6633249580710799, '000': 0.7483314773547883})\n",
      "])\n"
     ]
    },
    {
     "data": {
      "text/plain": [
       "(1+0j)"
      ]
     },
     "execution_count": 8,
     "metadata": {},
     "output_type": "execute_result"
    }
   ],
   "source": [
    "#QLM BACKEND WITH CIRCUIT SAMPLER INSTEAD\n",
    "\n",
    "quantum_instance = QuantumInstance(backend=backendQLM,shots=shots,max_credits=None)\n",
    "sampler = CircuitSampler(quantum_instance)\n",
    "\n",
    "exp = ~StateFn(Z@Z) @ CircuitStateFn(qiskit_circuit_2)\n",
    "converted = sampler.convert(exp)\n",
    "print(converted)\n",
    "converted.eval()"
   ]
  },
  {
   "cell_type": "markdown",
   "metadata": {},
   "source": [
    "BUG FIXED: {'memory_slots': 3} \n",
    "Problem encounterd in qiskit-result.py line ~296\n",
    "Fixed in providers.py from myqlm-interop\n",
    "This metadata missing in the header of the result from MyQLM causes the conversion from hexa to binary to miss the extra 0 in the highest bits, e.g. 00011100 would be 11100, so it misrepresent the qubits present"
   ]
  }
 ],
 "metadata": {
  "interpreter": {
   "hash": "9ccf4f92e99f5e8daa56ac2509d5c1bb7d65182292a5e7afa66a01e56ade4c9c"
  },
  "kernelspec": {
   "display_name": "Python 3.9.7 64-bit ('NEASQC4featMYQLM': conda)",
   "language": "python",
   "name": "python3"
  },
  "language_info": {
   "codemirror_mode": {
    "name": "ipython",
    "version": 3
   },
   "file_extension": ".py",
   "mimetype": "text/x-python",
   "name": "python",
   "nbconvert_exporter": "python",
   "pygments_lexer": "ipython3",
   "version": "3.9.7"
  },
  "orig_nbformat": 4
 },
 "nbformat": 4,
 "nbformat_minor": 2
}
